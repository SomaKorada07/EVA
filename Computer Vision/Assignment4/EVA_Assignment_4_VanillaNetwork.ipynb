{
  "nbformat": 4,
  "nbformat_minor": 0,
  "metadata": {
    "colab": {
      "name": "EVA_Assignment_4_VanillaNetwork.ipynb",
      "version": "0.3.2",
      "provenance": [],
      "collapsed_sections": []
    },
    "kernelspec": {
      "name": "python3",
      "display_name": "Python 3"
    },
    "accelerator": "GPU"
  },
  "cells": [
    {
      "cell_type": "markdown",
      "metadata": {
        "id": "85PBbEs-jTv0",
        "colab_type": "text"
      },
      "source": [
        "#VANILLA NETWORK\n",
        "\n",
        "\n",
        "*   Will keep the parameters count less than 15k as it is a constraint for the assignment.\n",
        "*   Will keep the same batch size - 32.\n",
        "*   Will keep the Learning Rate as default one.\n",
        "*   Will keep the optimizer same as 'adam'.\n",
        "*   Will run for more epochs (say 50) to see the capacity of the network."
      ]
    },
    {
      "cell_type": "markdown",
      "metadata": {
        "id": "aNyZv-Ec52ot",
        "colab_type": "text"
      },
      "source": [
        "# **Import Libraries and modules**"
      ]
    },
    {
      "cell_type": "code",
      "metadata": {
        "id": "3m3w1Cw49Zkt",
        "colab_type": "code",
        "outputId": "b8ca6b2d-5423-42b1-9bf0-d707715e445d",
        "colab": {
          "base_uri": "https://localhost:8080/",
          "height": 34
        }
      },
      "source": [
        "# https://keras.io/\n",
        "# Installing Keras which is open-source neural-network library written in Python.\n",
        "!pip install -q keras\n",
        "\n",
        "# Importing the keras library.\n",
        "import keras"
      ],
      "execution_count": 1,
      "outputs": [
        {
          "output_type": "stream",
          "text": [
            "Using TensorFlow backend.\n"
          ],
          "name": "stderr"
        }
      ]
    },
    {
      "cell_type": "code",
      "metadata": {
        "id": "Eso6UHE080D4",
        "colab_type": "code",
        "colab": {}
      },
      "source": [
        "# Importing NumPy (Numerical Python) which is a library consisting of multidimensional array objects and a collection of routines for processing those arrays. It also gives an alias to the library.\n",
        "import numpy as np\n",
        "\n",
        "# There are two main types of models available in Keras: the Sequential model and the Model class used with the functional API.\n",
        "# Sequential model is a linear stack of layers. Importing Sequential model from Keras.\n",
        "from keras.models import Sequential\n",
        "\n",
        "# Importing different layers from Keras.\n",
        "from keras.layers import Dense, Dropout, Activation, Flatten, Add\n",
        "from keras.layers import Convolution2D, MaxPooling2D, BatchNormalization\n",
        "\n",
        "# Importing the utils library of Keras.\n",
        "from keras.utils import np_utils\n",
        "\n",
        "# Importing the callbacks of Keras.\n",
        "from keras.callbacks import ModelCheckpoint\n",
        "\n",
        "# MNIST is a database of handwritten digits. It is a dataset of 60,000 28x28 grayscale images of the 10 digits, along with a test set of 10,000 images. Importing MNIST dataset from Keras.\n",
        "from keras.datasets import mnist"
      ],
      "execution_count": 0,
      "outputs": []
    },
    {
      "cell_type": "markdown",
      "metadata": {
        "id": "zByEi95J86RD",
        "colab_type": "text"
      },
      "source": [
        "### Load pre-shuffled MNIST data into train and test sets"
      ]
    },
    {
      "cell_type": "code",
      "metadata": {
        "id": "7eRM0QWN83PV",
        "colab_type": "code",
        "outputId": "dbf3dda8-5c8f-4f43-b5df-bb5d2cf7dab3",
        "colab": {
          "base_uri": "https://localhost:8080/",
          "height": 51
        }
      },
      "source": [
        "# Loading the MNIST 60000 Training and 10000 Test data into respective numpy arrays\n",
        "(X_train, y_train), (X_test, y_test) = mnist.load_data()"
      ],
      "execution_count": 3,
      "outputs": [
        {
          "output_type": "stream",
          "text": [
            "Downloading data from https://s3.amazonaws.com/img-datasets/mnist.npz\n",
            "11493376/11490434 [==============================] - 0s 0us/step\n"
          ],
          "name": "stdout"
        }
      ]
    },
    {
      "cell_type": "code",
      "metadata": {
        "id": "4a4Be72j8-ZC",
        "colab_type": "code",
        "outputId": "881e7ff6-7b57-4988-bd5a-0bd4fc215794",
        "colab": {
          "base_uri": "https://localhost:8080/",
          "height": 303
        }
      },
      "source": [
        "# Printing the shape of the Training data\n",
        "print (X_train.shape)\n",
        "\n",
        "# Matplotlib is a plotting library for Python. Pyplot is a collection of command style functions that make matplotlib work like MATLAB. Each pyplot function makes some change to a figure: e.g., creates a figure, creates a plotting area in a figure, plots some lines in a plotting area, decorates the plot with labels, etc.\n",
        "from matplotlib import pyplot as plt\n",
        "\n",
        "# Sets the backend of matplotlib to 'inline' backend. With this backend, the output of plotting commands is displayed inline within frontends like the Jupyter notebook, directly below the code cell that produced it.\n",
        "%matplotlib inline\n",
        "\n",
        "# Renders the image.\n",
        "plt.imshow(X_train[7777])"
      ],
      "execution_count": 4,
      "outputs": [
        {
          "output_type": "stream",
          "text": [
            "(60000, 28, 28)\n"
          ],
          "name": "stdout"
        },
        {
          "output_type": "execute_result",
          "data": {
            "text/plain": [
              "<matplotlib.image.AxesImage at 0x7ff84bd12080>"
            ]
          },
          "metadata": {
            "tags": []
          },
          "execution_count": 4
        },
        {
          "output_type": "display_data",
          "data": {
            "image/png": "[encoded data removed]",
            "text/plain": [
              "<Figure size 432x288 with 1 Axes>"
            ]
          },
          "metadata": {
            "tags": []
          }
        }
      ]
    },
    {
      "cell_type": "code",
      "metadata": {
        "id": "dkmprriw9AnZ",
        "colab_type": "code",
        "colab": {}
      },
      "source": [
        "# Reshaping the Training and Test data to add the channel parameter as the input to Conv2D layer is expected to be of shape (img_rows, img_cols, num_channels) if data_format=\"channels_last\" which is default.\n",
        "X_train = X_train.reshape(X_train.shape[0], 28, 28,1)\n",
        "X_test = X_test.reshape(X_test.shape[0], 28, 28,1)"
      ],
      "execution_count": 0,
      "outputs": []
    },
    {
      "cell_type": "code",
      "metadata": {
        "id": "X2m4YS4E9CRh",
        "colab_type": "code",
        "colab": {}
      },
      "source": [
        "# Normalizing the Training and Test values\n",
        "X_train = X_train.astype('float32')\n",
        "X_test = X_test.astype('float32')\n",
        "X_train /= 255\n",
        "X_test /= 255"
      ],
      "execution_count": 0,
      "outputs": []
    },
    {
      "cell_type": "code",
      "metadata": {
        "id": "0Mn0vAYD9DvB",
        "colab_type": "code",
        "outputId": "f87abd9b-0230-44d5-be4c-94880f77813f",
        "colab": {
          "base_uri": "https://localhost:8080/",
          "height": 34
        }
      },
      "source": [
        "# Printing the first 10 labelled Training data\n",
        "y_train[:10]"
      ],
      "execution_count": 7,
      "outputs": [
        {
          "output_type": "execute_result",
          "data": {
            "text/plain": [
              "array([5, 0, 4, 1, 9, 2, 1, 3, 1, 4], dtype=uint8)"
            ]
          },
          "metadata": {
            "tags": []
          },
          "execution_count": 7
        }
      ]
    },
    {
      "cell_type": "code",
      "metadata": {
        "id": "ZG8JiXR39FHC",
        "colab_type": "code",
        "colab": {}
      },
      "source": [
        "# Convert 1-dimensional class arrays to 10-dimensional class matrices\n",
        "# np.utils.to_categorical is used to convert array of labelled data (from 0 to nb_classes-1) to one-hot vector.\n",
        "Y_train = np_utils.to_categorical(y_train, 10)\n",
        "Y_test = np_utils.to_categorical(y_test, 10)"
      ],
      "execution_count": 0,
      "outputs": []
    },
    {
      "cell_type": "code",
      "metadata": {
        "id": "fYlFRvKS9HMB",
        "colab_type": "code",
        "outputId": "3c34053b-1a88-4681-fe29-1e5702062796",
        "colab": {
          "base_uri": "https://localhost:8080/",
          "height": 187
        }
      },
      "source": [
        "# Printing the first 10 labelled Training data after converting to one-hot vector.\n",
        "Y_train[:10]\n"
      ],
      "execution_count": 9,
      "outputs": [
        {
          "output_type": "execute_result",
          "data": {
            "text/plain": [
              "array([[0., 0., 0., 0., 0., 1., 0., 0., 0., 0.],\n",
              "       [1., 0., 0., 0., 0., 0., 0., 0., 0., 0.],\n",
              "       [0., 0., 0., 0., 1., 0., 0., 0., 0., 0.],\n",
              "       [0., 1., 0., 0., 0., 0., 0., 0., 0., 0.],\n",
              "       [0., 0., 0., 0., 0., 0., 0., 0., 0., 1.],\n",
              "       [0., 0., 1., 0., 0., 0., 0., 0., 0., 0.],\n",
              "       [0., 1., 0., 0., 0., 0., 0., 0., 0., 0.],\n",
              "       [0., 0., 0., 1., 0., 0., 0., 0., 0., 0.],\n",
              "       [0., 1., 0., 0., 0., 0., 0., 0., 0., 0.],\n",
              "       [0., 0., 0., 0., 1., 0., 0., 0., 0., 0.]], dtype=float32)"
            ]
          },
          "metadata": {
            "tags": []
          },
          "execution_count": 9
        }
      ]
    },
    {
      "cell_type": "code",
      "metadata": {
        "id": "osKqT73Q9JJB",
        "colab_type": "code",
        "outputId": "18b50973-0655-47bd-ae33-06d90309d3b7",
        "colab": {
          "base_uri": "https://localhost:8080/",
          "height": 88
        }
      },
      "source": [
        "from keras.layers import Activation\n",
        "\n",
        "model = Sequential()\n",
        "\n",
        "model.add(Convolution2D(8, 3, input_shape=(28,28,1), use_bias=False)) # RF - 3X3, O/P - 26x26\n",
        "model.add(Activation('relu'))\n",
        "\n",
        "model.add(Convolution2D(14, 3, use_bias=False)) # RF - 5X5, O/P - 24x24\n",
        "model.add(Activation('relu'))\n",
        "\n",
        "model.add(Convolution2D(16, 3, use_bias=False)) # RF - 7X7, O/P - 22x22\n",
        "model.add(Activation('relu'))\n",
        "\n",
        "model.add(Convolution2D(8, 1, use_bias=False))\n",
        "model.add(MaxPooling2D(pool_size = (2, 2), strides=None, padding='valid', data_format=None)) # RF - 14X14, O/P - 11x11\n",
        "\n",
        "model.add(Convolution2D(8, 3, use_bias=False)) # RF - 16X16, O/P - 9X9\n",
        "model.add(Activation('relu'))\n",
        "\n",
        "model.add(Convolution2D(14, 3, use_bias=False)) # RF - 16X16, O/P - 7X7\n",
        "model.add(Activation('relu'))\n",
        "\n",
        "model.add(Convolution2D(16, 3, use_bias=False)) # RF - 18X18, O/P - 5X5\n",
        "model.add(Activation('relu'))\n",
        "\n",
        "model.add(Convolution2D(10, 1, use_bias=False))\n",
        "model.add(Activation('relu'))\n",
        "\n",
        "model.add(Convolution2D(10, 5, use_bias=False)) # RF - 20X20, O/P - 5X5\n",
        "\n",
        "model.add(Flatten())\n",
        "model.add(Activation('softmax'))"
      ],
      "execution_count": 10,
      "outputs": [
        {
          "output_type": "stream",
          "text": [
            "WARNING:tensorflow:From /usr/local/lib/python3.6/dist-packages/tensorflow/python/framework/op_def_library.py:263: colocate_with (from tensorflow.python.framework.ops) is deprecated and will be removed in a future version.\n",
            "Instructions for updating:\n",
            "Colocations handled automatically by placer.\n"
          ],
          "name": "stdout"
        }
      ]
    },
    {
      "cell_type": "code",
      "metadata": {
        "id": "TzdAYg1k9K7Z",
        "colab_type": "code",
        "outputId": "3c5820fb-4b6a-469c-a6eb-7a4177c1b404",
        "colab": {
          "base_uri": "https://localhost:8080/",
          "height": 782
        }
      },
      "source": [
        "model.summary()"
      ],
      "execution_count": 11,
      "outputs": [
        {
          "output_type": "stream",
          "text": [
            "_________________________________________________________________\n",
            "Layer (type)                 Output Shape              Param #   \n",
            "=================================================================\n",
            "conv2d_1 (Conv2D)            (None, 26, 26, 8)         72        \n",
            "_________________________________________________________________\n",
            "activation_1 (Activation)    (None, 26, 26, 8)         0         \n",
            "_________________________________________________________________\n",
            "conv2d_2 (Conv2D)            (None, 24, 24, 14)        1008      \n",
            "_________________________________________________________________\n",
            "activation_2 (Activation)    (None, 24, 24, 14)        0         \n",
            "_________________________________________________________________\n",
            "conv2d_3 (Conv2D)            (None, 22, 22, 16)        2016      \n",
            "_________________________________________________________________\n",
            "activation_3 (Activation)    (None, 22, 22, 16)        0         \n",
            "_________________________________________________________________\n",
            "conv2d_4 (Conv2D)            (None, 22, 22, 8)         128       \n",
            "_________________________________________________________________\n",
            "max_pooling2d_1 (MaxPooling2 (None, 11, 11, 8)         0         \n",
            "_________________________________________________________________\n",
            "conv2d_5 (Conv2D)            (None, 9, 9, 8)           576       \n",
            "_________________________________________________________________\n",
            "activation_4 (Activation)    (None, 9, 9, 8)           0         \n",
            "_________________________________________________________________\n",
            "conv2d_6 (Conv2D)            (None, 7, 7, 14)          1008      \n",
            "_________________________________________________________________\n",
            "activation_5 (Activation)    (None, 7, 7, 14)          0         \n",
            "_________________________________________________________________\n",
            "conv2d_7 (Conv2D)            (None, 5, 5, 16)          2016      \n",
            "_________________________________________________________________\n",
            "activation_6 (Activation)    (None, 5, 5, 16)          0         \n",
            "_________________________________________________________________\n",
            "conv2d_8 (Conv2D)            (None, 5, 5, 10)          160       \n",
            "_________________________________________________________________\n",
            "activation_7 (Activation)    (None, 5, 5, 10)          0         \n",
            "_________________________________________________________________\n",
            "conv2d_9 (Conv2D)            (None, 1, 1, 10)          2500      \n",
            "_________________________________________________________________\n",
            "flatten_1 (Flatten)          (None, 10)                0         \n",
            "_________________________________________________________________\n",
            "activation_8 (Activation)    (None, 10)                0         \n",
            "=================================================================\n",
            "Total params: 9,484\n",
            "Trainable params: 9,484\n",
            "Non-trainable params: 0\n",
            "_________________________________________________________________\n"
          ],
          "name": "stdout"
        }
      ]
    },
    {
      "cell_type": "code",
      "metadata": {
        "id": "Zp6SuGrL9M3h",
        "colab_type": "code",
        "colab": {}
      },
      "source": [
        "# Compiling the model\n",
        "# Loss function is one of the arguments required for compiling a model. categorical_crossentropy loss function is used if the targets are one-hot encoded.\n",
        "# Optimizer is one of the arguments required for compiling a model. Adam is an optimization algorithm that can used instead of the classical stochastic gradient descent procedure to update network weights iterative based in training data.\n",
        "# A metric is a function that is used to judge the performance of your model.\n",
        "model.compile(loss='categorical_crossentropy',\n",
        "             optimizer='adam',\n",
        "             metrics=['accuracy'])"
      ],
      "execution_count": 0,
      "outputs": []
    },
    {
      "cell_type": "code",
      "metadata": {
        "id": "4xWoKhPY9Of5",
        "colab_type": "code",
        "outputId": "714e7f32-6490-46ba-82da-4abf162f7517",
        "colab": {
          "base_uri": "https://localhost:8080/",
          "height": 1856
        }
      },
      "source": [
        "# Training the model for 50 epochs using batch_size of 32.\n",
        "model.fit(X_train, Y_train, batch_size=32, nb_epoch=50, verbose=1,validation_data=(X_test, Y_test))"
      ],
      "execution_count": 13,
      "outputs": [
        {
          "output_type": "stream",
          "text": [
            "WARNING:tensorflow:From /usr/local/lib/python3.6/dist-packages/tensorflow/python/ops/math_ops.py:3066: to_int32 (from tensorflow.python.ops.math_ops) is deprecated and will be removed in a future version.\n",
            "Instructions for updating:\n",
            "Use tf.cast instead.\n"
          ],
          "name": "stdout"
        },
        {
          "output_type": "stream",
          "text": [
            "/usr/local/lib/python3.6/dist-packages/ipykernel_launcher.py:1: UserWarning: The `nb_epoch` argument in `fit` has been renamed `epochs`.\n",
            "  \"\"\"Entry point for launching an IPython kernel.\n"
          ],
          "name": "stderr"
        },
        {
          "output_type": "stream",
          "text": [
            "Train on 60000 samples, validate on 10000 samples\n",
            "Epoch 1/50\n",
            "60000/60000 [==============================] - 14s 238us/step - loss: 0.2388 - acc: 0.9243 - val_loss: 0.0757 - val_acc: 0.9764\n",
            "Epoch 2/50\n",
            "60000/60000 [==============================] - 9s 157us/step - loss: 0.0869 - acc: 0.9741 - val_loss: 0.0577 - val_acc: 0.9803\n",
            "Epoch 3/50\n",
            "60000/60000 [==============================] - 9s 156us/step - loss: 0.0669 - acc: 0.9794 - val_loss: 0.0495 - val_acc: 0.9847\n",
            "Epoch 4/50\n",
            "60000/60000 [==============================] - 9s 154us/step - loss: 0.0562 - acc: 0.9829 - val_loss: 0.0596 - val_acc: 0.9815\n",
            "Epoch 5/50\n",
            "60000/60000 [==============================] - 9s 155us/step - loss: 0.0484 - acc: 0.9850 - val_loss: 0.0405 - val_acc: 0.9856\n",
            "Epoch 6/50\n",
            "60000/60000 [==============================] - 9s 156us/step - loss: 0.0424 - acc: 0.9868 - val_loss: 0.0340 - val_acc: 0.9886\n",
            "Epoch 7/50\n",
            "60000/60000 [==============================] - 10s 168us/step - loss: 0.0383 - acc: 0.9882 - val_loss: 0.0386 - val_acc: 0.9878\n",
            "Epoch 8/50\n",
            "60000/60000 [==============================] - 10s 162us/step - loss: 0.0342 - acc: 0.9898 - val_loss: 0.0376 - val_acc: 0.9880\n",
            "Epoch 9/50\n",
            "60000/60000 [==============================] - 9s 156us/step - loss: 0.0305 - acc: 0.9903 - val_loss: 0.0395 - val_acc: 0.9883\n",
            "Epoch 10/50\n",
            "60000/60000 [==============================] - 9s 154us/step - loss: 0.0291 - acc: 0.9906 - val_loss: 0.0320 - val_acc: 0.9903\n",
            "Epoch 11/50\n",
            "60000/60000 [==============================] - 9s 154us/step - loss: 0.0268 - acc: 0.9916 - val_loss: 0.0337 - val_acc: 0.9885\n",
            "Epoch 12/50\n",
            "60000/60000 [==============================] - 9s 154us/step - loss: 0.0261 - acc: 0.9914 - val_loss: 0.0358 - val_acc: 0.9892\n",
            "Epoch 13/50\n",
            "60000/60000 [==============================] - 9s 153us/step - loss: 0.0231 - acc: 0.9922 - val_loss: 0.0345 - val_acc: 0.9896\n",
            "Epoch 14/50\n",
            "60000/60000 [==============================] - 9s 153us/step - loss: 0.0224 - acc: 0.9929 - val_loss: 0.0435 - val_acc: 0.9861\n",
            "Epoch 15/50\n",
            "60000/60000 [==============================] - 9s 155us/step - loss: 0.0205 - acc: 0.9937 - val_loss: 0.0340 - val_acc: 0.9889\n",
            "Epoch 16/50\n",
            "60000/60000 [==============================] - 10s 173us/step - loss: 0.0205 - acc: 0.9932 - val_loss: 0.0359 - val_acc: 0.9899\n",
            "Epoch 17/50\n",
            "60000/60000 [==============================] - 9s 154us/step - loss: 0.0177 - acc: 0.9941 - val_loss: 0.0333 - val_acc: 0.9905\n",
            "Epoch 18/50\n",
            "60000/60000 [==============================] - 9s 153us/step - loss: 0.0177 - acc: 0.9942 - val_loss: 0.0416 - val_acc: 0.9889\n",
            "Epoch 19/50\n",
            "60000/60000 [==============================] - 9s 154us/step - loss: 0.0168 - acc: 0.9944 - val_loss: 0.0422 - val_acc: 0.9877\n",
            "Epoch 20/50\n",
            "60000/60000 [==============================] - 9s 153us/step - loss: 0.0160 - acc: 0.9947 - val_loss: 0.0411 - val_acc: 0.9887\n",
            "Epoch 21/50\n",
            "60000/60000 [==============================] - 9s 154us/step - loss: 0.0152 - acc: 0.9949 - val_loss: 0.0338 - val_acc: 0.9906\n",
            "Epoch 22/50\n",
            "60000/60000 [==============================] - 10s 170us/step - loss: 0.0151 - acc: 0.9947 - val_loss: 0.0343 - val_acc: 0.9915\n",
            "Epoch 23/50\n",
            "60000/60000 [==============================] - 10s 166us/step - loss: 0.0134 - acc: 0.9955 - val_loss: 0.0359 - val_acc: 0.9916\n",
            "Epoch 24/50\n",
            "60000/60000 [==============================] - 10s 168us/step - loss: 0.0142 - acc: 0.9955 - val_loss: 0.0332 - val_acc: 0.9900\n",
            "Epoch 25/50\n",
            "60000/60000 [==============================] - 10s 161us/step - loss: 0.0127 - acc: 0.9959 - val_loss: 0.0383 - val_acc: 0.9894\n",
            "Epoch 26/50\n",
            "60000/60000 [==============================] - 9s 154us/step - loss: 0.0127 - acc: 0.9957 - val_loss: 0.0400 - val_acc: 0.9895\n",
            "Epoch 27/50\n",
            "60000/60000 [==============================] - 9s 154us/step - loss: 0.0128 - acc: 0.9958 - val_loss: 0.0437 - val_acc: 0.9876\n",
            "Epoch 28/50\n",
            "60000/60000 [==============================] - 9s 153us/step - loss: 0.0108 - acc: 0.9966 - val_loss: 0.0410 - val_acc: 0.9901\n",
            "Epoch 29/50\n",
            "60000/60000 [==============================] - 9s 154us/step - loss: 0.0119 - acc: 0.9961 - val_loss: 0.0397 - val_acc: 0.9898\n",
            "Epoch 30/50\n",
            "60000/60000 [==============================] - 9s 153us/step - loss: 0.0122 - acc: 0.9956 - val_loss: 0.0361 - val_acc: 0.9905\n",
            "Epoch 31/50\n",
            "60000/60000 [==============================] - 9s 153us/step - loss: 0.0109 - acc: 0.9965 - val_loss: 0.0437 - val_acc: 0.9890\n",
            "Epoch 32/50\n",
            "60000/60000 [==============================] - 9s 155us/step - loss: 0.0118 - acc: 0.9962 - val_loss: 0.0498 - val_acc: 0.9880\n",
            "Epoch 33/50\n",
            "60000/60000 [==============================] - 11s 175us/step - loss: 0.0103 - acc: 0.9966 - val_loss: 0.0434 - val_acc: 0.9892\n",
            "Epoch 34/50\n",
            "60000/60000 [==============================] - 9s 153us/step - loss: 0.0090 - acc: 0.9970 - val_loss: 0.0603 - val_acc: 0.9867\n",
            "Epoch 35/50\n",
            "60000/60000 [==============================] - 9s 154us/step - loss: 0.0101 - acc: 0.9966 - val_loss: 0.0468 - val_acc: 0.9891\n",
            "Epoch 36/50\n",
            "60000/60000 [==============================] - 9s 154us/step - loss: 0.0094 - acc: 0.9968 - val_loss: 0.0452 - val_acc: 0.9897\n",
            "Epoch 37/50\n",
            "60000/60000 [==============================] - 9s 153us/step - loss: 0.0092 - acc: 0.9972 - val_loss: 0.0609 - val_acc: 0.9877\n",
            "Epoch 38/50\n",
            "60000/60000 [==============================] - 9s 152us/step - loss: 0.0097 - acc: 0.9968 - val_loss: 0.0431 - val_acc: 0.9900\n",
            "Epoch 39/50\n",
            "60000/60000 [==============================] - 9s 154us/step - loss: 0.0090 - acc: 0.9971 - val_loss: 0.0493 - val_acc: 0.9901\n",
            "Epoch 40/50\n",
            "60000/60000 [==============================] - 9s 153us/step - loss: 0.0106 - acc: 0.9966 - val_loss: 0.0435 - val_acc: 0.9906\n",
            "Epoch 41/50\n",
            "60000/60000 [==============================] - 10s 162us/step - loss: 0.0080 - acc: 0.9975 - val_loss: 0.0500 - val_acc: 0.9902\n",
            "Epoch 42/50\n",
            "60000/60000 [==============================] - 10s 165us/step - loss: 0.0100 - acc: 0.9966 - val_loss: 0.0451 - val_acc: 0.9906\n",
            "Epoch 43/50\n",
            "60000/60000 [==============================] - 9s 153us/step - loss: 0.0090 - acc: 0.9969 - val_loss: 0.0484 - val_acc: 0.9894\n",
            "Epoch 44/50\n",
            "60000/60000 [==============================] - 9s 152us/step - loss: 0.0087 - acc: 0.9971 - val_loss: 0.0524 - val_acc: 0.9900\n",
            "Epoch 45/50\n",
            "60000/60000 [==============================] - 9s 153us/step - loss: 0.0095 - acc: 0.9970 - val_loss: 0.0537 - val_acc: 0.9894\n",
            "Epoch 46/50\n",
            "60000/60000 [==============================] - 9s 153us/step - loss: 0.0086 - acc: 0.9969 - val_loss: 0.0476 - val_acc: 0.9904\n",
            "Epoch 47/50\n",
            "60000/60000 [==============================] - 9s 152us/step - loss: 0.0082 - acc: 0.9974 - val_loss: 0.0455 - val_acc: 0.9904\n",
            "Epoch 48/50\n",
            "60000/60000 [==============================] - 9s 154us/step - loss: 0.0096 - acc: 0.9969 - val_loss: 0.0524 - val_acc: 0.9878\n",
            "Epoch 49/50\n",
            "60000/60000 [==============================] - 9s 153us/step - loss: 0.0087 - acc: 0.9974 - val_loss: 0.0506 - val_acc: 0.9901\n",
            "Epoch 50/50\n",
            "60000/60000 [==============================] - 10s 171us/step - loss: 0.0078 - acc: 0.9975 - val_loss: 0.0622 - val_acc: 0.9882\n"
          ],
          "name": "stdout"
        },
        {
          "output_type": "execute_result",
          "data": {
            "text/plain": [
              "<keras.callbacks.History at 0x7ff8955ee080>"
            ]
          },
          "metadata": {
            "tags": []
          },
          "execution_count": 13
        }
      ]
    },
    {
      "cell_type": "markdown",
      "metadata": {
        "id": "_opIwh1El43u",
        "colab_type": "text"
      },
      "source": [
        "# Best Validation Accuracy\n",
        "Best validation accuracy is at **epoch 23** - **val_acc: 0.9916**"
      ]
    },
    {
      "cell_type": "code",
      "metadata": {
        "id": "AtsH-lLk-eLb",
        "colab_type": "code",
        "colab": {}
      },
      "source": [
        "# Evaluating the model on the Test data using the weights of last epoch. Returns the loss value & metrics values for the model in test mode.\n",
        "score = model.evaluate(X_test, Y_test, verbose=0)"
      ],
      "execution_count": 0,
      "outputs": []
    },
    {
      "cell_type": "code",
      "metadata": {
        "id": "mkX8JMv79q9r",
        "colab_type": "code",
        "outputId": "92e13bf7-9330-4664-e51b-14e32f9b306f",
        "colab": {
          "base_uri": "https://localhost:8080/",
          "height": 34
        }
      },
      "source": [
        "# Printing the evaluation result\n",
        "print(score);"
      ],
      "execution_count": 15,
      "outputs": [
        {
          "output_type": "stream",
          "text": [
            "[0.062234554029460425, 0.9882]\n"
          ],
          "name": "stdout"
        }
      ]
    },
    {
      "cell_type": "code",
      "metadata": {
        "id": "OCWoJkwE9suh",
        "colab_type": "code",
        "colab": {}
      },
      "source": [
        "# Generates output predictions for the input samples.\n",
        "y_pred = model.predict(X_test)"
      ],
      "execution_count": 0,
      "outputs": []
    },
    {
      "cell_type": "code",
      "metadata": {
        "id": "Ym7iCFBm9uBs",
        "colab_type": "code",
        "outputId": "233493c3-6bc7-46b9-ec76-000f637452c6",
        "colab": {
          "base_uri": "https://localhost:8080/",
          "height": 493
        }
      },
      "source": [
        "# Printing the outputs. y_pred results do not look correct.\n",
        "print(y_pred[:9])\n",
        "print(y_test[:9])"
      ],
      "execution_count": 17,
      "outputs": [
        {
          "output_type": "stream",
          "text": [
            "[[4.65895374e-24 1.78195487e-19 1.11880360e-13 2.95407275e-12\n",
            "  5.66156359e-22 6.45947731e-20 0.00000000e+00 1.00000000e+00\n",
            "  4.37219429e-16 2.00083645e-15]\n",
            " [7.21730305e-17 6.31491062e-13 1.00000000e+00 8.41569316e-19\n",
            "  2.02793223e-21 8.35338358e-20 1.08539861e-15 4.81838361e-20\n",
            "  2.00482404e-12 1.44996961e-25]\n",
            " [1.93030245e-11 9.99999881e-01 1.65916170e-09 1.66336146e-11\n",
            "  8.13772782e-09 1.12904949e-07 6.58331289e-12 1.02050111e-08\n",
            "  6.94706470e-09 1.25984531e-12]\n",
            " [1.00000000e+00 2.53710832e-18 9.68629482e-11 4.03132284e-11\n",
            "  4.81969140e-19 1.05306305e-10 4.32666774e-08 4.96653879e-13\n",
            "  9.98983001e-14 1.33855644e-11]\n",
            " [1.09769957e-21 1.30612457e-20 2.76111730e-17 2.76718370e-22\n",
            "  1.00000000e+00 1.06401805e-25 6.47682355e-20 1.44701021e-22\n",
            "  4.83118529e-16 3.37651542e-08]\n",
            " [1.20240120e-11 1.00000000e+00 4.80380846e-10 5.24084031e-13\n",
            "  8.07443090e-09 5.57122681e-11 7.17235397e-15 3.30143948e-08\n",
            "  7.75756459e-10 4.21618645e-14]\n",
            " [8.09275988e-36 1.85191175e-15 1.30062163e-26 3.03264055e-27\n",
            "  1.00000000e+00 1.62464324e-27 0.00000000e+00 1.75577380e-12\n",
            "  5.66538251e-16 1.89484374e-13]\n",
            " [6.08206883e-15 7.51226555e-13 2.07606068e-11 1.16543939e-08\n",
            "  1.39668016e-04 1.37715039e-11 1.43679382e-20 1.53285981e-07\n",
            "  3.17056004e-09 9.99860168e-01]\n",
            " [2.40710079e-07 7.78530336e-22 9.67559383e-15 5.28698166e-16\n",
            "  4.99115302e-19 9.29825246e-01 7.00390115e-02 1.75544014e-24\n",
            "  1.35565904e-04 2.18186709e-15]]\n",
            "[7 2 1 0 4 1 4 9 5]\n"
          ],
          "name": "stdout"
        }
      ]
    },
    {
      "cell_type": "code",
      "metadata": {
        "id": "CT--y98_dr2T",
        "colab_type": "code",
        "colab": {}
      },
      "source": [
        "layer_dict = dict([(layer.name, layer) for layer in model.layers])"
      ],
      "execution_count": 0,
      "outputs": []
    },
    {
      "cell_type": "code",
      "metadata": {
        "id": "2GY4Upv4dsUR",
        "colab_type": "code",
        "outputId": "047a9430-ebf2-4b61-c576-5762b12a0ffb",
        "colab": {
          "base_uri": "https://localhost:8080/",
          "height": 771
        }
      },
      "source": [
        "import numpy as np\n",
        "from matplotlib import pyplot as plt\n",
        "from keras import backend as K\n",
        "%matplotlib inline\n",
        "# util function to convert a tensor into a valid image\n",
        "def deprocess_image(x):\n",
        "    # normalize tensor: center on 0., ensure std is 0.1\n",
        "    x -= x.mean()\n",
        "    x /= (x.std() + 1e-5)\n",
        "    x *= 0.1\n",
        "\n",
        "    # clip to [0, 1]\n",
        "    x += 0.5\n",
        "    x = np.clip(x, 0, 1)\n",
        "\n",
        "    # convert to RGB array\n",
        "    x *= 255\n",
        "    #x = x.transpose((1, 2, 0))\n",
        "    x = np.clip(x, 0, 255).astype('uint8')\n",
        "    return x\n",
        "\n",
        "def vis_img_in_filter(img = np.array(X_train[2]).reshape((1, 28, 28, 1)).astype(np.float64), \n",
        "                      layer_name = 'conv2d_1'):\n",
        "    layer_output = layer_dict[layer_name].output\n",
        "    img_ascs = list()\n",
        "    for filter_index in range(layer_output.shape[3]):\n",
        "        # build a loss function that maximizes the activation\n",
        "        # of the nth filter of the layer considered\n",
        "        loss = K.mean(layer_output[:, :, :, filter_index])\n",
        "\n",
        "        # compute the gradient of the input picture wrt this loss\n",
        "        grads = K.gradients(loss, model.input)[0]\n",
        "\n",
        "        # normalization trick: we normalize the gradient\n",
        "        grads /= (K.sqrt(K.mean(K.square(grads))) + 1e-5)\n",
        "\n",
        "        # this function returns the loss and grads given the input picture\n",
        "        iterate = K.function([model.input], [loss, grads])\n",
        "\n",
        "        # step size for gradient ascent\n",
        "        step = 5.\n",
        "\n",
        "        img_asc = np.array(img)\n",
        "        # run gradient ascent for 20 steps\n",
        "        for i in range(20):\n",
        "            loss_value, grads_value = iterate([img_asc])\n",
        "            img_asc += grads_value * step\n",
        "\n",
        "        img_asc = img_asc[0]\n",
        "        img_ascs.append(deprocess_image(img_asc).reshape((28, 28)))\n",
        "        \n",
        "    if layer_output.shape[3] >= 35:\n",
        "        plot_x, plot_y = 6, 6\n",
        "    elif layer_output.shape[3] >= 23:\n",
        "        plot_x, plot_y = 4, 6\n",
        "    elif layer_output.shape[3] >= 11:\n",
        "        plot_x, plot_y = 2, 6\n",
        "    else:\n",
        "        plot_x, plot_y = 2, 4\n",
        "    fig, ax = plt.subplots(plot_x, plot_y, figsize = (12, 12))\n",
        "    ax[0, 0].imshow(img.reshape((28, 28)), cmap = 'gray')\n",
        "    ax[0, 0].set_title('Input image')\n",
        "    fig.suptitle('Input image and %s filters' % (layer_name,))\n",
        "    fig.tight_layout(pad = 0.3, rect = [0, 0, 0.9, 0.9])\n",
        "    for (x, y) in [(i, j) for i in range(plot_x) for j in range(plot_y)]:\n",
        "        if x == 0 and y == 0:\n",
        "            continue\n",
        "        ax[x, y].imshow(img_ascs[x * plot_y + y - 1], cmap = 'gray')\n",
        "        ax[x, y].set_title('filter %d' % (x * plot_y + y - 1))\n",
        "\n",
        "vis_img_in_filter()"
      ],
      "execution_count": 19,
      "outputs": [
        {
          "output_type": "display_data",
          "data": {
            "image/png": "[encoded data removed]",
            "text/plain": [
              "<Figure size 864x864 with 8 Axes>"
            ]
          },
          "metadata": {
            "tags": []
          }
        }
      ]
    },
    {
      "cell_type": "code",
      "metadata": {
        "id": "9tvptcn8dxvp",
        "colab_type": "code",
        "colab": {}
      },
      "source": [
        ""
      ],
      "execution_count": 0,
      "outputs": []
    }
  ]
}