{
  "nbformat": 4,
  "nbformat_minor": 0,
  "metadata": {
    "colab": {
      "name": "EVA_Assignment_4_Fourth.ipynb",
      "version": "0.3.2",
      "provenance": [],
      "collapsed_sections": []
    },
    "kernelspec": {
      "name": "python3",
      "display_name": "Python 3"
    },
    "accelerator": "GPU"
  },
  "cells": [
    {
      "cell_type": "markdown",
      "metadata": {
        "id": "TtCTZjybrjyU",
        "colab_type": "text"
      },
      "source": [
        "#HEADER NOTE\n",
        "\n",
        "\n",
        "*   Will keep the parameters count within 15k which is a constraint for the assignment.\n",
        "*   Will continue to keep the batch size to 128.\n",
        "*   Will keep the Learning Rate as default one.\n",
        "*   Will keep the optimizer same as 'adam'.\n",
        "*   Will add Dropouts to reduce the gap between Training accuracy and Validation accuracy.\n",
        "*   Changing the position of Dropouts from after convolution layers to before BatchNormalizations. - *an improvement over the previous network* \n",
        "*   Introduce LR Scheduler to change LR (reduce by 10%) every 10 epochs. - *an improvement over the previous network*\n",
        "*   Will add BatchNormalizations before every convolution layer except the first one.\n",
        "*   Will run for more epochs (say 50) to see the capacity of the network."
      ]
    },
    {
      "cell_type": "markdown",
      "metadata": {
        "id": "aNyZv-Ec52ot",
        "colab_type": "text"
      },
      "source": [
        "# **Import Libraries and modules**"
      ]
    },
    {
      "cell_type": "code",
      "metadata": {
        "id": "3m3w1Cw49Zkt",
        "colab_type": "code",
        "outputId": "65178ff8-c311-4dab-d3d1-9008db9fd0f2",
        "colab": {
          "base_uri": "https://localhost:8080/",
          "height": 34
        }
      },
      "source": [
        "# https://keras.io/\n",
        "# Installing Keras which is open-source neural-network library written in Python.\n",
        "!pip install -q keras\n",
        "\n",
        "# Importing the keras library.\n",
        "import keras"
      ],
      "execution_count": 0,
      "outputs": [
        {
          "output_type": "stream",
          "text": [
            "Using TensorFlow backend.\n"
          ],
          "name": "stderr"
        }
      ]
    },
    {
      "cell_type": "code",
      "metadata": {
        "id": "Eso6UHE080D4",
        "colab_type": "code",
        "colab": {}
      },
      "source": [
        "# Importing NumPy (Numerical Python) which is a library consisting of multidimensional array objects and a collection of routines for processing those arrays. It also gives an alias to the library.\n",
        "import numpy as np\n",
        "\n",
        "# There are two main types of models available in Keras: the Sequential model and the Model class used with the functional API.\n",
        "# Sequential model is a linear stack of layers. Importing Sequential model from Keras.\n",
        "from keras.models import Sequential\n",
        "\n",
        "# Importing different layers from Keras.\n",
        "from keras.layers import Dense, Dropout, Activation, Flatten, Add\n",
        "from keras.layers import Convolution2D, MaxPooling2D, BatchNormalization\n",
        "\n",
        "# Importing the utils library of Keras.\n",
        "from keras.utils import np_utils\n",
        "\n",
        "# Importing the callbacks of Keras.\n",
        "from keras.callbacks import ModelCheckpoint\n",
        "\n",
        "# MNIST is a database of handwritten digits. It is a dataset of 60,000 28x28 grayscale images of the 10 digits, along with a test set of 10,000 images. Importing MNIST dataset from Keras.\n",
        "from keras.datasets import mnist"
      ],
      "execution_count": 0,
      "outputs": []
    },
    {
      "cell_type": "markdown",
      "metadata": {
        "id": "zByEi95J86RD",
        "colab_type": "text"
      },
      "source": [
        "### Load pre-shuffled MNIST data into train and test sets"
      ]
    },
    {
      "cell_type": "code",
      "metadata": {
        "id": "7eRM0QWN83PV",
        "colab_type": "code",
        "colab": {}
      },
      "source": [
        "# Loading the MNIST 60000 Training and 10000 Test data into respective numpy arrays\n",
        "(X_train, y_train), (X_test, y_test) = mnist.load_data()"
      ],
      "execution_count": 0,
      "outputs": []
    },
    {
      "cell_type": "code",
      "metadata": {
        "id": "4a4Be72j8-ZC",
        "colab_type": "code",
        "outputId": "327c76e7-d9cf-4fbb-8078-95bd90468a11",
        "colab": {
          "base_uri": "https://localhost:8080/",
          "height": 303
        }
      },
      "source": [
        "# Printing the shape of the Training data\n",
        "print (X_train.shape)\n",
        "\n",
        "# Matplotlib is a plotting library for Python. Pyplot is a collection of command style functions that make matplotlib work like MATLAB. Each pyplot function makes some change to a figure: e.g., creates a figure, creates a plotting area in a figure, plots some lines in a plotting area, decorates the plot with labels, etc.\n",
        "from matplotlib import pyplot as plt\n",
        "\n",
        "# Sets the backend of matplotlib to 'inline' backend. With this backend, the output of plotting commands is displayed inline within frontends like the Jupyter notebook, directly below the code cell that produced it.\n",
        "%matplotlib inline\n",
        "\n",
        "# Renders the image.\n",
        "plt.imshow(X_train[7777])"
      ],
      "execution_count": 0,
      "outputs": [
        {
          "output_type": "stream",
          "text": [
            "(60000, 28, 28)\n"
          ],
          "name": "stdout"
        },
        {
          "output_type": "execute_result",
          "data": {
            "text/plain": [
              "<matplotlib.image.AxesImage at 0x7f7f9081cb00>"
            ]
          },
          "metadata": {
            "tags": []
          },
          "execution_count": 4
        },
        {
          "output_type": "display_data",
          "data": {
            "image/png": "[encoded data removed]",
            "text/plain": [
              "<Figure size 432x288 with 1 Axes>"
            ]
          },
          "metadata": {
            "tags": []
          }
        }
      ]
    },
    {
      "cell_type": "code",
      "metadata": {
        "id": "dkmprriw9AnZ",
        "colab_type": "code",
        "colab": {}
      },
      "source": [
        "# Reshaping the Training and Test data to add the channel parameter as the input to Conv2D layer is expected to be of shape (img_rows, img_cols, num_channels) if data_format=\"channels_last\" which is default.\n",
        "X_train = X_train.reshape(X_train.shape[0], 28, 28,1)\n",
        "X_test = X_test.reshape(X_test.shape[0], 28, 28,1)"
      ],
      "execution_count": 0,
      "outputs": []
    },
    {
      "cell_type": "code",
      "metadata": {
        "id": "X2m4YS4E9CRh",
        "colab_type": "code",
        "colab": {}
      },
      "source": [
        "# Normalizing the Training and Test values\n",
        "X_train = X_train.astype('float32')\n",
        "X_test = X_test.astype('float32')\n",
        "X_train /= 255\n",
        "X_test /= 255"
      ],
      "execution_count": 0,
      "outputs": []
    },
    {
      "cell_type": "code",
      "metadata": {
        "id": "0Mn0vAYD9DvB",
        "colab_type": "code",
        "outputId": "d37293ab-e6a9-488f-c262-29d0291a0a2a",
        "colab": {
          "base_uri": "https://localhost:8080/",
          "height": 34
        }
      },
      "source": [
        "# Printing the first 10 labelled Training data\n",
        "y_train[:10]"
      ],
      "execution_count": 0,
      "outputs": [
        {
          "output_type": "execute_result",
          "data": {
            "text/plain": [
              "array([5, 0, 4, 1, 9, 2, 1, 3, 1, 4], dtype=uint8)"
            ]
          },
          "metadata": {
            "tags": []
          },
          "execution_count": 7
        }
      ]
    },
    {
      "cell_type": "code",
      "metadata": {
        "id": "ZG8JiXR39FHC",
        "colab_type": "code",
        "colab": {}
      },
      "source": [
        "# Convert 1-dimensional class arrays to 10-dimensional class matrices\n",
        "# np.utils.to_categorical is used to convert array of labelled data (from 0 to nb_classes-1) to one-hot vector.\n",
        "Y_train = np_utils.to_categorical(y_train, 10)\n",
        "Y_test = np_utils.to_categorical(y_test, 10)"
      ],
      "execution_count": 0,
      "outputs": []
    },
    {
      "cell_type": "code",
      "metadata": {
        "id": "fYlFRvKS9HMB",
        "colab_type": "code",
        "outputId": "5536095f-8c04-4e53-afc9-b66ea847b7d4",
        "colab": {
          "base_uri": "https://localhost:8080/",
          "height": 187
        }
      },
      "source": [
        "# Printing the first 10 labelled Training data after converting to one-hot vector.\n",
        "Y_train[:10]\n"
      ],
      "execution_count": 0,
      "outputs": [
        {
          "output_type": "execute_result",
          "data": {
            "text/plain": [
              "array([[0., 0., 0., 0., 0., 1., 0., 0., 0., 0.],\n",
              "       [1., 0., 0., 0., 0., 0., 0., 0., 0., 0.],\n",
              "       [0., 0., 0., 0., 1., 0., 0., 0., 0., 0.],\n",
              "       [0., 1., 0., 0., 0., 0., 0., 0., 0., 0.],\n",
              "       [0., 0., 0., 0., 0., 0., 0., 0., 0., 1.],\n",
              "       [0., 0., 1., 0., 0., 0., 0., 0., 0., 0.],\n",
              "       [0., 1., 0., 0., 0., 0., 0., 0., 0., 0.],\n",
              "       [0., 0., 0., 1., 0., 0., 0., 0., 0., 0.],\n",
              "       [0., 1., 0., 0., 0., 0., 0., 0., 0., 0.],\n",
              "       [0., 0., 0., 0., 1., 0., 0., 0., 0., 0.]], dtype=float32)"
            ]
          },
          "metadata": {
            "tags": []
          },
          "execution_count": 9
        }
      ]
    },
    {
      "cell_type": "code",
      "metadata": {
        "id": "osKqT73Q9JJB",
        "colab_type": "code",
        "outputId": "6917d8a9-7528-4a5d-94aa-8ebd1049edd5",
        "colab": {
          "base_uri": "https://localhost:8080/",
          "height": 139
        }
      },
      "source": [
        "from keras.layers import Activation\n",
        "\n",
        "model = Sequential()\n",
        "\n",
        "model.add(Convolution2D(8, 3, input_shape=(28,28,1), use_bias=False)) # RF - 3X3, O/P - 26x26\n",
        "model.add(BatchNormalization())\n",
        "model.add(Activation('relu'))\n",
        "\n",
        "model.add(Dropout(0.125))\n",
        "model.add(BatchNormalization())\n",
        "model.add(Convolution2D(14, 3, use_bias=False)) # RF - 5X5, O/P - 24x24\n",
        "model.add(Activation('relu'))\n",
        "\n",
        "model.add(Dropout(0.125))\n",
        "model.add(BatchNormalization())\n",
        "model.add(Convolution2D(16, 3, use_bias=False)) # RF - 7X7, O/P - 22x22\n",
        "model.add(Activation('relu'))\n",
        "\n",
        "model.add(Convolution2D(8, 1, use_bias=False))\n",
        "model.add(Activation('relu'))\n",
        "model.add(MaxPooling2D(pool_size = (2, 2), strides=None, padding='valid', data_format=None)) # RF - 14X14, O/P - 11x11\n",
        "\n",
        "model.add(BatchNormalization())\n",
        "model.add(Convolution2D(8, 3, use_bias=False)) # RF - 16X16, O/P - 9X9\n",
        "model.add(Activation('relu'))\n",
        "\n",
        "model.add(Dropout(0.125))\n",
        "model.add(BatchNormalization())\n",
        "model.add(Convolution2D(14, 3, use_bias=False)) # RF - 18X18, O/P - 7X7\n",
        "model.add(Activation('relu'))\n",
        "\n",
        "model.add(Dropout(0.125))\n",
        "model.add(BatchNormalization())\n",
        "model.add(Convolution2D(16, 3, use_bias=False)) # RF - 20X20, O/P - 5X5\n",
        "model.add(Activation('relu'))\n",
        "\n",
        "model.add(Convolution2D(10, 1, use_bias=False))\n",
        "model.add(Activation('relu'))\n",
        "model.add(Convolution2D(10, 5, use_bias=False)) # RF - 20X20, O/P - 5X5\n",
        "\n",
        "model.add(Flatten())\n",
        "model.add(Activation('softmax'))"
      ],
      "execution_count": 0,
      "outputs": [
        {
          "output_type": "stream",
          "text": [
            "WARNING:tensorflow:From /usr/local/lib/python3.6/dist-packages/tensorflow/python/framework/op_def_library.py:263: colocate_with (from tensorflow.python.framework.ops) is deprecated and will be removed in a future version.\n",
            "Instructions for updating:\n",
            "Colocations handled automatically by placer.\n",
            "WARNING:tensorflow:From /usr/local/lib/python3.6/dist-packages/keras/backend/tensorflow_backend.py:3445: calling dropout (from tensorflow.python.ops.nn_ops) with keep_prob is deprecated and will be removed in a future version.\n",
            "Instructions for updating:\n",
            "Please use `rate` instead of `keep_prob`. Rate should be set to `rate = 1 - keep_prob`.\n"
          ],
          "name": "stdout"
        }
      ]
    },
    {
      "cell_type": "code",
      "metadata": {
        "id": "TzdAYg1k9K7Z",
        "colab_type": "code",
        "outputId": "83a4c00b-5628-4eca-9589-331fa65dff78",
        "colab": {
          "base_uri": "https://localhost:8080/",
          "height": 1156
        }
      },
      "source": [
        "model.summary()"
      ],
      "execution_count": 0,
      "outputs": [
        {
          "output_type": "stream",
          "text": [
            "_________________________________________________________________\n",
            "Layer (type)                 Output Shape              Param #   \n",
            "=================================================================\n",
            "conv2d_1 (Conv2D)            (None, 26, 26, 8)         72        \n",
            "_________________________________________________________________\n",
            "batch_normalization_1 (Batch (None, 26, 26, 8)         32        \n",
            "_________________________________________________________________\n",
            "activation_1 (Activation)    (None, 26, 26, 8)         0         \n",
            "_________________________________________________________________\n",
            "dropout_1 (Dropout)          (None, 26, 26, 8)         0         \n",
            "_________________________________________________________________\n",
            "batch_normalization_2 (Batch (None, 26, 26, 8)         32        \n",
            "_________________________________________________________________\n",
            "conv2d_2 (Conv2D)            (None, 24, 24, 14)        1008      \n",
            "_________________________________________________________________\n",
            "activation_2 (Activation)    (None, 24, 24, 14)        0         \n",
            "_________________________________________________________________\n",
            "dropout_2 (Dropout)          (None, 24, 24, 14)        0         \n",
            "_________________________________________________________________\n",
            "batch_normalization_3 (Batch (None, 24, 24, 14)        56        \n",
            "_________________________________________________________________\n",
            "conv2d_3 (Conv2D)            (None, 22, 22, 16)        2016      \n",
            "_________________________________________________________________\n",
            "activation_3 (Activation)    (None, 22, 22, 16)        0         \n",
            "_________________________________________________________________\n",
            "conv2d_4 (Conv2D)            (None, 22, 22, 8)         128       \n",
            "_________________________________________________________________\n",
            "activation_4 (Activation)    (None, 22, 22, 8)         0         \n",
            "_________________________________________________________________\n",
            "max_pooling2d_1 (MaxPooling2 (None, 11, 11, 8)         0         \n",
            "_________________________________________________________________\n",
            "batch_normalization_4 (Batch (None, 11, 11, 8)         32        \n",
            "_________________________________________________________________\n",
            "conv2d_5 (Conv2D)            (None, 9, 9, 8)           576       \n",
            "_________________________________________________________________\n",
            "activation_5 (Activation)    (None, 9, 9, 8)           0         \n",
            "_________________________________________________________________\n",
            "dropout_3 (Dropout)          (None, 9, 9, 8)           0         \n",
            "_________________________________________________________________\n",
            "batch_normalization_5 (Batch (None, 9, 9, 8)           32        \n",
            "_________________________________________________________________\n",
            "conv2d_6 (Conv2D)            (None, 7, 7, 14)          1008      \n",
            "_________________________________________________________________\n",
            "activation_6 (Activation)    (None, 7, 7, 14)          0         \n",
            "_________________________________________________________________\n",
            "dropout_4 (Dropout)          (None, 7, 7, 14)          0         \n",
            "_________________________________________________________________\n",
            "batch_normalization_6 (Batch (None, 7, 7, 14)          56        \n",
            "_________________________________________________________________\n",
            "conv2d_7 (Conv2D)            (None, 5, 5, 16)          2016      \n",
            "_________________________________________________________________\n",
            "activation_7 (Activation)    (None, 5, 5, 16)          0         \n",
            "_________________________________________________________________\n",
            "conv2d_8 (Conv2D)            (None, 5, 5, 10)          160       \n",
            "_________________________________________________________________\n",
            "activation_8 (Activation)    (None, 5, 5, 10)          0         \n",
            "_________________________________________________________________\n",
            "conv2d_9 (Conv2D)            (None, 1, 1, 10)          2500      \n",
            "_________________________________________________________________\n",
            "flatten_1 (Flatten)          (None, 10)                0         \n",
            "_________________________________________________________________\n",
            "activation_9 (Activation)    (None, 10)                0         \n",
            "=================================================================\n",
            "Total params: 9,724\n",
            "Trainable params: 9,604\n",
            "Non-trainable params: 120\n",
            "_________________________________________________________________\n"
          ],
          "name": "stdout"
        }
      ]
    },
    {
      "cell_type": "code",
      "metadata": {
        "id": "Zp6SuGrL9M3h",
        "colab_type": "code",
        "colab": {}
      },
      "source": [
        "# Compiling the model\n",
        "# Loss function is one of the arguments required for compiling a model. categorical_crossentropy loss function is used if the targets are one-hot encoded.\n",
        "# Optimizer is one of the arguments required for compiling a model. Adam is an optimization algorithm that can used instead of the classical stochastic gradient descent procedure to update network weights iterative based in training data.\n",
        "# A metric is a function that is used to judge the performance of your model.\n",
        "model.compile(loss='categorical_crossentropy',\n",
        "             optimizer='adam',\n",
        "             metrics=['accuracy'])"
      ],
      "execution_count": 0,
      "outputs": []
    },
    {
      "cell_type": "code",
      "metadata": {
        "id": "WmD4vTkYu_vH",
        "colab_type": "code",
        "colab": {}
      },
      "source": [
        "from keras.callbacks import LearningRateScheduler\n",
        "#def lr_scheduler(epoch, lr):\n",
        "  #return round(0.003 * 1/(1 + 0.319 * epoch), 10)\n",
        "\n",
        "def lr_schedule(epoch):\n",
        "    if epoch > 40:\n",
        "        lr = 1e-5\n",
        "    elif epoch > 30:\n",
        "        lr = 0.5e-4\n",
        "    elif epoch > 20:\n",
        "        lr = 1e-4\n",
        "    elif epoch > 10:\n",
        "        lr = 0.5e-3\n",
        "    else:\n",
        "        lr = 1e-3\n",
        "    print('Learning rate (from LearningRateScheduler): ', lr)\n",
        "    return lr\n",
        "\n",
        "lr_scheduler = LearningRateScheduler(lr_schedule)"
      ],
      "execution_count": 0,
      "outputs": []
    },
    {
      "cell_type": "code",
      "metadata": {
        "id": "4xWoKhPY9Of5",
        "colab_type": "code",
        "outputId": "e5a861a6-1be7-43b3-99a5-f87b61359b97",
        "colab": {
          "base_uri": "https://localhost:8080/",
          "height": 2706
        }
      },
      "source": [
        "# Training the model for 25 epochs using batch_size of 128.\n",
        "model.fit(X_train, Y_train, batch_size=128, nb_epoch=50, verbose=1,validation_data=(X_test, Y_test),callbacks=[lr_scheduler])"
      ],
      "execution_count": 0,
      "outputs": [
        {
          "output_type": "stream",
          "text": [
            "WARNING:tensorflow:From /usr/local/lib/python3.6/dist-packages/tensorflow/python/ops/math_ops.py:3066: to_int32 (from tensorflow.python.ops.math_ops) is deprecated and will be removed in a future version.\n",
            "Instructions for updating:\n",
            "Use tf.cast instead.\n"
          ],
          "name": "stdout"
        },
        {
          "output_type": "stream",
          "text": [
            "/usr/local/lib/python3.6/dist-packages/ipykernel_launcher.py:1: UserWarning: The `nb_epoch` argument in `fit` has been renamed `epochs`.\n",
            "  \"\"\"Entry point for launching an IPython kernel.\n"
          ],
          "name": "stderr"
        },
        {
          "output_type": "stream",
          "text": [
            "Train on 60000 samples, validate on 10000 samples\n",
            "Epoch 1/50\n",
            "Learning rate (from LearningRateScheduler):  0.001\n",
            "60000/60000 [==============================] - 9s 143us/step - loss: 0.4200 - acc: 0.8659 - val_loss: 0.0986 - val_acc: 0.9700\n",
            "Epoch 2/50\n",
            "Learning rate (from LearningRateScheduler):  0.001\n",
            "60000/60000 [==============================] - 6s 98us/step - loss: 0.1163 - acc: 0.9635 - val_loss: 0.0705 - val_acc: 0.9796\n",
            "Epoch 3/50\n",
            "Learning rate (from LearningRateScheduler):  0.001\n",
            "60000/60000 [==============================] - 6s 97us/step - loss: 0.0847 - acc: 0.9737 - val_loss: 0.0457 - val_acc: 0.9860\n",
            "Epoch 4/50\n",
            "Learning rate (from LearningRateScheduler):  0.001\n",
            "60000/60000 [==============================] - 6s 97us/step - loss: 0.0699 - acc: 0.9785 - val_loss: 0.0449 - val_acc: 0.9865\n",
            "Epoch 5/50\n",
            "Learning rate (from LearningRateScheduler):  0.001\n",
            "60000/60000 [==============================] - 6s 97us/step - loss: 0.0590 - acc: 0.9815 - val_loss: 0.0392 - val_acc: 0.9877\n",
            "Epoch 6/50\n",
            "Learning rate (from LearningRateScheduler):  0.001\n",
            "60000/60000 [==============================] - 6s 97us/step - loss: 0.0540 - acc: 0.9832 - val_loss: 0.0337 - val_acc: 0.9896\n",
            "Epoch 7/50\n",
            "Learning rate (from LearningRateScheduler):  0.001\n",
            "60000/60000 [==============================] - 6s 97us/step - loss: 0.0502 - acc: 0.9837 - val_loss: 0.0428 - val_acc: 0.9865\n",
            "Epoch 8/50\n",
            "Learning rate (from LearningRateScheduler):  0.001\n",
            "60000/60000 [==============================] - 6s 98us/step - loss: 0.0477 - acc: 0.9847 - val_loss: 0.0296 - val_acc: 0.9906\n",
            "Epoch 9/50\n",
            "Learning rate (from LearningRateScheduler):  0.001\n",
            "60000/60000 [==============================] - 6s 101us/step - loss: 0.0441 - acc: 0.9861 - val_loss: 0.0316 - val_acc: 0.9912\n",
            "Epoch 10/50\n",
            "Learning rate (from LearningRateScheduler):  0.001\n",
            "60000/60000 [==============================] - 6s 108us/step - loss: 0.0408 - acc: 0.9870 - val_loss: 0.0348 - val_acc: 0.9896\n",
            "Epoch 11/50\n",
            "Learning rate (from LearningRateScheduler):  0.001\n",
            "60000/60000 [==============================] - 6s 99us/step - loss: 0.0397 - acc: 0.9875 - val_loss: 0.0316 - val_acc: 0.9906\n",
            "Epoch 12/50\n",
            "Learning rate (from LearningRateScheduler):  0.0005\n",
            "60000/60000 [==============================] - 6s 97us/step - loss: 0.0328 - acc: 0.9890 - val_loss: 0.0254 - val_acc: 0.9925\n",
            "Epoch 13/50\n",
            "Learning rate (from LearningRateScheduler):  0.0005\n",
            "60000/60000 [==============================] - 6s 97us/step - loss: 0.0332 - acc: 0.9890 - val_loss: 0.0246 - val_acc: 0.9912\n",
            "Epoch 14/50\n",
            "Learning rate (from LearningRateScheduler):  0.0005\n",
            "60000/60000 [==============================] - 6s 97us/step - loss: 0.0322 - acc: 0.9899 - val_loss: 0.0273 - val_acc: 0.9925\n",
            "Epoch 15/50\n",
            "Learning rate (from LearningRateScheduler):  0.0005\n",
            "60000/60000 [==============================] - 6s 97us/step - loss: 0.0309 - acc: 0.9903 - val_loss: 0.0278 - val_acc: 0.9923\n",
            "Epoch 16/50\n",
            "Learning rate (from LearningRateScheduler):  0.0005\n",
            "60000/60000 [==============================] - 6s 98us/step - loss: 0.0308 - acc: 0.9899 - val_loss: 0.0254 - val_acc: 0.9929\n",
            "Epoch 17/50\n",
            "Learning rate (from LearningRateScheduler):  0.0005\n",
            "60000/60000 [==============================] - 6s 97us/step - loss: 0.0294 - acc: 0.9906 - val_loss: 0.0265 - val_acc: 0.9922\n",
            "Epoch 18/50\n",
            "Learning rate (from LearningRateScheduler):  0.0005\n",
            "60000/60000 [==============================] - 6s 98us/step - loss: 0.0287 - acc: 0.9907 - val_loss: 0.0268 - val_acc: 0.9915\n",
            "Epoch 19/50\n",
            "Learning rate (from LearningRateScheduler):  0.0005\n",
            "60000/60000 [==============================] - 6s 97us/step - loss: 0.0286 - acc: 0.9905 - val_loss: 0.0265 - val_acc: 0.9923\n",
            "Epoch 20/50\n",
            "Learning rate (from LearningRateScheduler):  0.0005\n",
            "60000/60000 [==============================] - 6s 97us/step - loss: 0.0273 - acc: 0.9912 - val_loss: 0.0268 - val_acc: 0.9929\n",
            "Epoch 21/50\n",
            "Learning rate (from LearningRateScheduler):  0.0005\n",
            "60000/60000 [==============================] - 6s 97us/step - loss: 0.0274 - acc: 0.9911 - val_loss: 0.0254 - val_acc: 0.9925\n",
            "Epoch 22/50\n",
            "Learning rate (from LearningRateScheduler):  0.0001\n",
            "60000/60000 [==============================] - 6s 97us/step - loss: 0.0232 - acc: 0.9925 - val_loss: 0.0249 - val_acc: 0.9933\n",
            "Epoch 23/50\n",
            "Learning rate (from LearningRateScheduler):  0.0001\n",
            "60000/60000 [==============================] - 6s 104us/step - loss: 0.0223 - acc: 0.9926 - val_loss: 0.0248 - val_acc: 0.9925\n",
            "Epoch 24/50\n",
            "Learning rate (from LearningRateScheduler):  0.0001\n",
            "60000/60000 [==============================] - 6s 106us/step - loss: 0.0224 - acc: 0.9925 - val_loss: 0.0239 - val_acc: 0.9934\n",
            "Epoch 25/50\n",
            "Learning rate (from LearningRateScheduler):  0.0001\n",
            "60000/60000 [==============================] - 6s 97us/step - loss: 0.0223 - acc: 0.9929 - val_loss: 0.0235 - val_acc: 0.9940\n",
            "Epoch 26/50\n",
            "Learning rate (from LearningRateScheduler):  0.0001\n",
            "60000/60000 [==============================] - 6s 97us/step - loss: 0.0218 - acc: 0.9928 - val_loss: 0.0243 - val_acc: 0.9931\n",
            "Epoch 27/50\n",
            "Learning rate (from LearningRateScheduler):  0.0001\n",
            "60000/60000 [==============================] - 6s 97us/step - loss: 0.0215 - acc: 0.9932 - val_loss: 0.0237 - val_acc: 0.9929\n",
            "Epoch 28/50\n",
            "Learning rate (from LearningRateScheduler):  0.0001\n",
            "60000/60000 [==============================] - 6s 98us/step - loss: 0.0222 - acc: 0.9927 - val_loss: 0.0241 - val_acc: 0.9932\n",
            "Epoch 29/50\n",
            "Learning rate (from LearningRateScheduler):  0.0001\n",
            "60000/60000 [==============================] - 6s 97us/step - loss: 0.0205 - acc: 0.9935 - val_loss: 0.0246 - val_acc: 0.9925\n",
            "Epoch 30/50\n",
            "Learning rate (from LearningRateScheduler):  0.0001\n",
            "60000/60000 [==============================] - 6s 99us/step - loss: 0.0218 - acc: 0.9928 - val_loss: 0.0246 - val_acc: 0.9926\n",
            "Epoch 31/50\n",
            "Learning rate (from LearningRateScheduler):  0.0001\n",
            "60000/60000 [==============================] - 6s 98us/step - loss: 0.0207 - acc: 0.9934 - val_loss: 0.0237 - val_acc: 0.9934\n",
            "Epoch 32/50\n",
            "Learning rate (from LearningRateScheduler):  5e-05\n",
            "60000/60000 [==============================] - 6s 97us/step - loss: 0.0219 - acc: 0.9928 - val_loss: 0.0235 - val_acc: 0.9935\n",
            "Epoch 33/50\n",
            "Learning rate (from LearningRateScheduler):  5e-05\n",
            "60000/60000 [==============================] - 6s 102us/step - loss: 0.0209 - acc: 0.9932 - val_loss: 0.0233 - val_acc: 0.9934\n",
            "Epoch 34/50\n",
            "Learning rate (from LearningRateScheduler):  5e-05\n",
            "60000/60000 [==============================] - 7s 110us/step - loss: 0.0208 - acc: 0.9935 - val_loss: 0.0237 - val_acc: 0.9933\n",
            "Epoch 35/50\n",
            "Learning rate (from LearningRateScheduler):  5e-05\n",
            "60000/60000 [==============================] - 6s 100us/step - loss: 0.0202 - acc: 0.9934 - val_loss: 0.0235 - val_acc: 0.9934\n",
            "Epoch 36/50\n",
            "Learning rate (from LearningRateScheduler):  5e-05\n",
            "60000/60000 [==============================] - 6s 101us/step - loss: 0.0214 - acc: 0.9931 - val_loss: 0.0235 - val_acc: 0.9940\n",
            "Epoch 37/50\n",
            "Learning rate (from LearningRateScheduler):  5e-05\n",
            "60000/60000 [==============================] - 6s 108us/step - loss: 0.0212 - acc: 0.9932 - val_loss: 0.0238 - val_acc: 0.9938\n",
            "Epoch 38/50\n",
            "Learning rate (from LearningRateScheduler):  5e-05\n",
            "60000/60000 [==============================] - 6s 99us/step - loss: 0.0197 - acc: 0.9935 - val_loss: 0.0240 - val_acc: 0.9937\n",
            "Epoch 39/50\n",
            "Learning rate (from LearningRateScheduler):  5e-05\n",
            "60000/60000 [==============================] - 6s 97us/step - loss: 0.0197 - acc: 0.9935 - val_loss: 0.0238 - val_acc: 0.9937\n",
            "Epoch 40/50\n",
            "Learning rate (from LearningRateScheduler):  5e-05\n",
            "60000/60000 [==============================] - 6s 98us/step - loss: 0.0202 - acc: 0.9931 - val_loss: 0.0238 - val_acc: 0.9936\n",
            "Epoch 41/50\n",
            "Learning rate (from LearningRateScheduler):  5e-05\n",
            "60000/60000 [==============================] - 6s 97us/step - loss: 0.0197 - acc: 0.9935 - val_loss: 0.0243 - val_acc: 0.9934\n",
            "Epoch 42/50\n",
            "Learning rate (from LearningRateScheduler):  1e-05\n",
            "60000/60000 [==============================] - 6s 98us/step - loss: 0.0194 - acc: 0.9933 - val_loss: 0.0240 - val_acc: 0.9938\n",
            "Epoch 43/50\n",
            "Learning rate (from LearningRateScheduler):  1e-05\n",
            "60000/60000 [==============================] - 6s 97us/step - loss: 0.0194 - acc: 0.9937 - val_loss: 0.0240 - val_acc: 0.9937\n",
            "Epoch 44/50\n",
            "Learning rate (from LearningRateScheduler):  1e-05\n",
            "60000/60000 [==============================] - 6s 97us/step - loss: 0.0205 - acc: 0.9932 - val_loss: 0.0239 - val_acc: 0.9937\n",
            "Epoch 45/50\n",
            "Learning rate (from LearningRateScheduler):  1e-05\n",
            "60000/60000 [==============================] - 6s 97us/step - loss: 0.0195 - acc: 0.9935 - val_loss: 0.0240 - val_acc: 0.9936\n",
            "Epoch 46/50\n",
            "Learning rate (from LearningRateScheduler):  1e-05\n",
            "60000/60000 [==============================] - 6s 97us/step - loss: 0.0202 - acc: 0.9935 - val_loss: 0.0239 - val_acc: 0.9939\n",
            "Epoch 47/50\n",
            "Learning rate (from LearningRateScheduler):  1e-05\n",
            "60000/60000 [==============================] - 6s 97us/step - loss: 0.0197 - acc: 0.9935 - val_loss: 0.0240 - val_acc: 0.9938\n",
            "Epoch 48/50\n",
            "Learning rate (from LearningRateScheduler):  1e-05\n",
            "60000/60000 [==============================] - 6s 97us/step - loss: 0.0203 - acc: 0.9933 - val_loss: 0.0239 - val_acc: 0.9938\n",
            "Epoch 49/50\n",
            "Learning rate (from LearningRateScheduler):  1e-05\n",
            "60000/60000 [==============================] - 6s 97us/step - loss: 0.0186 - acc: 0.9940 - val_loss: 0.0240 - val_acc: 0.9938\n",
            "Epoch 50/50\n",
            "Learning rate (from LearningRateScheduler):  1e-05\n",
            "60000/60000 [==============================] - 6s 106us/step - loss: 0.0194 - acc: 0.9935 - val_loss: 0.0240 - val_acc: 0.9937\n"
          ],
          "name": "stdout"
        },
        {
          "output_type": "execute_result",
          "data": {
            "text/plain": [
              "<keras.callbacks.History at 0x7f7fd8dbe8d0>"
            ]
          },
          "metadata": {
            "tags": []
          },
          "execution_count": 14
        }
      ]
    },
    {
      "cell_type": "markdown",
      "metadata": {
        "id": "2i8YS_pmgeEi",
        "colab_type": "text"
      },
      "source": [
        "# Best Validation Accuracy\n",
        "Best validation accuracy is at **epoch 25** - **val_acc: 0.9940**\n",
        "\n",
        "Accuracy has increased compared to previous network where we used only dropouts and BatchNormalization."
      ]
    },
    {
      "cell_type": "code",
      "metadata": {
        "id": "AtsH-lLk-eLb",
        "colab_type": "code",
        "colab": {}
      },
      "source": [
        "# Evaluating the model on the Test data using the weights of last epoch. Returns the loss value & metrics values for the model in test mode.\n",
        "score = model.evaluate(X_test, Y_test, verbose=0)"
      ],
      "execution_count": 0,
      "outputs": []
    },
    {
      "cell_type": "code",
      "metadata": {
        "id": "mkX8JMv79q9r",
        "colab_type": "code",
        "outputId": "d3fe50f5-8f35-4e74-bb9a-ac9f7bc921ce",
        "colab": {
          "base_uri": "https://localhost:8080/",
          "height": 34
        }
      },
      "source": [
        "# Printing the evaluation result\n",
        "print(score);"
      ],
      "execution_count": 0,
      "outputs": [
        {
          "output_type": "stream",
          "text": [
            "[0.023981187903237878, 0.9937]\n"
          ],
          "name": "stdout"
        }
      ]
    },
    {
      "cell_type": "code",
      "metadata": {
        "id": "OCWoJkwE9suh",
        "colab_type": "code",
        "colab": {}
      },
      "source": [
        "# Generates output predictions for the input samples.\n",
        "y_pred = model.predict(X_test)"
      ],
      "execution_count": 0,
      "outputs": []
    },
    {
      "cell_type": "code",
      "metadata": {
        "id": "Ym7iCFBm9uBs",
        "colab_type": "code",
        "outputId": "3d47004d-b70e-41ee-822d-65e9e9a0e967",
        "colab": {
          "base_uri": "https://localhost:8080/",
          "height": 493
        }
      },
      "source": [
        "# Printing the outputs. y_pred results do not look correct.\n",
        "print(y_pred[:9])\n",
        "print(y_test[:9])"
      ],
      "execution_count": 0,
      "outputs": [
        {
          "output_type": "stream",
          "text": [
            "[[1.84504994e-15 1.15541476e-09 2.72507890e-07 3.87021792e-08\n",
            "  1.94028380e-14 4.81114627e-12 1.19618109e-22 9.99999523e-01\n",
            "  3.19155320e-13 1.63626652e-07]\n",
            " [3.86477410e-07 3.89442266e-06 9.99989510e-01 1.01931166e-08\n",
            "  3.31349014e-07 3.11568913e-12 1.81135444e-08 5.89319188e-06\n",
            "  5.39429337e-08 3.91116001e-10]\n",
            " [2.85002744e-10 9.99995232e-01 1.47263413e-09 7.53100002e-13\n",
            "  1.31453010e-06 5.03359709e-09 3.62959902e-08 2.65254084e-06\n",
            "  6.19643345e-07 9.16732503e-08]\n",
            " [9.99884844e-01 1.02019348e-11 2.08294484e-08 2.14444711e-07\n",
            "  2.01879899e-07 1.94679865e-06 6.22164880e-05 1.16332433e-09\n",
            "  6.55660983e-07 4.98924237e-05]\n",
            " [3.41483005e-12 5.97513033e-13 2.92154009e-11 2.26089590e-15\n",
            "  9.99999642e-01 7.49932560e-13 4.02627888e-12 6.50104193e-09\n",
            "  3.47628537e-10 3.76675786e-07]\n",
            " [6.10838713e-10 9.99983191e-01 4.72820005e-09 1.24688102e-13\n",
            "  3.15517582e-06 1.86254442e-10 7.25132043e-09 1.35400896e-05\n",
            "  9.98064635e-08 3.76780420e-08]\n",
            " [8.51873608e-17 1.57303699e-08 1.75882642e-09 1.11679925e-13\n",
            "  9.99992251e-01 7.42262480e-13 1.96987150e-20 2.97680776e-06\n",
            "  1.97590406e-08 4.74699118e-06]\n",
            " [2.26650059e-07 5.91370153e-09 2.31769172e-06 4.38310025e-07\n",
            "  2.65185721e-04 9.56367899e-07 4.79561946e-11 2.24310828e-08\n",
            "  2.66762214e-07 9.99730647e-01]\n",
            " [7.87140209e-07 1.09677560e-13 1.26557065e-09 8.26438196e-10\n",
            "  1.18208707e-10 9.12468553e-01 8.72934982e-02 6.85969022e-14\n",
            "  2.36298089e-04 8.95698122e-07]]\n",
            "[7 2 1 0 4 1 4 9 5]\n"
          ],
          "name": "stdout"
        }
      ]
    },
    {
      "cell_type": "code",
      "metadata": {
        "id": "CT--y98_dr2T",
        "colab_type": "code",
        "colab": {}
      },
      "source": [
        "layer_dict = dict([(layer.name, layer) for layer in model.layers])"
      ],
      "execution_count": 0,
      "outputs": []
    },
    {
      "cell_type": "code",
      "metadata": {
        "id": "2GY4Upv4dsUR",
        "colab_type": "code",
        "outputId": "673742e5-cfce-437a-b0cc-b69413927dbf",
        "colab": {
          "base_uri": "https://localhost:8080/",
          "height": 771
        }
      },
      "source": [
        "import numpy as np\n",
        "from matplotlib import pyplot as plt\n",
        "from keras import backend as K\n",
        "%matplotlib inline\n",
        "# util function to convert a tensor into a valid image\n",
        "def deprocess_image(x):\n",
        "    # normalize tensor: center on 0., ensure std is 0.1\n",
        "    x -= x.mean()\n",
        "    x /= (x.std() + 1e-5)\n",
        "    x *= 0.1\n",
        "\n",
        "    # clip to [0, 1]\n",
        "    x += 0.5\n",
        "    x = np.clip(x, 0, 1)\n",
        "\n",
        "    # convert to RGB array\n",
        "    x *= 255\n",
        "    #x = x.transpose((1, 2, 0))\n",
        "    x = np.clip(x, 0, 255).astype('uint8')\n",
        "    return x\n",
        "\n",
        "def vis_img_in_filter(img = np.array(X_train[2]).reshape((1, 28, 28, 1)).astype(np.float64), \n",
        "                      layer_name = 'conv2d_1'):\n",
        "    layer_output = layer_dict[layer_name].output\n",
        "    img_ascs = list()\n",
        "    for filter_index in range(layer_output.shape[3]):\n",
        "        # build a loss function that maximizes the activation\n",
        "        # of the nth filter of the layer considered\n",
        "        loss = K.mean(layer_output[:, :, :, filter_index])\n",
        "\n",
        "        # compute the gradient of the input picture wrt this loss\n",
        "        grads = K.gradients(loss, model.input)[0]\n",
        "\n",
        "        # normalization trick: we normalize the gradient\n",
        "        grads /= (K.sqrt(K.mean(K.square(grads))) + 1e-5)\n",
        "\n",
        "        # this function returns the loss and grads given the input picture\n",
        "        iterate = K.function([model.input], [loss, grads])\n",
        "\n",
        "        # step size for gradient ascent\n",
        "        step = 5.\n",
        "\n",
        "        img_asc = np.array(img)\n",
        "        # run gradient ascent for 20 steps\n",
        "        for i in range(20):\n",
        "            loss_value, grads_value = iterate([img_asc])\n",
        "            img_asc += grads_value * step\n",
        "\n",
        "        img_asc = img_asc[0]\n",
        "        img_ascs.append(deprocess_image(img_asc).reshape((28, 28)))\n",
        "        \n",
        "    if layer_output.shape[3] >= 35:\n",
        "        plot_x, plot_y = 6, 6\n",
        "    elif layer_output.shape[3] >= 23:\n",
        "        plot_x, plot_y = 4, 6\n",
        "    elif layer_output.shape[3] >= 11:\n",
        "        plot_x, plot_y = 2, 6\n",
        "    else:\n",
        "        plot_x, plot_y = 2, 4\n",
        "    fig, ax = plt.subplots(plot_x, plot_y, figsize = (12, 12))\n",
        "    ax[0, 0].imshow(img.reshape((28, 28)), cmap = 'gray')\n",
        "    ax[0, 0].set_title('Input image')\n",
        "    fig.suptitle('Input image and %s filters' % (layer_name,))\n",
        "    fig.tight_layout(pad = 0.3, rect = [0, 0, 0.9, 0.9])\n",
        "    for (x, y) in [(i, j) for i in range(plot_x) for j in range(plot_y)]:\n",
        "        if x == 0 and y == 0:\n",
        "            continue\n",
        "        ax[x, y].imshow(img_ascs[x * plot_y + y - 1], cmap = 'gray')\n",
        "        ax[x, y].set_title('filter %d' % (x * plot_y + y - 1))\n",
        "\n",
        "vis_img_in_filter()"
      ],
      "execution_count": 0,
      "outputs": [
        {
          "output_type": "display_data",
          "data": {
            "image/png": "[encoded data removed]",
            "text/plain": [
              "<Figure size 864x864 with 8 Axes>"
            ]
          },
          "metadata": {
            "tags": []
          }
        }
      ]
    },
    {
      "cell_type": "code",
      "metadata": {
        "id": "9tvptcn8dxvp",
        "colab_type": "code",
        "colab": {}
      },
      "source": [
        ""
      ],
      "execution_count": 0,
      "outputs": []
    }
  ]
}