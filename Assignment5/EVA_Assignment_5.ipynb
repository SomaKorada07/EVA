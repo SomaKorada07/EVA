{
  "nbformat": 4,
  "nbformat_minor": 0,
  "metadata": {
    "colab": {
      "name": "EVA_Assignment_5.ipynb",
      "version": "0.3.2",
      "provenance": [],
      "collapsed_sections": []
    },
    "kernelspec": {
      "name": "python3",
      "display_name": "Python 3"
    },
    "accelerator": "GPU"
  },
  "cells": [
    {
      "cell_type": "markdown",
      "metadata": {
        "id": "_MWAp4iFtVYJ",
        "colab_type": "text"
      },
      "source": [
        "#HEADER NOTE\n",
        "\n",
        "*   Performed Image Normalization on both training and validation data.\n",
        "*   Added L2 regularization to the loss function.\n",
        "*   Already assignment 4 code had relu after BN.\n",
        "*   Identified the top 25 misclassified images from validation data set and created an image gallery from them."
      ]
    },
    {
      "cell_type": "markdown",
      "metadata": {
        "id": "aNyZv-Ec52ot",
        "colab_type": "text"
      },
      "source": [
        "# **Import Libraries and modules**"
      ]
    },
    {
      "cell_type": "code",
      "metadata": {
        "id": "3m3w1Cw49Zkt",
        "colab_type": "code",
        "outputId": "05ec6553-5548-4321-8c09-4166350a8793",
        "colab": {
          "base_uri": "https://localhost:8080/",
          "height": 34
        }
      },
      "source": [
        "# https://keras.io/\n",
        "# Installing Keras which is open-source neural-network library written in Python.\n",
        "!pip install -q keras\n",
        "\n",
        "# Importing the keras library.\n",
        "import keras"
      ],
      "execution_count": 1,
      "outputs": [
        {
          "output_type": "stream",
          "text": [
            "Using TensorFlow backend.\n"
          ],
          "name": "stderr"
        }
      ]
    },
    {
      "cell_type": "code",
      "metadata": {
        "id": "Eso6UHE080D4",
        "colab_type": "code",
        "colab": {}
      },
      "source": [
        "# Importing NumPy (Numerical Python) which is a library consisting of multidimensional array objects and a collection of routines for processing those arrays. It also gives an alias to the library.\n",
        "import numpy as np\n",
        "\n",
        "# There are two main types of models available in Keras: the Sequential model and the Model class used with the functional API.\n",
        "# Sequential model is a linear stack of layers. Importing Sequential model from Keras.\n",
        "from keras.models import Sequential\n",
        "\n",
        "# Importing different layers from Keras.\n",
        "from keras.layers import Dense, Dropout, Activation, Flatten, Add\n",
        "from keras.layers import Convolution2D, MaxPooling2D, BatchNormalization\n",
        "\n",
        "# Importing the utils library of Keras.\n",
        "from keras.utils import np_utils\n",
        "\n",
        "# Importing the callbacks of Keras.\n",
        "from keras.callbacks import ModelCheckpoint\n",
        "\n",
        "# Importing the preprocessing library of Keras for Image Augmentation \n",
        "from keras.preprocessing.image import ImageDataGenerator\n",
        "\n",
        "# Importing l2 regularizer from Keras\n",
        "from keras.regularizers import l2\n",
        "\n",
        "# MNIST is a database of handwritten digits. It is a dataset of 60,000 28x28 grayscale images of the 10 digits, along with a test set of 10,000 images. Importing MNIST dataset from Keras.\n",
        "from keras.datasets import mnist\n",
        "\n",
        "# backend\n",
        "from keras import backend as k"
      ],
      "execution_count": 0,
      "outputs": []
    },
    {
      "cell_type": "markdown",
      "metadata": {
        "id": "zByEi95J86RD",
        "colab_type": "text"
      },
      "source": [
        "### Load pre-shuffled MNIST data into train and test sets"
      ]
    },
    {
      "cell_type": "code",
      "metadata": {
        "id": "7eRM0QWN83PV",
        "colab_type": "code",
        "outputId": "70e7c95d-01f8-41eb-f020-04f5cb898d4f",
        "colab": {
          "base_uri": "https://localhost:8080/",
          "height": 51
        }
      },
      "source": [
        "# Loading the MNIST 60000 Training and 10000 Test data into respective numpy arrays\n",
        "(X_train, y_train), (X_test, y_test) = mnist.load_data()"
      ],
      "execution_count": 3,
      "outputs": [
        {
          "output_type": "stream",
          "text": [
            "Downloading data from https://s3.amazonaws.com/img-datasets/mnist.npz\n",
            "11493376/11490434 [==============================] - 0s 0us/step\n"
          ],
          "name": "stdout"
        }
      ]
    },
    {
      "cell_type": "code",
      "metadata": {
        "id": "4a4Be72j8-ZC",
        "colab_type": "code",
        "outputId": "22a8b619-6818-441d-84b7-5e6904ae0143",
        "colab": {
          "base_uri": "https://localhost:8080/",
          "height": 320
        }
      },
      "source": [
        "# Printing the shape of the Training data\n",
        "print (X_train.shape)\n",
        "print(y_test[582])\n",
        "\n",
        "# Matplotlib is a plotting library for Python. Pyplot is a collection of command style functions that make matplotlib work like MATLAB. Each pyplot function makes some change to a figure: e.g., creates a figure, creates a plotting area in a figure, plots some lines in a plotting area, decorates the plot with labels, etc.\n",
        "from matplotlib import pyplot as plt\n",
        "\n",
        "# Sets the backend of matplotlib to 'inline' backend. With this backend, the output of plotting commands is displayed inline within frontends like the Jupyter notebook, directly below the code cell that produced it.\n",
        "%matplotlib inline\n",
        "\n",
        "# Renders the image.\n",
        "plt.imshow(X_test[582])"
      ],
      "execution_count": 9,
      "outputs": [
        {
          "output_type": "stream",
          "text": [
            "(60000, 28, 28)\n",
            "8\n"
          ],
          "name": "stdout"
        },
        {
          "output_type": "execute_result",
          "data": {
            "text/plain": [
              "<matplotlib.image.AxesImage at 0x7fb3bf3a6e10>"
            ]
          },
          "metadata": {
            "tags": []
          },
          "execution_count": 9
        },
        {
          "output_type": "display_data",
          "data": {
            "image/png": "[encoded data removed]",
            "text/plain": [
              "<Figure size 432x288 with 1 Axes>"
            ]
          },
          "metadata": {
            "tags": []
          }
        }
      ]
    },
    {
      "cell_type": "code",
      "metadata": {
        "id": "dkmprriw9AnZ",
        "colab_type": "code",
        "colab": {}
      },
      "source": [
        "# Reshaping the Training and Test data to add the channel parameter as the input to Conv2D layer is expected to be of shape (img_rows, img_cols, num_channels) if data_format=\"channels_last\" which is default.\n",
        "X_train = X_train.reshape(X_train.shape[0], 28, 28,1)\n",
        "X_test = X_test.reshape(X_test.shape[0], 28, 28,1)"
      ],
      "execution_count": 0,
      "outputs": []
    },
    {
      "cell_type": "code",
      "metadata": {
        "id": "X2m4YS4E9CRh",
        "colab_type": "code",
        "colab": {}
      },
      "source": [
        "# Normalizing the Training and Test values\n",
        "X_train = X_train.astype('float32')\n",
        "X_test = X_test.astype('float32')\n",
        "X_train /= 255\n",
        "X_test /= 255"
      ],
      "execution_count": 0,
      "outputs": []
    },
    {
      "cell_type": "code",
      "metadata": {
        "id": "0Mn0vAYD9DvB",
        "colab_type": "code",
        "outputId": "dde7b2e5-871d-4989-a0e4-9fd678e97c20",
        "colab": {
          "base_uri": "https://localhost:8080/",
          "height": 34
        }
      },
      "source": [
        "# Printing the first 10 labelled Training data\n",
        "y_train[:10]"
      ],
      "execution_count": 12,
      "outputs": [
        {
          "output_type": "execute_result",
          "data": {
            "text/plain": [
              "array([5, 0, 4, 1, 9, 2, 1, 3, 1, 4], dtype=uint8)"
            ]
          },
          "metadata": {
            "tags": []
          },
          "execution_count": 12
        }
      ]
    },
    {
      "cell_type": "code",
      "metadata": {
        "id": "ZG8JiXR39FHC",
        "colab_type": "code",
        "colab": {}
      },
      "source": [
        "# Convert 1-dimensional class arrays to 10-dimensional class matrices\n",
        "# np.utils.to_categorical is used to convert array of labelled data (from 0 to nb_classes-1) to one-hot vector.\n",
        "Y_train = np_utils.to_categorical(y_train, 10)\n",
        "Y_test = np_utils.to_categorical(y_test, 10)"
      ],
      "execution_count": 0,
      "outputs": []
    },
    {
      "cell_type": "code",
      "metadata": {
        "id": "fYlFRvKS9HMB",
        "colab_type": "code",
        "outputId": "4c8b8b28-423d-45f0-dd25-b83317fa49a7",
        "colab": {
          "base_uri": "https://localhost:8080/",
          "height": 187
        }
      },
      "source": [
        "# Printing the first 10 labelled Training data after converting to one-hot vector.\n",
        "Y_train[:10]\n"
      ],
      "execution_count": 14,
      "outputs": [
        {
          "output_type": "execute_result",
          "data": {
            "text/plain": [
              "array([[0., 0., 0., 0., 0., 1., 0., 0., 0., 0.],\n",
              "       [1., 0., 0., 0., 0., 0., 0., 0., 0., 0.],\n",
              "       [0., 0., 0., 0., 1., 0., 0., 0., 0., 0.],\n",
              "       [0., 1., 0., 0., 0., 0., 0., 0., 0., 0.],\n",
              "       [0., 0., 0., 0., 0., 0., 0., 0., 0., 1.],\n",
              "       [0., 0., 1., 0., 0., 0., 0., 0., 0., 0.],\n",
              "       [0., 1., 0., 0., 0., 0., 0., 0., 0., 0.],\n",
              "       [0., 0., 0., 1., 0., 0., 0., 0., 0., 0.],\n",
              "       [0., 1., 0., 0., 0., 0., 0., 0., 0., 0.],\n",
              "       [0., 0., 0., 0., 1., 0., 0., 0., 0., 0.]], dtype=float32)"
            ]
          },
          "metadata": {
            "tags": []
          },
          "execution_count": 14
        }
      ]
    },
    {
      "cell_type": "code",
      "metadata": {
        "id": "xP82pS-dW1mt",
        "colab_type": "code",
        "colab": {}
      },
      "source": [
        "batch_size = 128\n",
        "num_epochs = 40\n",
        "training_samples = 60000\n",
        "validation_samples = 10000"
      ],
      "execution_count": 0,
      "outputs": []
    },
    {
      "cell_type": "code",
      "metadata": {
        "id": "osKqT73Q9JJB",
        "colab_type": "code",
        "outputId": "4fd5a673-38ba-45e6-c9f4-b6c903bf8e0c",
        "colab": {
          "base_uri": "https://localhost:8080/",
          "height": 139
        }
      },
      "source": [
        "from keras.layers import Activation\n",
        "\n",
        "# Defining the model/network using (3,3) and (1,1) convolution layers, dropout, batchnormalization and 'relu' activation\n",
        "model = Sequential()\n",
        "\n",
        "model.add(Convolution2D(8, 3, input_shape=(28,28,1), use_bias=False)) # RF - 3X3, O/P - 26x26\n",
        "model.add(BatchNormalization())\n",
        "model.add(Activation('relu'))\n",
        "\n",
        "model.add(Dropout(0.125))\n",
        "model.add(BatchNormalization())\n",
        "model.add(Convolution2D(10, 3, use_bias=False)) # RF - 5X5, O/P - 24x24\n",
        "model.add(Activation('relu'))\n",
        "\n",
        "model.add(Dropout(0.125))\n",
        "model.add(BatchNormalization())\n",
        "model.add(Convolution2D(16, 3, use_bias=False)) # RF - 7X7, O/P - 22x22\n",
        "model.add(Activation('relu'))\n",
        "\n",
        "model.add(Convolution2D(8, 1, use_bias=False))\n",
        "model.add(MaxPooling2D(pool_size = (2, 2), strides=None, padding='valid', data_format=None)) # RF - 14X14, O/P - 11x11\n",
        "\n",
        "model.add(Dropout(0.125))\n",
        "model.add(BatchNormalization())\n",
        "model.add(Convolution2D(8, 3, use_bias=False)) # RF - 16X16, O/P - 9X9\n",
        "model.add(Activation('relu'))\n",
        "\n",
        "model.add(BatchNormalization())\n",
        "model.add(Convolution2D(10, 3, use_bias=False)) # RF - 18X18, O/P - 7X7\n",
        "model.add(Activation('relu'))\n",
        "\n",
        "model.add(Dropout(0.125))\n",
        "model.add(BatchNormalization())\n",
        "model.add(Convolution2D(16, 3, use_bias=False)) # RF - 20X20, O/P - 5X5\n",
        "model.add(Activation('relu'))\n",
        "\n",
        "model.add(BatchNormalization())\n",
        "model.add(Convolution2D(10, 1, use_bias=False)) # RF - 20X20, O/P - 5X5\n",
        "model.add(Activation('relu'))\n",
        "\n",
        "model.add(Dropout(0.125))\n",
        "model.add(BatchNormalization())\n",
        "model.add(Convolution2D(10, 5, use_bias=False)) # RF - 20X20, O/P - 5X5\n",
        "\n",
        "model.add(Flatten())\n",
        "model.add(Activation('softmax'))"
      ],
      "execution_count": 16,
      "outputs": [
        {
          "output_type": "stream",
          "text": [
            "WARNING:tensorflow:From /usr/local/lib/python3.6/dist-packages/tensorflow/python/framework/op_def_library.py:263: colocate_with (from tensorflow.python.framework.ops) is deprecated and will be removed in a future version.\n",
            "Instructions for updating:\n",
            "Colocations handled automatically by placer.\n",
            "WARNING:tensorflow:From /usr/local/lib/python3.6/dist-packages/keras/backend/tensorflow_backend.py:3445: calling dropout (from tensorflow.python.ops.nn_ops) with keep_prob is deprecated and will be removed in a future version.\n",
            "Instructions for updating:\n",
            "Please use `rate` instead of `keep_prob`. Rate should be set to `rate = 1 - keep_prob`.\n"
          ],
          "name": "stdout"
        }
      ]
    },
    {
      "cell_type": "code",
      "metadata": {
        "id": "TzdAYg1k9K7Z",
        "colab_type": "code",
        "outputId": "ba4ae9b0-fd79-4624-cb01-b75fac21d729",
        "colab": {
          "base_uri": "https://localhost:8080/",
          "height": 1224
        }
      },
      "source": [
        "model.summary()"
      ],
      "execution_count": 17,
      "outputs": [
        {
          "output_type": "stream",
          "text": [
            "_________________________________________________________________\n",
            "Layer (type)                 Output Shape              Param #   \n",
            "=================================================================\n",
            "conv2d_1 (Conv2D)            (None, 26, 26, 8)         72        \n",
            "_________________________________________________________________\n",
            "batch_normalization_1 (Batch (None, 26, 26, 8)         32        \n",
            "_________________________________________________________________\n",
            "activation_1 (Activation)    (None, 26, 26, 8)         0         \n",
            "_________________________________________________________________\n",
            "dropout_1 (Dropout)          (None, 26, 26, 8)         0         \n",
            "_________________________________________________________________\n",
            "batch_normalization_2 (Batch (None, 26, 26, 8)         32        \n",
            "_________________________________________________________________\n",
            "conv2d_2 (Conv2D)            (None, 24, 24, 10)        720       \n",
            "_________________________________________________________________\n",
            "activation_2 (Activation)    (None, 24, 24, 10)        0         \n",
            "_________________________________________________________________\n",
            "dropout_2 (Dropout)          (None, 24, 24, 10)        0         \n",
            "_________________________________________________________________\n",
            "batch_normalization_3 (Batch (None, 24, 24, 10)        40        \n",
            "_________________________________________________________________\n",
            "conv2d_3 (Conv2D)            (None, 22, 22, 16)        1440      \n",
            "_________________________________________________________________\n",
            "activation_3 (Activation)    (None, 22, 22, 16)        0         \n",
            "_________________________________________________________________\n",
            "conv2d_4 (Conv2D)            (None, 22, 22, 8)         128       \n",
            "_________________________________________________________________\n",
            "max_pooling2d_1 (MaxPooling2 (None, 11, 11, 8)         0         \n",
            "_________________________________________________________________\n",
            "dropout_3 (Dropout)          (None, 11, 11, 8)         0         \n",
            "_________________________________________________________________\n",
            "batch_normalization_4 (Batch (None, 11, 11, 8)         32        \n",
            "_________________________________________________________________\n",
            "conv2d_5 (Conv2D)            (None, 9, 9, 8)           576       \n",
            "_________________________________________________________________\n",
            "activation_4 (Activation)    (None, 9, 9, 8)           0         \n",
            "_________________________________________________________________\n",
            "batch_normalization_5 (Batch (None, 9, 9, 8)           32        \n",
            "_________________________________________________________________\n",
            "conv2d_6 (Conv2D)            (None, 7, 7, 10)          720       \n",
            "_________________________________________________________________\n",
            "activation_5 (Activation)    (None, 7, 7, 10)          0         \n",
            "_________________________________________________________________\n",
            "dropout_4 (Dropout)          (None, 7, 7, 10)          0         \n",
            "_________________________________________________________________\n",
            "batch_normalization_6 (Batch (None, 7, 7, 10)          40        \n",
            "_________________________________________________________________\n",
            "conv2d_7 (Conv2D)            (None, 5, 5, 16)          1440      \n",
            "_________________________________________________________________\n",
            "activation_6 (Activation)    (None, 5, 5, 16)          0         \n",
            "_________________________________________________________________\n",
            "batch_normalization_7 (Batch (None, 5, 5, 16)          64        \n",
            "_________________________________________________________________\n",
            "conv2d_8 (Conv2D)            (None, 5, 5, 10)          160       \n",
            "_________________________________________________________________\n",
            "activation_7 (Activation)    (None, 5, 5, 10)          0         \n",
            "_________________________________________________________________\n",
            "dropout_5 (Dropout)          (None, 5, 5, 10)          0         \n",
            "_________________________________________________________________\n",
            "batch_normalization_8 (Batch (None, 5, 5, 10)          40        \n",
            "_________________________________________________________________\n",
            "conv2d_9 (Conv2D)            (None, 1, 1, 10)          2500      \n",
            "_________________________________________________________________\n",
            "flatten_1 (Flatten)          (None, 10)                0         \n",
            "_________________________________________________________________\n",
            "activation_8 (Activation)    (None, 10)                0         \n",
            "=================================================================\n",
            "Total params: 8,068\n",
            "Trainable params: 7,912\n",
            "Non-trainable params: 156\n",
            "_________________________________________________________________\n"
          ],
          "name": "stdout"
        }
      ]
    },
    {
      "cell_type": "code",
      "metadata": {
        "id": "IwimkWVg_03R",
        "colab_type": "code",
        "colab": {}
      },
      "source": [
        "# Custom loss function to add L2 regularization to cross entropy loss\n",
        "def custom_loss_function(actual,predicted):\n",
        "  squared_weight = 0\n",
        "  for layer in model.layers:\n",
        "    squared_weight = squared_weight + np.sum(np.sum(np.sum(np.square(layer.get_weights()))))\n",
        "  hyperparam = 1.5e-4 # lambda_hyperparam / (2 * batch_size)\n",
        "  L2_regularization = hyperparam * squared_weight\n",
        "  Loss = keras.losses.categorical_crossentropy(actual,predicted) + L2_regularization\n",
        "  return Loss"
      ],
      "execution_count": 0,
      "outputs": []
    },
    {
      "cell_type": "code",
      "metadata": {
        "id": "Zp6SuGrL9M3h",
        "colab_type": "code",
        "colab": {}
      },
      "source": [
        "# Compiling the model\n",
        "# Loss function is one of the arguments required for compiling a model. categorical_crossentropy loss function is used if the targets are one-hot encoded.\n",
        "# Optimizer is one of the arguments required for compiling a model. Adam is an optimization algorithm that can used instead of the classical stochastic gradient descent procedure to update network weights iterative based in training data.\n",
        "# A metric is a function that is used to judge the performance of your model.\n",
        "model.compile(loss=custom_loss_function,\n",
        "             optimizer='adam',\n",
        "             metrics=['accuracy'])"
      ],
      "execution_count": 0,
      "outputs": []
    },
    {
      "cell_type": "code",
      "metadata": {
        "id": "Lo14ZPvF51Gt",
        "colab_type": "code",
        "outputId": "1de04d2d-5654-47a7-c43c-b14821f640f1",
        "colab": {
          "base_uri": "https://localhost:8080/",
          "height": 122
        }
      },
      "source": [
        "# Mounting the Google Drive to save the weights\n",
        "from google.colab import drive\n",
        "drive.mount('/content/gdrive')"
      ],
      "execution_count": 20,
      "outputs": [
        {
          "output_type": "stream",
          "text": [
            "Go to this URL in a browser: https://accounts.google.com/o/oauth2/auth?client_id=947318989803-6bn6qk8qdgf4n4g3pfee6491hc0brc4i.apps.googleusercontent.com&redirect_uri=urn%3Aietf%3Awg%3Aoauth%3A2.0%3Aoob&scope=email%20https%3A%2F%2Fwww.googleapis.com%2Fauth%2Fdocs.test%20https%3A%2F%2Fwww.googleapis.com%2Fauth%2Fdrive%20https%3A%2F%2Fwww.googleapis.com%2Fauth%2Fdrive.photos.readonly%20https%3A%2F%2Fwww.googleapis.com%2Fauth%2Fpeopleapi.readonly&response_type=code\n",
            "\n",
            "Enter your authorization code:\n",
            "··········\n",
            "Mounted at /content/gdrive\n"
          ],
          "name": "stdout"
        }
      ]
    },
    {
      "cell_type": "code",
      "metadata": {
        "id": "95O1KWih5npA",
        "colab_type": "code",
        "colab": {}
      },
      "source": [
        "# Specifying the path to store the weights\n",
        "filepath=\"/content/gdrive/My Drive/Assignment5:{epoch:03d}-val_acc:{val_acc:.3f}.hdf5\"\n",
        "checkpoint = ModelCheckpoint(filepath, monitor='val_acc', verbose=1, save_best_only=True, save_weights_only=True, mode='max')"
      ],
      "execution_count": 0,
      "outputs": []
    },
    {
      "cell_type": "code",
      "metadata": {
        "id": "AgKCRtQb-NUG",
        "colab_type": "code",
        "colab": {}
      },
      "source": [
        "# Create generator that centers pixel values\n",
        "datagen = ImageDataGenerator(\n",
        "    featurewise_center=True,  # set input mean to 0 over the dataset\n",
        "    featurewise_std_normalization=True,  # divide inputs by std of the dataset\n",
        ")"
      ],
      "execution_count": 0,
      "outputs": []
    },
    {
      "cell_type": "code",
      "metadata": {
        "id": "slv0qsBe27jb",
        "colab_type": "code",
        "colab": {}
      },
      "source": [
        "# Calculate the mean on the training dataset\n",
        "datagen.fit(X_train)"
      ],
      "execution_count": 0,
      "outputs": []
    },
    {
      "cell_type": "code",
      "metadata": {
        "id": "MLhcIXkg2-nH",
        "colab_type": "code",
        "colab": {}
      },
      "source": [
        "# Calculate the mean on the test dataset\n",
        "datagen.fit(X_test)"
      ],
      "execution_count": 0,
      "outputs": []
    },
    {
      "cell_type": "code",
      "metadata": {
        "id": "loLbpakI4nyi",
        "colab_type": "code",
        "colab": {}
      },
      "source": [
        "# Generates batches of augmented training images\n",
        "train_generator = datagen.flow(X_train, Y_train, batch_size=batch_size, shuffle=False)"
      ],
      "execution_count": 0,
      "outputs": []
    },
    {
      "cell_type": "code",
      "metadata": {
        "id": "9sR6C03S4111",
        "colab_type": "code",
        "colab": {}
      },
      "source": [
        "# Generates batches of augmented test images\n",
        "validation_generator = datagen.flow(X_test, Y_test, batch_size=batch_size, shuffle=False)"
      ],
      "execution_count": 0,
      "outputs": []
    },
    {
      "cell_type": "code",
      "metadata": {
        "id": "SyKtIlMj3CZF",
        "colab_type": "code",
        "outputId": "935d8e11-f8e8-4422-bc3a-8a8cfb91b7c7",
        "colab": {
          "base_uri": "https://localhost:8080/",
          "height": 2825
        }
      },
      "source": [
        "model.fit_generator(train_generator, steps_per_epoch=np.ceil(training_samples / batch_size), \n",
        "                        validation_data=validation_generator,\n",
        "                        validation_steps=np.ceil(validation_samples / batch_size),\n",
        "                        epochs=num_epochs, verbose=1,\n",
        "                        callbacks=[checkpoint])"
      ],
      "execution_count": 27,
      "outputs": [
        {
          "output_type": "stream",
          "text": [
            "WARNING:tensorflow:From /usr/local/lib/python3.6/dist-packages/tensorflow/python/ops/math_ops.py:3066: to_int32 (from tensorflow.python.ops.math_ops) is deprecated and will be removed in a future version.\n",
            "Instructions for updating:\n",
            "Use tf.cast instead.\n",
            "Epoch 1/40\n",
            "469/469 [==============================] - 11s 23ms/step - loss: 0.5792 - acc: 0.8266 - val_loss: 0.1652 - val_acc: 0.9606\n",
            "\n",
            "Epoch 00001: val_acc improved from -inf to 0.96060, saving model to /content/gdrive/My Drive/Assignment5:001-val_acc:0.961.hdf5\n",
            "Epoch 2/40\n",
            "469/469 [==============================] - 7s 15ms/step - loss: 0.1771 - acc: 0.9572 - val_loss: 0.1158 - val_acc: 0.9747\n",
            "\n",
            "Epoch 00002: val_acc improved from 0.96060 to 0.97470, saving model to /content/gdrive/My Drive/Assignment5:002-val_acc:0.975.hdf5\n",
            "Epoch 3/40\n",
            "469/469 [==============================] - 7s 15ms/step - loss: 0.1366 - acc: 0.9688 - val_loss: 0.1040 - val_acc: 0.9789\n",
            "\n",
            "Epoch 00003: val_acc improved from 0.97470 to 0.97890, saving model to /content/gdrive/My Drive/Assignment5:003-val_acc:0.979.hdf5\n",
            "Epoch 4/40\n",
            "469/469 [==============================] - 7s 15ms/step - loss: 0.1182 - acc: 0.9739 - val_loss: 0.0933 - val_acc: 0.9811\n",
            "\n",
            "Epoch 00004: val_acc improved from 0.97890 to 0.98110, saving model to /content/gdrive/My Drive/Assignment5:004-val_acc:0.981.hdf5\n",
            "Epoch 5/40\n",
            "469/469 [==============================] - 7s 15ms/step - loss: 0.1075 - acc: 0.9777 - val_loss: 0.0858 - val_acc: 0.9839\n",
            "\n",
            "Epoch 00005: val_acc improved from 0.98110 to 0.98390, saving model to /content/gdrive/My Drive/Assignment5:005-val_acc:0.984.hdf5\n",
            "Epoch 6/40\n",
            "469/469 [==============================] - 7s 15ms/step - loss: 0.1001 - acc: 0.9799 - val_loss: 0.0788 - val_acc: 0.9865\n",
            "\n",
            "Epoch 00006: val_acc improved from 0.98390 to 0.98650, saving model to /content/gdrive/My Drive/Assignment5:006-val_acc:0.987.hdf5\n",
            "Epoch 7/40\n",
            "469/469 [==============================] - 7s 15ms/step - loss: 0.0956 - acc: 0.9812 - val_loss: 0.0801 - val_acc: 0.9861\n",
            "\n",
            "Epoch 00007: val_acc did not improve from 0.98650\n",
            "Epoch 8/40\n",
            "469/469 [==============================] - 7s 15ms/step - loss: 0.0895 - acc: 0.9832 - val_loss: 0.0778 - val_acc: 0.9864\n",
            "\n",
            "Epoch 00008: val_acc did not improve from 0.98650\n",
            "Epoch 9/40\n",
            "469/469 [==============================] - 7s 15ms/step - loss: 0.0877 - acc: 0.9837 - val_loss: 0.0723 - val_acc: 0.9887\n",
            "\n",
            "Epoch 00009: val_acc improved from 0.98650 to 0.98870, saving model to /content/gdrive/My Drive/Assignment5:009-val_acc:0.989.hdf5\n",
            "Epoch 10/40\n",
            "469/469 [==============================] - 7s 15ms/step - loss: 0.0853 - acc: 0.9846 - val_loss: 0.0700 - val_acc: 0.9897\n",
            "\n",
            "Epoch 00010: val_acc improved from 0.98870 to 0.98970, saving model to /content/gdrive/My Drive/Assignment5:010-val_acc:0.990.hdf5\n",
            "Epoch 11/40\n",
            "469/469 [==============================] - 8s 17ms/step - loss: 0.0823 - acc: 0.9852 - val_loss: 0.0678 - val_acc: 0.9901\n",
            "\n",
            "Epoch 00011: val_acc improved from 0.98970 to 0.99010, saving model to /content/gdrive/My Drive/Assignment5:011-val_acc:0.990.hdf5\n",
            "Epoch 12/40\n",
            "469/469 [==============================] - 8s 17ms/step - loss: 0.0810 - acc: 0.9857 - val_loss: 0.0701 - val_acc: 0.9896\n",
            "\n",
            "Epoch 00012: val_acc did not improve from 0.99010\n",
            "Epoch 13/40\n",
            "469/469 [==============================] - 7s 15ms/step - loss: 0.0797 - acc: 0.9866 - val_loss: 0.0671 - val_acc: 0.9898\n",
            "\n",
            "Epoch 00013: val_acc did not improve from 0.99010\n",
            "Epoch 14/40\n",
            "469/469 [==============================] - 7s 15ms/step - loss: 0.0782 - acc: 0.9866 - val_loss: 0.0659 - val_acc: 0.9907\n",
            "\n",
            "Epoch 00014: val_acc improved from 0.99010 to 0.99070, saving model to /content/gdrive/My Drive/Assignment5:014-val_acc:0.991.hdf5\n",
            "Epoch 15/40\n",
            "469/469 [==============================] - 7s 15ms/step - loss: 0.0767 - acc: 0.9873 - val_loss: 0.0635 - val_acc: 0.9922\n",
            "\n",
            "Epoch 00015: val_acc improved from 0.99070 to 0.99220, saving model to /content/gdrive/My Drive/Assignment5:015-val_acc:0.992.hdf5\n",
            "Epoch 16/40\n",
            "469/469 [==============================] - 7s 15ms/step - loss: 0.0734 - acc: 0.9883 - val_loss: 0.0641 - val_acc: 0.9917\n",
            "\n",
            "Epoch 00016: val_acc did not improve from 0.99220\n",
            "Epoch 17/40\n",
            "469/469 [==============================] - 7s 15ms/step - loss: 0.0751 - acc: 0.9880 - val_loss: 0.0627 - val_acc: 0.9920\n",
            "\n",
            "Epoch 00017: val_acc did not improve from 0.99220\n",
            "Epoch 18/40\n",
            "469/469 [==============================] - 8s 16ms/step - loss: 0.0702 - acc: 0.9893 - val_loss: 0.0642 - val_acc: 0.9924\n",
            "\n",
            "Epoch 00018: val_acc improved from 0.99220 to 0.99240, saving model to /content/gdrive/My Drive/Assignment5:018-val_acc:0.992.hdf5\n",
            "Epoch 19/40\n",
            "469/469 [==============================] - 7s 15ms/step - loss: 0.0738 - acc: 0.9880 - val_loss: 0.0651 - val_acc: 0.9916\n",
            "\n",
            "Epoch 00019: val_acc did not improve from 0.99240\n",
            "Epoch 20/40\n",
            "469/469 [==============================] - 7s 15ms/step - loss: 0.0706 - acc: 0.9890 - val_loss: 0.0635 - val_acc: 0.9919\n",
            "\n",
            "Epoch 00020: val_acc did not improve from 0.99240\n",
            "Epoch 21/40\n",
            "469/469 [==============================] - 7s 15ms/step - loss: 0.0700 - acc: 0.9893 - val_loss: 0.0634 - val_acc: 0.9914\n",
            "\n",
            "Epoch 00021: val_acc did not improve from 0.99240\n",
            "Epoch 22/40\n",
            "469/469 [==============================] - 8s 17ms/step - loss: 0.0707 - acc: 0.9890 - val_loss: 0.0640 - val_acc: 0.9913\n",
            "\n",
            "Epoch 00022: val_acc did not improve from 0.99240\n",
            "Epoch 23/40\n",
            "469/469 [==============================] - 7s 15ms/step - loss: 0.0694 - acc: 0.9893 - val_loss: 0.0622 - val_acc: 0.9922\n",
            "\n",
            "Epoch 00023: val_acc did not improve from 0.99240\n",
            "Epoch 24/40\n",
            "469/469 [==============================] - 7s 15ms/step - loss: 0.0676 - acc: 0.9903 - val_loss: 0.0626 - val_acc: 0.9924\n",
            "\n",
            "Epoch 00024: val_acc did not improve from 0.99240\n",
            "Epoch 25/40\n",
            "469/469 [==============================] - 7s 15ms/step - loss: 0.0667 - acc: 0.9901 - val_loss: 0.0620 - val_acc: 0.9918\n",
            "\n",
            "Epoch 00025: val_acc did not improve from 0.99240\n",
            "Epoch 26/40\n",
            "469/469 [==============================] - 7s 15ms/step - loss: 0.0666 - acc: 0.9900 - val_loss: 0.0613 - val_acc: 0.9924\n",
            "\n",
            "Epoch 00026: val_acc did not improve from 0.99240\n",
            "Epoch 27/40\n",
            "469/469 [==============================] - 7s 15ms/step - loss: 0.0671 - acc: 0.9902 - val_loss: 0.0610 - val_acc: 0.9923\n",
            "\n",
            "Epoch 00027: val_acc did not improve from 0.99240\n",
            "Epoch 28/40\n",
            "469/469 [==============================] - 7s 15ms/step - loss: 0.0674 - acc: 0.9898 - val_loss: 0.0632 - val_acc: 0.9917\n",
            "\n",
            "Epoch 00028: val_acc did not improve from 0.99240\n",
            "Epoch 29/40\n",
            "469/469 [==============================] - 7s 15ms/step - loss: 0.0676 - acc: 0.9902 - val_loss: 0.0620 - val_acc: 0.9918\n",
            "\n",
            "Epoch 00029: val_acc did not improve from 0.99240\n",
            "Epoch 30/40\n",
            "469/469 [==============================] - 7s 15ms/step - loss: 0.0656 - acc: 0.9906 - val_loss: 0.0594 - val_acc: 0.9923\n",
            "\n",
            "Epoch 00030: val_acc did not improve from 0.99240\n",
            "Epoch 31/40\n",
            "469/469 [==============================] - 7s 15ms/step - loss: 0.0647 - acc: 0.9909 - val_loss: 0.0634 - val_acc: 0.9920\n",
            "\n",
            "Epoch 00031: val_acc did not improve from 0.99240\n",
            "Epoch 32/40\n",
            "469/469 [==============================] - 7s 15ms/step - loss: 0.0643 - acc: 0.9908 - val_loss: 0.0635 - val_acc: 0.9913\n",
            "\n",
            "Epoch 00032: val_acc did not improve from 0.99240\n",
            "Epoch 33/40\n",
            "469/469 [==============================] - 8s 17ms/step - loss: 0.0655 - acc: 0.9901 - val_loss: 0.0635 - val_acc: 0.9921\n",
            "\n",
            "Epoch 00033: val_acc did not improve from 0.99240\n",
            "Epoch 34/40\n",
            "469/469 [==============================] - 7s 16ms/step - loss: 0.0643 - acc: 0.9910 - val_loss: 0.0610 - val_acc: 0.9922\n",
            "\n",
            "Epoch 00034: val_acc did not improve from 0.99240\n",
            "Epoch 35/40\n",
            "469/469 [==============================] - 7s 15ms/step - loss: 0.0647 - acc: 0.9906 - val_loss: 0.0612 - val_acc: 0.9918\n",
            "\n",
            "Epoch 00035: val_acc did not improve from 0.99240\n",
            "Epoch 36/40\n",
            "469/469 [==============================] - 7s 15ms/step - loss: 0.0637 - acc: 0.9911 - val_loss: 0.0619 - val_acc: 0.9919\n",
            "\n",
            "Epoch 00036: val_acc did not improve from 0.99240\n",
            "Epoch 37/40\n",
            "469/469 [==============================] - 7s 15ms/step - loss: 0.0636 - acc: 0.9913 - val_loss: 0.0628 - val_acc: 0.9913\n",
            "\n",
            "Epoch 00037: val_acc did not improve from 0.99240\n",
            "Epoch 38/40\n",
            "469/469 [==============================] - 7s 15ms/step - loss: 0.0623 - acc: 0.9916 - val_loss: 0.0589 - val_acc: 0.9928\n",
            "\n",
            "Epoch 00038: val_acc improved from 0.99240 to 0.99280, saving model to /content/gdrive/My Drive/Assignment5:038-val_acc:0.993.hdf5\n",
            "Epoch 39/40\n",
            "469/469 [==============================] - 7s 15ms/step - loss: 0.0640 - acc: 0.9913 - val_loss: 0.0601 - val_acc: 0.9932\n",
            "\n",
            "Epoch 00039: val_acc improved from 0.99280 to 0.99320, saving model to /content/gdrive/My Drive/Assignment5:039-val_acc:0.993.hdf5\n",
            "Epoch 40/40\n",
            "469/469 [==============================] - 7s 15ms/step - loss: 0.0626 - acc: 0.9913 - val_loss: 0.0613 - val_acc: 0.9923\n",
            "\n",
            "Epoch 00040: val_acc did not improve from 0.99320\n"
          ],
          "name": "stdout"
        },
        {
          "output_type": "execute_result",
          "data": {
            "text/plain": [
              "<keras.callbacks.History at 0x7fb3b016e240>"
            ]
          },
          "metadata": {
            "tags": []
          },
          "execution_count": 27
        }
      ]
    },
    {
      "cell_type": "markdown",
      "metadata": {
        "id": "9e5kV2rMsdMq",
        "colab_type": "text"
      },
      "source": [
        "# HYPERPARAMETER IN L2 REGULARIZATION\n",
        "\n",
        "Tried with three values - 1e-4, 1e-3 and 1.5e-4. All of them resulted in similar validation accuracy."
      ]
    },
    {
      "cell_type": "code",
      "metadata": {
        "id": "Nn5ihVx1Bo2A",
        "colab_type": "code",
        "colab": {}
      },
      "source": [
        "# Loading the best saved weights\n",
        "model.load_weights('/content/gdrive/My Drive/Assignment5:039-val_acc:0.993.hdf5')"
      ],
      "execution_count": 0,
      "outputs": []
    },
    {
      "cell_type": "code",
      "metadata": {
        "id": "PZ4g3vlpgT14",
        "colab_type": "code",
        "colab": {}
      },
      "source": [
        "# Evaluating the model with best weights\n",
        "score = model.evaluate_generator(validation_generator, steps=np.ceil(validation_samples / batch_size), verbose=0)"
      ],
      "execution_count": 0,
      "outputs": []
    },
    {
      "cell_type": "code",
      "metadata": {
        "id": "mkX8JMv79q9r",
        "colab_type": "code",
        "outputId": "049f5c02-4bfc-4ffc-909c-e1dcbef5166f",
        "colab": {
          "base_uri": "https://localhost:8080/",
          "height": 34
        }
      },
      "source": [
        "# Printing the evaluation result\n",
        "print(score);"
      ],
      "execution_count": 30,
      "outputs": [
        {
          "output_type": "stream",
          "text": [
            "[0.06010960128903389, 0.9932]\n"
          ],
          "name": "stdout"
        }
      ]
    },
    {
      "cell_type": "code",
      "metadata": {
        "id": "taXIOofT4MEu",
        "colab_type": "code",
        "colab": {}
      },
      "source": [
        "validation_generator = datagen.flow(X_test, Y_test, batch_size=batch_size, shuffle=False)"
      ],
      "execution_count": 0,
      "outputs": []
    },
    {
      "cell_type": "code",
      "metadata": {
        "id": "CqGfDNTynGbI",
        "colab_type": "code",
        "colab": {}
      },
      "source": [
        "Y_pred = model.predict_generator(validation_generator, steps=np.ceil(validation_samples / batch_size), verbose=0)\n",
        "y_pred = np.argmax(Y_pred, axis=1)"
      ],
      "execution_count": 0,
      "outputs": []
    },
    {
      "cell_type": "code",
      "metadata": {
        "id": "Z61KRCdY3PVQ",
        "colab_type": "code",
        "colab": {
          "base_uri": "https://localhost:8080/",
          "height": 34
        },
        "outputId": "b96be844-2502-419e-d800-df3d5db4ea5e"
      },
      "source": [
        "Y_pred.shape"
      ],
      "execution_count": 33,
      "outputs": [
        {
          "output_type": "execute_result",
          "data": {
            "text/plain": [
              "(10000, 10)"
            ]
          },
          "metadata": {
            "tags": []
          },
          "execution_count": 33
        }
      ]
    },
    {
      "cell_type": "code",
      "metadata": {
        "id": "2DDsnxs0K_ws",
        "colab_type": "code",
        "colab": {
          "base_uri": "https://localhost:8080/",
          "height": 71
        },
        "outputId": "cdc1f994-32f9-46aa-ef1d-75e3b9b9ab42"
      },
      "source": [
        "#get the indices to be plotted\n",
        "\n",
        "x = 0\n",
        "incorrect_indices = []\n",
        "for i in range(0, 10000):\n",
        "  if(y_pred[i] != y_test[i]):\n",
        "    x = x + 1\n",
        "    incorrect_indices.append(i)\n",
        "print(x)\n",
        "print(incorrect_indices)"
      ],
      "execution_count": 34,
      "outputs": [
        {
          "output_type": "stream",
          "text": [
            "68\n",
            "[321, 445, 449, 495, 582, 646, 659, 926, 947, 1014, 1039, 1232, 1299, 1393, 1414, 1681, 1737, 1790, 1880, 1901, 2035, 2130, 2135, 2293, 2329, 2338, 2414, 2462, 2488, 2597, 2654, 2836, 2896, 2953, 2995, 3030, 3225, 3422, 3534, 3727, 4078, 4176, 4271, 4443, 4504, 4699, 4740, 4761, 4807, 5634, 5749, 5937, 6166, 6560, 6571, 6576, 6597, 6625, 8059, 8079, 8408, 9638, 9642, 9664, 9679, 9729, 9811, 9839]\n"
          ],
          "name": "stdout"
        }
      ]
    },
    {
      "cell_type": "code",
      "metadata": {
        "id": "-8kmx8_gWXlv",
        "colab_type": "code",
        "colab": {}
      },
      "source": [
        "selected_incorrect_indices = [449, 1737, 2130, 1681, 2654, 3534, 4078, 4699, 4807, 5841, 5634, 6571, 6576, 6625, 6597, 8059, 8079, 8408, 9638, 9642, 9664, 9679, 9729, 9811, 9839]"
      ],
      "execution_count": 0,
      "outputs": []
    },
    {
      "cell_type": "code",
      "metadata": {
        "id": "9Omx3KBeUemJ",
        "colab_type": "code",
        "colab": {
          "base_uri": "https://localhost:8080/",
          "height": 1151
        },
        "outputId": "6df129e3-bfe7-473f-f199-ca71aad4ee66"
      },
      "source": [
        "import matplotlib.pyplot as plt\n",
        "import numpy as np\n",
        "\n",
        "#plt.figure(0)\n",
        "plt.figure(figsize = (20,20)) \n",
        "plots = []\n",
        "count = 0\n",
        "for i in range(5):\n",
        "    for j in range(5):\n",
        "        ax = plt.subplot2grid((5,5), (i,j))\n",
        "        plt.imshow(X_test[selected_incorrect_indices[count]].reshape(28,28),cmap='gray',interpolation='none')\n",
        "        plt.title(\"Predicted {}, Class {}\".format(y_pred[selected_incorrect_indices[count]], y_test[selected_incorrect_indices[count]]))\n",
        "        count = count+1\n",
        "plt.show()"
      ],
      "execution_count": 36,
      "outputs": [
        {
          "output_type": "display_data",
          "data": {
            "image/png": "[encoded data removed]",
            "text/plain": [
              "<Figure size 1440x1440 with 25 Axes>"
            ]
          },
          "metadata": {
            "tags": []
          }
        }
      ]
    },
    {
      "cell_type": "code",
      "metadata": {
        "id": "slsvIyvPjZSH",
        "colab_type": "code",
        "colab": {
          "base_uri": "https://localhost:8080/",
          "height": 320
        },
        "outputId": "193648cc-4451-40e5-c9ba-31993fd167e2"
      },
      "source": [
        "print('Predicted: ',y_pred[5634])\n",
        "print('Actual: ',y_test[5634])\n",
        "X_test = X_test.reshape((10000, 28, 28))\n",
        "# Matplotlib is a plotting library for Python. Pyplot is a collection of command style functions that make matplotlib work like MATLAB. Each pyplot function makes some change to a figure: e.g., creates a figure, creates a plotting area in a figure, plots some lines in a plotting area, decorates the plot with labels, etc.\n",
        "from matplotlib import pyplot as plt\n",
        "\n",
        "# Sets the backend of matplotlib to 'inline' backend. With this backend, the output of plotting commands is displayed inline within frontends like the Jupyter notebook, directly below the code cell that produced it.\n",
        "%matplotlib inline\n",
        "\n",
        "# Renders the image.\n",
        "plt.imshow(X_test[5634])"
      ],
      "execution_count": 37,
      "outputs": [
        {
          "output_type": "stream",
          "text": [
            "Predicted:  8\n",
            "Actual:  2\n"
          ],
          "name": "stdout"
        },
        {
          "output_type": "execute_result",
          "data": {
            "text/plain": [
              "<matplotlib.image.AxesImage at 0x7fb3912d5710>"
            ]
          },
          "metadata": {
            "tags": []
          },
          "execution_count": 37
        },
        {
          "output_type": "display_data",
          "data": {
            "image/png": "[encoded data removed]",
            "text/plain": [
              "<Figure size 432x288 with 1 Axes>"
            ]
          },
          "metadata": {
            "tags": []
          }
        }
      ]
    },
    {
      "cell_type": "code",
      "metadata": {
        "id": "YdDJ4STFnSsx",
        "colab_type": "code",
        "outputId": "884ccb11-2248-44c3-8abd-4765642993b7",
        "colab": {
          "base_uri": "https://localhost:8080/",
          "height": 306
        }
      },
      "source": [
        "from sklearn.metrics import classification_report\n",
        "target_names = [\"Class {}\".format(i) for i in range(10)]\n",
        "print(classification_report(y_test, y_pred))"
      ],
      "execution_count": 38,
      "outputs": [
        {
          "output_type": "stream",
          "text": [
            "              precision    recall  f1-score   support\n",
            "\n",
            "           0       0.99      1.00      0.99       980\n",
            "           1       0.99      1.00      1.00      1135\n",
            "           2       1.00      0.99      0.99      1032\n",
            "           3       0.99      1.00      0.99      1010\n",
            "           4       0.99      1.00      0.99       982\n",
            "           5       0.99      0.99      0.99       892\n",
            "           6       1.00      0.99      0.99       958\n",
            "           7       0.99      1.00      0.99      1028\n",
            "           8       1.00      0.99      0.99       974\n",
            "           9       1.00      0.99      0.99      1009\n",
            "\n",
            "    accuracy                           0.99     10000\n",
            "   macro avg       0.99      0.99      0.99     10000\n",
            "weighted avg       0.99      0.99      0.99     10000\n",
            "\n"
          ],
          "name": "stdout"
        }
      ]
    },
    {
      "cell_type": "code",
      "metadata": {
        "id": "Ym7iCFBm9uBs",
        "colab_type": "code",
        "outputId": "45654af4-9070-444a-fef6-6fb9c022242d",
        "colab": {
          "base_uri": "https://localhost:8080/",
          "height": 51
        }
      },
      "source": [
        "# Printing the outputs.\n",
        "print(y_pred[:19])\n",
        "print(y_test[:19])"
      ],
      "execution_count": 39,
      "outputs": [
        {
          "output_type": "stream",
          "text": [
            "[7 2 1 0 4 1 4 9 5 9 0 6 9 0 1 5 9 7 3]\n",
            "[7 2 1 0 4 1 4 9 5 9 0 6 9 0 1 5 9 7 3]\n"
          ],
          "name": "stdout"
        }
      ]
    },
    {
      "cell_type": "code",
      "metadata": {
        "id": "CT--y98_dr2T",
        "colab_type": "code",
        "colab": {}
      },
      "source": [
        "layer_dict = dict([(layer.name, layer) for layer in model.layers])"
      ],
      "execution_count": 0,
      "outputs": []
    },
    {
      "cell_type": "code",
      "metadata": {
        "id": "2GY4Upv4dsUR",
        "colab_type": "code",
        "colab": {
          "base_uri": "https://localhost:8080/",
          "height": 771
        },
        "outputId": "24a7c1d4-a044-4286-96a7-b728326e5674"
      },
      "source": [
        "import numpy as np\n",
        "from matplotlib import pyplot as plt\n",
        "from keras import backend as K\n",
        "%matplotlib inline\n",
        "# util function to convert a tensor into a valid image\n",
        "def deprocess_image(x):\n",
        "    # normalize tensor: center on 0., ensure std is 0.1\n",
        "    x -= x.mean()\n",
        "    x /= (x.std() + 1e-5)\n",
        "    x *= 0.1\n",
        "\n",
        "    # clip to [0, 1]\n",
        "    x += 0.5\n",
        "    x = np.clip(x, 0, 1)\n",
        "\n",
        "    # convert to RGB array\n",
        "    x *= 255\n",
        "    #x = x.transpose((1, 2, 0))\n",
        "    x = np.clip(x, 0, 255).astype('uint8')\n",
        "    return x\n",
        "\n",
        "def vis_img_in_filter(img = np.array(X_train[2]).reshape((1, 28, 28, 1)).astype(np.float64), \n",
        "                      layer_name = 'conv2d_1'):\n",
        "    layer_output = layer_dict[layer_name].output\n",
        "    img_ascs = list()\n",
        "    for filter_index in range(layer_output.shape[3]):\n",
        "        # build a loss function that maximizes the activation\n",
        "        # of the nth filter of the layer considered\n",
        "        loss = K.mean(layer_output[:, :, :, filter_index])\n",
        "\n",
        "        # compute the gradient of the input picture wrt this loss\n",
        "        grads = K.gradients(loss, model.input)[0]\n",
        "\n",
        "        # normalization trick: we normalize the gradient\n",
        "        grads /= (K.sqrt(K.mean(K.square(grads))) + 1e-5)\n",
        "\n",
        "        # this function returns the loss and grads given the input picture\n",
        "        iterate = K.function([model.input], [loss, grads])\n",
        "\n",
        "        # step size for gradient ascent\n",
        "        step = 5.\n",
        "\n",
        "        img_asc = np.array(img)\n",
        "        # run gradient ascent for 20 steps\n",
        "        for i in range(20):\n",
        "            loss_value, grads_value = iterate([img_asc])\n",
        "            img_asc += grads_value * step\n",
        "\n",
        "        img_asc = img_asc[0]\n",
        "        img_ascs.append(deprocess_image(img_asc).reshape((28, 28)))\n",
        "        \n",
        "    if layer_output.shape[3] >= 35:\n",
        "        plot_x, plot_y = 6, 6\n",
        "    elif layer_output.shape[3] >= 23:\n",
        "        plot_x, plot_y = 4, 6\n",
        "    elif layer_output.shape[3] >= 11:\n",
        "        plot_x, plot_y = 2, 6\n",
        "    else:\n",
        "        plot_x, plot_y = 2, 4\n",
        "    fig, ax = plt.subplots(plot_x, plot_y, figsize = (12, 12))\n",
        "    ax[0, 0].imshow(img.reshape((28, 28)), cmap = 'gray')\n",
        "    ax[0, 0].set_title('Input image')\n",
        "    fig.suptitle('Input image and %s filters' % (layer_name,))\n",
        "    fig.tight_layout(pad = 0.3, rect = [0, 0, 0.9, 0.9])\n",
        "    for (x, y) in [(i, j) for i in range(plot_x) for j in range(plot_y)]:\n",
        "        if x == 0 and y == 0:\n",
        "            continue\n",
        "        ax[x, y].imshow(img_ascs[x * plot_y + y - 1], cmap = 'gray')\n",
        "        ax[x, y].set_title('filter %d' % (x * plot_y + y - 1))\n",
        "\n",
        "vis_img_in_filter()"
      ],
      "execution_count": 41,
      "outputs": [
        {
          "output_type": "display_data",
          "data": {
            "image/png": "[encoded data removed]",
            "text/plain": [
              "<Figure size 864x864 with 8 Axes>"
            ]
          },
          "metadata": {
            "tags": []
          }
        }
      ]
    },
    {
      "cell_type": "code",
      "metadata": {
        "id": "9tvptcn8dxvp",
        "colab_type": "code",
        "colab": {}
      },
      "source": [
        ""
      ],
      "execution_count": 0,
      "outputs": []
    }
  ]
}