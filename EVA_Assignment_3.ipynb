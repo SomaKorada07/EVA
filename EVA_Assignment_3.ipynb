{
  "nbformat": 4,
  "nbformat_minor": 0,
  "metadata": {
    "colab": {
      "name": "EVA_Assignment 3.ipynb",
      "version": "0.3.2",
      "provenance": [],
      "collapsed_sections": [],
      "include_colab_link": true
    },
    "kernelspec": {
      "name": "python3",
      "display_name": "Python 3"
    },
    "accelerator": "GPU"
  },
  "cells": [
    {
      "cell_type": "markdown",
      "metadata": {
        "id": "view-in-github",
        "colab_type": "text"
      },
      "source": [
        "<a href=\"https://colab.research.google.com/github/SomaKorada07/EVA/blob/master/EVA_Assignment_3.ipynb\" target=\"_parent\"><img src=\"https://colab.research.google.com/assets/colab-badge.svg\" alt=\"Open In Colab\"/></a>"
      ]
    },
    {
      "cell_type": "markdown",
      "metadata": {
        "id": "aNyZv-Ec52ot",
        "colab_type": "text"
      },
      "source": [
        "# **Import Libraries and modules**"
      ]
    },
    {
      "cell_type": "code",
      "metadata": {
        "id": "3m3w1Cw49Zkt",
        "colab_type": "code",
        "outputId": "c838db7c-2e56-40e0-fbe2-aaaf294a5b3e",
        "colab": {
          "base_uri": "https://localhost:8080/",
          "height": 34
        }
      },
      "source": [
        "# https://keras.io/\n",
        "# Installing Keras which is open-source neural-network library written in Python.\n",
        "!pip install -q keras\n",
        "\n",
        "# Importing the keras library.\n",
        "import keras"
      ],
      "execution_count": 1,
      "outputs": [
        {
          "output_type": "stream",
          "text": [
            "Using TensorFlow backend.\n"
          ],
          "name": "stderr"
        }
      ]
    },
    {
      "cell_type": "code",
      "metadata": {
        "id": "Eso6UHE080D4",
        "colab_type": "code",
        "colab": {}
      },
      "source": [
        "# Importing NumPy (Numerical Python) which is a library consisting of multidimensional array objects and a collection of routines for processing those arrays. It also gives an alias to the library.\n",
        "import numpy as np\n",
        "\n",
        "# There are two main types of models available in Keras: the Sequential model and the Model class used with the functional API.\n",
        "# Sequential model is a linear stack of layers. Importing Sequential model from Keras.\n",
        "from keras.models import Sequential\n",
        "\n",
        "# Importing different layers from Keras.\n",
        "from keras.layers import Dense, Dropout, Activation, Flatten, Add\n",
        "from keras.layers import Convolution2D, MaxPooling2D, BatchNormalization\n",
        "\n",
        "# Importing the utils library of Keras.\n",
        "from keras.utils import np_utils\n",
        "\n",
        "# Importing the callbacks of Keras.\n",
        "from keras.callbacks import ModelCheckpoint\n",
        "\n",
        "# MNIST is a database of handwritten digits. It is a dataset of 60,000 28x28 grayscale images of the 10 digits, along with a test set of 10,000 images. Importing MNIST dataset from Keras.\n",
        "from keras.datasets import mnist"
      ],
      "execution_count": 0,
      "outputs": []
    },
    {
      "cell_type": "markdown",
      "metadata": {
        "id": "zByEi95J86RD",
        "colab_type": "text"
      },
      "source": [
        "### Load pre-shuffled MNIST data into train and test sets"
      ]
    },
    {
      "cell_type": "code",
      "metadata": {
        "id": "7eRM0QWN83PV",
        "colab_type": "code",
        "colab": {
          "base_uri": "https://localhost:8080/",
          "height": 51
        },
        "outputId": "37054364-ad51-4660-ad9e-ac7424df08d0"
      },
      "source": [
        "# Loading the MNIST 60000 Training and 10000 Test data into respective numpy arrays\n",
        "(X_train, y_train), (X_test, y_test) = mnist.load_data()"
      ],
      "execution_count": 3,
      "outputs": [
        {
          "output_type": "stream",
          "text": [
            "Downloading data from https://s3.amazonaws.com/img-datasets/mnist.npz\n",
            "11493376/11490434 [==============================] - 1s 0us/step\n"
          ],
          "name": "stdout"
        }
      ]
    },
    {
      "cell_type": "code",
      "metadata": {
        "id": "4a4Be72j8-ZC",
        "colab_type": "code",
        "outputId": "9ca443de-ee3a-411b-a37c-25f8c6ce6f03",
        "colab": {
          "base_uri": "https://localhost:8080/",
          "height": 303
        }
      },
      "source": [
        "# Printing the shape of the Training data\n",
        "print (X_train.shape)\n",
        "\n",
        "# Matplotlib is a plotting library for Python. Pyplot is a collection of command style functions that make matplotlib work like MATLAB. Each pyplot function makes some change to a figure: e.g., creates a figure, creates a plotting area in a figure, plots some lines in a plotting area, decorates the plot with labels, etc.\n",
        "from matplotlib import pyplot as plt\n",
        "\n",
        "# Sets the backend of matplotlib to 'inline' backend. With this backend, the output of plotting commands is displayed inline within frontends like the Jupyter notebook, directly below the code cell that produced it.\n",
        "%matplotlib inline\n",
        "\n",
        "# Renders the image.\n",
        "plt.imshow(X_train[0])"
      ],
      "execution_count": 4,
      "outputs": [
        {
          "output_type": "stream",
          "text": [
            "(60000, 28, 28)\n"
          ],
          "name": "stdout"
        },
        {
          "output_type": "execute_result",
          "data": {
            "text/plain": [
              "<matplotlib.image.AxesImage at 0x7f04d7f49d68>"
            ]
          },
          "metadata": {
            "tags": []
          },
          "execution_count": 4
        },
        {
          "output_type": "display_data",
          "data": {
            "image/png": "[encoded data removed]",
            "text/plain": [
              "<Figure size 432x288 with 1 Axes>"
            ]
          },
          "metadata": {
            "tags": []
          }
        }
      ]
    },
    {
      "cell_type": "code",
      "metadata": {
        "id": "dkmprriw9AnZ",
        "colab_type": "code",
        "colab": {}
      },
      "source": [
        "# Reshaping the Training and Test data to add the channel parameter as the input to Conv2D layer is expected to be of shape (img_rows, img_cols, num_channels) if data_format=\"channels_last\" which is default.\n",
        "X_train = X_train.reshape(X_train.shape[0], 28, 28,1)\n",
        "X_test = X_test.reshape(X_test.shape[0], 28, 28,1)"
      ],
      "execution_count": 0,
      "outputs": []
    },
    {
      "cell_type": "code",
      "metadata": {
        "id": "X2m4YS4E9CRh",
        "colab_type": "code",
        "colab": {}
      },
      "source": [
        "# Normalizing the Training and Test values\n",
        "X_train = X_train.astype('float32')\n",
        "X_test = X_test.astype('float32')\n",
        "X_train /= 255\n",
        "X_test /= 255"
      ],
      "execution_count": 0,
      "outputs": []
    },
    {
      "cell_type": "code",
      "metadata": {
        "id": "0Mn0vAYD9DvB",
        "colab_type": "code",
        "outputId": "af6f76a5-877f-4ea9-84de-fa268e4961b4",
        "colab": {
          "base_uri": "https://localhost:8080/",
          "height": 34
        }
      },
      "source": [
        "# Printing the first 10 labelled Training data\n",
        "y_train[:10]"
      ],
      "execution_count": 7,
      "outputs": [
        {
          "output_type": "execute_result",
          "data": {
            "text/plain": [
              "array([5, 0, 4, 1, 9, 2, 1, 3, 1, 4], dtype=uint8)"
            ]
          },
          "metadata": {
            "tags": []
          },
          "execution_count": 7
        }
      ]
    },
    {
      "cell_type": "code",
      "metadata": {
        "id": "ZG8JiXR39FHC",
        "colab_type": "code",
        "colab": {}
      },
      "source": [
        "# Convert 1-dimensional class arrays to 10-dimensional class matrices\n",
        "# np.utils.to_categorical is used to convert array of labelled data (from 0 to nb_classes-1) to one-hot vector.\n",
        "Y_train = np_utils.to_categorical(y_train, 10)\n",
        "Y_test = np_utils.to_categorical(y_test, 10)"
      ],
      "execution_count": 0,
      "outputs": []
    },
    {
      "cell_type": "code",
      "metadata": {
        "id": "fYlFRvKS9HMB",
        "colab_type": "code",
        "outputId": "f22c74b0-53cb-4f3d-f073-663546eceff9",
        "colab": {
          "base_uri": "https://localhost:8080/",
          "height": 187
        }
      },
      "source": [
        "# Printing the first 10 labelled Training data after converting to one-hot vector.\n",
        "Y_train[:10]\n"
      ],
      "execution_count": 9,
      "outputs": [
        {
          "output_type": "execute_result",
          "data": {
            "text/plain": [
              "array([[0., 0., 0., 0., 0., 1., 0., 0., 0., 0.],\n",
              "       [1., 0., 0., 0., 0., 0., 0., 0., 0., 0.],\n",
              "       [0., 0., 0., 0., 1., 0., 0., 0., 0., 0.],\n",
              "       [0., 1., 0., 0., 0., 0., 0., 0., 0., 0.],\n",
              "       [0., 0., 0., 0., 0., 0., 0., 0., 0., 1.],\n",
              "       [0., 0., 1., 0., 0., 0., 0., 0., 0., 0.],\n",
              "       [0., 1., 0., 0., 0., 0., 0., 0., 0., 0.],\n",
              "       [0., 0., 0., 1., 0., 0., 0., 0., 0., 0.],\n",
              "       [0., 1., 0., 0., 0., 0., 0., 0., 0., 0.],\n",
              "       [0., 0., 0., 0., 1., 0., 0., 0., 0., 0.]], dtype=float32)"
            ]
          },
          "metadata": {
            "tags": []
          },
          "execution_count": 9
        }
      ]
    },
    {
      "cell_type": "code",
      "metadata": {
        "id": "osKqT73Q9JJB",
        "colab_type": "code",
        "outputId": "deedaada-2283-46fe-f078-6c0ab49fdcd3",
        "colab": {
          "base_uri": "https://localhost:8080/",
          "height": 139
        }
      },
      "source": [
        "from keras.layers import Activation\n",
        "\n",
        "# Defining the model/network using (3,3) and (1,1) convolution layers, dropout, batchnormalization and 'relu' activation\n",
        "model = Sequential()\n",
        "\n",
        "\n",
        "model.add(Convolution2D(8, 3, input_shape=(28,28,1), use_bias=False)) # RF - 3X3, O/P - 26x26\n",
        "model.add(BatchNormalization())\n",
        "model.add(Activation('relu'))\n",
        "\n",
        "model.add(BatchNormalization())\n",
        "model.add(Convolution2D(10, 1, use_bias=False)) # RF - 3X3, O/P - 26x26\n",
        "model.add(Activation('relu'))\n",
        "\n",
        "model.add(Dropout(0.15))\n",
        "model.add(BatchNormalization())\n",
        "model.add(Convolution2D(16, 3, use_bias=False)) # RF - 5X5, O/P - 24x24\n",
        "model.add(Activation('relu'))\n",
        "\n",
        "model.add(BatchNormalization())\n",
        "model.add(Convolution2D(10, 1, use_bias=False)) # RF - 5X5, O/P - 24x24\n",
        "model.add(Activation('relu'))\n",
        "\n",
        "model.add(Dropout(0.15))\n",
        "model.add(BatchNormalization())\n",
        "model.add(Convolution2D(32, 3, use_bias=False)) # RF - 7X7, O/P - 22X22\n",
        "model.add(Activation('relu'))\n",
        "\n",
        "model.add(BatchNormalization())\n",
        "model.add(Convolution2D(10, 1, use_bias=False)) # RF - 7X7, O/P - 22X22\n",
        "model.add(Activation('relu'))\n",
        "\n",
        "model.add(MaxPooling2D(pool_size = (2, 2), strides=None, padding='valid', data_format=None)) # RF - 14X14, O/P - 11x11\n",
        "\n",
        "model.add(Dropout(0.15))\n",
        "model.add(BatchNormalization())\n",
        "model.add(Convolution2D(64, 3, use_bias=False)) # RF - 16X16, O/P - 9X9\n",
        "model.add(Activation('relu'))\n",
        "\n",
        "model.add(BatchNormalization())\n",
        "model.add(Convolution2D(10, 1, use_bias=False)) # RF - 16X16, O/P - 9X9\n",
        "model.add(Activation('relu'))\n",
        "\n",
        "model.add(Dropout(0.15))\n",
        "model.add(BatchNormalization())\n",
        "model.add(Convolution2D(16, 3, use_bias=False)) # RF - 18X18, O/P - 7X7\n",
        "model.add(Activation('relu'))\n",
        "\n",
        "model.add(BatchNormalization())\n",
        "model.add(Convolution2D(10, 1, use_bias=False)) # RF - 18X18, O/P - 7X7\n",
        "model.add(Activation('relu'))\n",
        "\n",
        "model.add(Dropout(0.15))\n",
        "model.add(BatchNormalization())\n",
        "model.add(Convolution2D(32, 3, use_bias=False)) # RF - 20X20, O/P - 5X5\n",
        "model.add(Activation('relu'))\n",
        "\n",
        "model.add(BatchNormalization())\n",
        "model.add(Convolution2D(10, 1, use_bias=False)) # RF - 20X20, O/P - 5X5\n",
        "model.add(Activation('relu'))\n",
        "\n",
        "model.add(Dropout(0.15))\n",
        "model.add(BatchNormalization())\n",
        "model.add(Convolution2D(10, 3, use_bias=False)) # RF - 22X22, O/P - 3X3\n",
        "model.add(Activation('relu'))\n",
        "\n",
        "model.add(BatchNormalization())\n",
        "model.add(Convolution2D(10, 1, use_bias=False)) # RF - 22X22, O/P - 3X3\n",
        "model.add(Activation('relu'))\n",
        "\n",
        "model.add(BatchNormalization())\n",
        "model.add(Convolution2D(10, 3, use_bias=False)) # RF - 24X24, O/P - 1X1\n",
        "model.add(Activation('relu'))\n",
        "\n",
        "model.add(BatchNormalization())\n",
        "model.add(Convolution2D(10, 1, use_bias=False)) # RF - 24X24, O/P - 1X1\n",
        "model.add(Flatten())\n",
        "model.add(Activation('softmax'))"
      ],
      "execution_count": 10,
      "outputs": [
        {
          "output_type": "stream",
          "text": [
            "WARNING:tensorflow:From /usr/local/lib/python3.6/dist-packages/tensorflow/python/framework/op_def_library.py:263: colocate_with (from tensorflow.python.framework.ops) is deprecated and will be removed in a future version.\n",
            "Instructions for updating:\n",
            "Colocations handled automatically by placer.\n",
            "WARNING:tensorflow:From /usr/local/lib/python3.6/dist-packages/keras/backend/tensorflow_backend.py:3445: calling dropout (from tensorflow.python.ops.nn_ops) with keep_prob is deprecated and will be removed in a future version.\n",
            "Instructions for updating:\n",
            "Please use `rate` instead of `keep_prob`. Rate should be set to `rate = 1 - keep_prob`.\n"
          ],
          "name": "stdout"
        }
      ]
    },
    {
      "cell_type": "code",
      "metadata": {
        "id": "TzdAYg1k9K7Z",
        "colab_type": "code",
        "outputId": "f307149e-c2c8-45e9-f179-d433cdbf749b",
        "colab": {
          "base_uri": "https://localhost:8080/",
          "height": 2040
        }
      },
      "source": [
        "model.summary()"
      ],
      "execution_count": 11,
      "outputs": [
        {
          "output_type": "stream",
          "text": [
            "_________________________________________________________________\n",
            "Layer (type)                 Output Shape              Param #   \n",
            "=================================================================\n",
            "conv2d_1 (Conv2D)            (None, 26, 26, 8)         72        \n",
            "_________________________________________________________________\n",
            "batch_normalization_1 (Batch (None, 26, 26, 8)         32        \n",
            "_________________________________________________________________\n",
            "activation_1 (Activation)    (None, 26, 26, 8)         0         \n",
            "_________________________________________________________________\n",
            "batch_normalization_2 (Batch (None, 26, 26, 8)         32        \n",
            "_________________________________________________________________\n",
            "conv2d_2 (Conv2D)            (None, 26, 26, 10)        80        \n",
            "_________________________________________________________________\n",
            "activation_2 (Activation)    (None, 26, 26, 10)        0         \n",
            "_________________________________________________________________\n",
            "dropout_1 (Dropout)          (None, 26, 26, 10)        0         \n",
            "_________________________________________________________________\n",
            "batch_normalization_3 (Batch (None, 26, 26, 10)        40        \n",
            "_________________________________________________________________\n",
            "conv2d_3 (Conv2D)            (None, 24, 24, 16)        1440      \n",
            "_________________________________________________________________\n",
            "activation_3 (Activation)    (None, 24, 24, 16)        0         \n",
            "_________________________________________________________________\n",
            "batch_normalization_4 (Batch (None, 24, 24, 16)        64        \n",
            "_________________________________________________________________\n",
            "conv2d_4 (Conv2D)            (None, 24, 24, 10)        160       \n",
            "_________________________________________________________________\n",
            "activation_4 (Activation)    (None, 24, 24, 10)        0         \n",
            "_________________________________________________________________\n",
            "dropout_2 (Dropout)          (None, 24, 24, 10)        0         \n",
            "_________________________________________________________________\n",
            "batch_normalization_5 (Batch (None, 24, 24, 10)        40        \n",
            "_________________________________________________________________\n",
            "conv2d_5 (Conv2D)            (None, 22, 22, 32)        2880      \n",
            "_________________________________________________________________\n",
            "activation_5 (Activation)    (None, 22, 22, 32)        0         \n",
            "_________________________________________________________________\n",
            "batch_normalization_6 (Batch (None, 22, 22, 32)        128       \n",
            "_________________________________________________________________\n",
            "conv2d_6 (Conv2D)            (None, 22, 22, 10)        320       \n",
            "_________________________________________________________________\n",
            "activation_6 (Activation)    (None, 22, 22, 10)        0         \n",
            "_________________________________________________________________\n",
            "max_pooling2d_1 (MaxPooling2 (None, 11, 11, 10)        0         \n",
            "_________________________________________________________________\n",
            "dropout_3 (Dropout)          (None, 11, 11, 10)        0         \n",
            "_________________________________________________________________\n",
            "batch_normalization_7 (Batch (None, 11, 11, 10)        40        \n",
            "_________________________________________________________________\n",
            "conv2d_7 (Conv2D)            (None, 9, 9, 64)          5760      \n",
            "_________________________________________________________________\n",
            "activation_7 (Activation)    (None, 9, 9, 64)          0         \n",
            "_________________________________________________________________\n",
            "batch_normalization_8 (Batch (None, 9, 9, 64)          256       \n",
            "_________________________________________________________________\n",
            "conv2d_8 (Conv2D)            (None, 9, 9, 10)          640       \n",
            "_________________________________________________________________\n",
            "activation_8 (Activation)    (None, 9, 9, 10)          0         \n",
            "_________________________________________________________________\n",
            "dropout_4 (Dropout)          (None, 9, 9, 10)          0         \n",
            "_________________________________________________________________\n",
            "batch_normalization_9 (Batch (None, 9, 9, 10)          40        \n",
            "_________________________________________________________________\n",
            "conv2d_9 (Conv2D)            (None, 7, 7, 16)          1440      \n",
            "_________________________________________________________________\n",
            "activation_9 (Activation)    (None, 7, 7, 16)          0         \n",
            "_________________________________________________________________\n",
            "batch_normalization_10 (Batc (None, 7, 7, 16)          64        \n",
            "_________________________________________________________________\n",
            "conv2d_10 (Conv2D)           (None, 7, 7, 10)          160       \n",
            "_________________________________________________________________\n",
            "activation_10 (Activation)   (None, 7, 7, 10)          0         \n",
            "_________________________________________________________________\n",
            "dropout_5 (Dropout)          (None, 7, 7, 10)          0         \n",
            "_________________________________________________________________\n",
            "batch_normalization_11 (Batc (None, 7, 7, 10)          40        \n",
            "_________________________________________________________________\n",
            "conv2d_11 (Conv2D)           (None, 5, 5, 32)          2880      \n",
            "_________________________________________________________________\n",
            "activation_11 (Activation)   (None, 5, 5, 32)          0         \n",
            "_________________________________________________________________\n",
            "batch_normalization_12 (Batc (None, 5, 5, 32)          128       \n",
            "_________________________________________________________________\n",
            "conv2d_12 (Conv2D)           (None, 5, 5, 10)          320       \n",
            "_________________________________________________________________\n",
            "activation_12 (Activation)   (None, 5, 5, 10)          0         \n",
            "_________________________________________________________________\n",
            "dropout_6 (Dropout)          (None, 5, 5, 10)          0         \n",
            "_________________________________________________________________\n",
            "batch_normalization_13 (Batc (None, 5, 5, 10)          40        \n",
            "_________________________________________________________________\n",
            "conv2d_13 (Conv2D)           (None, 3, 3, 10)          900       \n",
            "_________________________________________________________________\n",
            "activation_13 (Activation)   (None, 3, 3, 10)          0         \n",
            "_________________________________________________________________\n",
            "batch_normalization_14 (Batc (None, 3, 3, 10)          40        \n",
            "_________________________________________________________________\n",
            "conv2d_14 (Conv2D)           (None, 3, 3, 10)          100       \n",
            "_________________________________________________________________\n",
            "activation_14 (Activation)   (None, 3, 3, 10)          0         \n",
            "_________________________________________________________________\n",
            "batch_normalization_15 (Batc (None, 3, 3, 10)          40        \n",
            "_________________________________________________________________\n",
            "conv2d_15 (Conv2D)           (None, 1, 1, 10)          900       \n",
            "_________________________________________________________________\n",
            "activation_15 (Activation)   (None, 1, 1, 10)          0         \n",
            "_________________________________________________________________\n",
            "batch_normalization_16 (Batc (None, 1, 1, 10)          40        \n",
            "_________________________________________________________________\n",
            "conv2d_16 (Conv2D)           (None, 1, 1, 10)          100       \n",
            "_________________________________________________________________\n",
            "flatten_1 (Flatten)          (None, 10)                0         \n",
            "_________________________________________________________________\n",
            "activation_16 (Activation)   (None, 10)                0         \n",
            "=================================================================\n",
            "Total params: 19,216\n",
            "Trainable params: 18,684\n",
            "Non-trainable params: 532\n",
            "_________________________________________________________________\n"
          ],
          "name": "stdout"
        }
      ]
    },
    {
      "cell_type": "code",
      "metadata": {
        "id": "Zp6SuGrL9M3h",
        "colab_type": "code",
        "colab": {}
      },
      "source": [
        "# Compiling the model\n",
        "# Loss function is one of the arguments required for compiling a model. categorical_crossentropy loss function is used if the targets are one-hot encoded.\n",
        "# Optimizer is one of the arguments required for compiling a model. Adam is an optimization algorithm that can used instead of the classical stochastic gradient descent procedure to update network weights iterative based in training data.\n",
        "# A metric is a function that is used to judge the performance of your model.\n",
        "model.compile(loss='categorical_crossentropy',\n",
        "             optimizer='adam',\n",
        "             metrics=['accuracy'])"
      ],
      "execution_count": 0,
      "outputs": []
    },
    {
      "cell_type": "code",
      "metadata": {
        "id": "_coVuaMt3MhQ",
        "colab_type": "code",
        "outputId": "dc98d54d-cc65-4a98-b0d8-921f25284dc6",
        "colab": {
          "base_uri": "https://localhost:8080/",
          "height": 122
        }
      },
      "source": [
        "# Mounting GDrive on Colab\n",
        "from google.colab import drive\n",
        "drive.mount('/content/gdrive')"
      ],
      "execution_count": 10,
      "outputs": [
        {
          "output_type": "stream",
          "text": [
            "Go to this URL in a browser: https://accounts.google.com/o/oauth2/auth?client_id=947318989803-6bn6qk8qdgf4n4g3pfee6491hc0brc4i.apps.googleusercontent.com&redirect_uri=urn%3Aietf%3Awg%3Aoauth%3A2.0%3Aoob&scope=email%20https%3A%2F%2Fwww.googleapis.com%2Fauth%2Fdocs.test%20https%3A%2F%2Fwww.googleapis.com%2Fauth%2Fdrive%20https%3A%2F%2Fwww.googleapis.com%2Fauth%2Fdrive.photos.readonly%20https%3A%2F%2Fwww.googleapis.com%2Fauth%2Fpeopleapi.readonly&response_type=code\n",
            "\n",
            "Enter your authorization code:\n",
            "··········\n",
            "Mounted at /content/gdrive\n"
          ],
          "name": "stdout"
        }
      ]
    },
    {
      "cell_type": "code",
      "metadata": {
        "id": "BlkXhPTd3IgR",
        "colab_type": "code",
        "colab": {}
      },
      "source": [
        "# Defining path for checkpoint file. Checkpoint will be saving the entire model (not just weights).\n",
        "filepath=\"/content/gdrive/My Drive/epochs:{epoch:03d}-val_acc:{val_acc:.3f}.hdf5\"\n",
        "checkpoint = ModelCheckpoint(filepath, monitor='val_acc', verbose=1, save_best_only=True, save_weights_only=False, mode='max')"
      ],
      "execution_count": 0,
      "outputs": []
    },
    {
      "cell_type": "code",
      "metadata": {
        "id": "4xWoKhPY9Of5",
        "colab_type": "code",
        "outputId": "c56c3407-5d39-469c-9673-f5a7c25d68e6",
        "colab": {
          "base_uri": "https://localhost:8080/",
          "height": 10356
        }
      },
      "source": [
        "# Training the model for 150 epochs using batch_size of 256.\n",
        "model.fit(X_train, Y_train, batch_size=256, nb_epoch=150, verbose=1,validation_data=(X_test, Y_test),callbacks=[checkpoint])"
      ],
      "execution_count": 15,
      "outputs": [
        {
          "output_type": "stream",
          "text": [
            "WARNING:tensorflow:From /usr/local/lib/python3.6/dist-packages/tensorflow/python/ops/math_ops.py:3066: to_int32 (from tensorflow.python.ops.math_ops) is deprecated and will be removed in a future version.\n",
            "Instructions for updating:\n",
            "Use tf.cast instead.\n"
          ],
          "name": "stdout"
        },
        {
          "output_type": "stream",
          "text": [
            "/usr/local/lib/python3.6/dist-packages/ipykernel_launcher.py:1: UserWarning: The `nb_epoch` argument in `fit` has been renamed `epochs`.\n",
            "  \"\"\"Entry point for launching an IPython kernel.\n"
          ],
          "name": "stderr"
        },
        {
          "output_type": "stream",
          "text": [
            "Train on 60000 samples, validate on 10000 samples\n",
            "Epoch 1/150\n",
            "60000/60000 [==============================] - 10s 161us/step - loss: 1.6623 - acc: 0.4568 - val_loss: 0.7659 - val_acc: 0.7387\n",
            "\n",
            "Epoch 00001: val_acc improved from -inf to 0.73870, saving model to /content/gdrive/My Drive/epochs:001-val_acc:0.739.hdf5\n",
            "Epoch 2/150\n",
            "60000/60000 [==============================] - 6s 99us/step - loss: 0.6109 - acc: 0.8460 - val_loss: 0.2609 - val_acc: 0.9357\n",
            "\n",
            "Epoch 00002: val_acc improved from 0.73870 to 0.93570, saving model to /content/gdrive/My Drive/epochs:002-val_acc:0.936.hdf5\n",
            "Epoch 3/150\n",
            "60000/60000 [==============================] - 6s 99us/step - loss: 0.2984 - acc: 0.9219 - val_loss: 0.1465 - val_acc: 0.9605\n",
            "\n",
            "Epoch 00003: val_acc improved from 0.93570 to 0.96050, saving model to /content/gdrive/My Drive/epochs:003-val_acc:0.961.hdf5\n",
            "Epoch 4/150\n",
            "60000/60000 [==============================] - 6s 99us/step - loss: 0.1932 - acc: 0.9475 - val_loss: 0.0924 - val_acc: 0.9741\n",
            "\n",
            "Epoch 00004: val_acc improved from 0.96050 to 0.97410, saving model to /content/gdrive/My Drive/epochs:004-val_acc:0.974.hdf5\n",
            "Epoch 5/150\n",
            "60000/60000 [==============================] - 6s 105us/step - loss: 0.1466 - acc: 0.9581 - val_loss: 0.0775 - val_acc: 0.9785\n",
            "\n",
            "Epoch 00005: val_acc improved from 0.97410 to 0.97850, saving model to /content/gdrive/My Drive/epochs:005-val_acc:0.979.hdf5\n",
            "Epoch 6/150\n",
            "60000/60000 [==============================] - 6s 102us/step - loss: 0.1221 - acc: 0.9646 - val_loss: 0.0765 - val_acc: 0.9775\n",
            "\n",
            "Epoch 00006: val_acc did not improve from 0.97850\n",
            "Epoch 7/150\n",
            "60000/60000 [==============================] - 6s 99us/step - loss: 0.1067 - acc: 0.9687 - val_loss: 0.0524 - val_acc: 0.9851\n",
            "\n",
            "Epoch 00007: val_acc improved from 0.97850 to 0.98510, saving model to /content/gdrive/My Drive/epochs:007-val_acc:0.985.hdf5\n",
            "Epoch 8/150\n",
            "60000/60000 [==============================] - 6s 102us/step - loss: 0.0952 - acc: 0.9718 - val_loss: 0.0532 - val_acc: 0.9837\n",
            "\n",
            "Epoch 00008: val_acc did not improve from 0.98510\n",
            "Epoch 9/150\n",
            "60000/60000 [==============================] - 7s 110us/step - loss: 0.0848 - acc: 0.9743 - val_loss: 0.0484 - val_acc: 0.9854\n",
            "\n",
            "Epoch 00009: val_acc improved from 0.98510 to 0.98540, saving model to /content/gdrive/My Drive/epochs:009-val_acc:0.985.hdf5\n",
            "Epoch 10/150\n",
            "60000/60000 [==============================] - 6s 101us/step - loss: 0.0774 - acc: 0.9767 - val_loss: 0.0447 - val_acc: 0.9866\n",
            "\n",
            "Epoch 00010: val_acc improved from 0.98540 to 0.98660, saving model to /content/gdrive/My Drive/epochs:010-val_acc:0.987.hdf5\n",
            "Epoch 11/150\n",
            "60000/60000 [==============================] - 7s 111us/step - loss: 0.0752 - acc: 0.9769 - val_loss: 0.0489 - val_acc: 0.9841\n",
            "\n",
            "Epoch 00011: val_acc did not improve from 0.98660\n",
            "Epoch 12/150\n",
            "60000/60000 [==============================] - 6s 105us/step - loss: 0.0688 - acc: 0.9792 - val_loss: 0.0394 - val_acc: 0.9886\n",
            "\n",
            "Epoch 00012: val_acc improved from 0.98660 to 0.98860, saving model to /content/gdrive/My Drive/epochs:012-val_acc:0.989.hdf5\n",
            "Epoch 13/150\n",
            "60000/60000 [==============================] - 6s 99us/step - loss: 0.0661 - acc: 0.9794 - val_loss: 0.0334 - val_acc: 0.9908\n",
            "\n",
            "Epoch 00013: val_acc improved from 0.98860 to 0.99080, saving model to /content/gdrive/My Drive/epochs:013-val_acc:0.991.hdf5\n",
            "Epoch 14/150\n",
            "60000/60000 [==============================] - 6s 100us/step - loss: 0.0631 - acc: 0.9811 - val_loss: 0.0338 - val_acc: 0.9903\n",
            "\n",
            "Epoch 00014: val_acc did not improve from 0.99080\n",
            "Epoch 15/150\n",
            "60000/60000 [==============================] - 6s 99us/step - loss: 0.0584 - acc: 0.9820 - val_loss: 0.0383 - val_acc: 0.9880\n",
            "\n",
            "Epoch 00015: val_acc did not improve from 0.99080\n",
            "Epoch 16/150\n",
            "60000/60000 [==============================] - 6s 98us/step - loss: 0.0578 - acc: 0.9824 - val_loss: 0.0408 - val_acc: 0.9866\n",
            "\n",
            "Epoch 00016: val_acc did not improve from 0.99080\n",
            "Epoch 17/150\n",
            "60000/60000 [==============================] - 6s 99us/step - loss: 0.0540 - acc: 0.9837 - val_loss: 0.0331 - val_acc: 0.9899\n",
            "\n",
            "Epoch 00017: val_acc did not improve from 0.99080\n",
            "Epoch 18/150\n",
            "60000/60000 [==============================] - 6s 99us/step - loss: 0.0534 - acc: 0.9835 - val_loss: 0.0343 - val_acc: 0.9893\n",
            "\n",
            "Epoch 00018: val_acc did not improve from 0.99080\n",
            "Epoch 19/150\n",
            "60000/60000 [==============================] - 6s 99us/step - loss: 0.0525 - acc: 0.9840 - val_loss: 0.0332 - val_acc: 0.9899\n",
            "\n",
            "Epoch 00019: val_acc did not improve from 0.99080\n",
            "Epoch 20/150\n",
            "60000/60000 [==============================] - 6s 100us/step - loss: 0.0513 - acc: 0.9844 - val_loss: 0.0299 - val_acc: 0.9904\n",
            "\n",
            "Epoch 00020: val_acc did not improve from 0.99080\n",
            "Epoch 21/150\n",
            "60000/60000 [==============================] - 6s 102us/step - loss: 0.0469 - acc: 0.9855 - val_loss: 0.0266 - val_acc: 0.9909\n",
            "\n",
            "Epoch 00021: val_acc improved from 0.99080 to 0.99090, saving model to /content/gdrive/My Drive/epochs:021-val_acc:0.991.hdf5\n",
            "Epoch 22/150\n",
            "60000/60000 [==============================] - 7s 109us/step - loss: 0.0476 - acc: 0.9855 - val_loss: 0.0291 - val_acc: 0.9914\n",
            "\n",
            "Epoch 00022: val_acc improved from 0.99090 to 0.99140, saving model to /content/gdrive/My Drive/epochs:022-val_acc:0.991.hdf5\n",
            "Epoch 23/150\n",
            "60000/60000 [==============================] - 6s 100us/step - loss: 0.0475 - acc: 0.9849 - val_loss: 0.0292 - val_acc: 0.9905\n",
            "\n",
            "Epoch 00023: val_acc did not improve from 0.99140\n",
            "Epoch 24/150\n",
            "60000/60000 [==============================] - 6s 99us/step - loss: 0.0464 - acc: 0.9856 - val_loss: 0.0262 - val_acc: 0.9920\n",
            "\n",
            "Epoch 00024: val_acc improved from 0.99140 to 0.99200, saving model to /content/gdrive/My Drive/epochs:024-val_acc:0.992.hdf5\n",
            "Epoch 25/150\n",
            "60000/60000 [==============================] - 6s 99us/step - loss: 0.0440 - acc: 0.9866 - val_loss: 0.0287 - val_acc: 0.9916\n",
            "\n",
            "Epoch 00025: val_acc did not improve from 0.99200\n",
            "Epoch 26/150\n",
            "60000/60000 [==============================] - 6s 99us/step - loss: 0.0428 - acc: 0.9864 - val_loss: 0.0300 - val_acc: 0.9902\n",
            "\n",
            "Epoch 00026: val_acc did not improve from 0.99200\n",
            "Epoch 27/150\n",
            "60000/60000 [==============================] - 6s 99us/step - loss: 0.0417 - acc: 0.9870 - val_loss: 0.0250 - val_acc: 0.9924\n",
            "\n",
            "Epoch 00027: val_acc improved from 0.99200 to 0.99240, saving model to /content/gdrive/My Drive/epochs:027-val_acc:0.992.hdf5\n",
            "Epoch 28/150\n",
            "60000/60000 [==============================] - 6s 99us/step - loss: 0.0413 - acc: 0.9875 - val_loss: 0.0238 - val_acc: 0.9926\n",
            "\n",
            "Epoch 00028: val_acc improved from 0.99240 to 0.99260, saving model to /content/gdrive/My Drive/epochs:028-val_acc:0.993.hdf5\n",
            "Epoch 29/150\n",
            "60000/60000 [==============================] - 6s 99us/step - loss: 0.0398 - acc: 0.9875 - val_loss: 0.0238 - val_acc: 0.9919\n",
            "\n",
            "Epoch 00029: val_acc did not improve from 0.99260\n",
            "Epoch 30/150\n",
            "60000/60000 [==============================] - 6s 98us/step - loss: 0.0392 - acc: 0.9881 - val_loss: 0.0283 - val_acc: 0.9924\n",
            "\n",
            "Epoch 00030: val_acc did not improve from 0.99260\n",
            "Epoch 31/150\n",
            "60000/60000 [==============================] - 6s 99us/step - loss: 0.0386 - acc: 0.9884 - val_loss: 0.0259 - val_acc: 0.9917\n",
            "\n",
            "Epoch 00031: val_acc did not improve from 0.99260\n",
            "Epoch 32/150\n",
            "60000/60000 [==============================] - 6s 99us/step - loss: 0.0415 - acc: 0.9876 - val_loss: 0.0227 - val_acc: 0.9922\n",
            "\n",
            "Epoch 00032: val_acc did not improve from 0.99260\n",
            "Epoch 33/150\n",
            "60000/60000 [==============================] - 6s 99us/step - loss: 0.0382 - acc: 0.9881 - val_loss: 0.0244 - val_acc: 0.9922\n",
            "\n",
            "Epoch 00033: val_acc did not improve from 0.99260\n",
            "Epoch 34/150\n",
            "60000/60000 [==============================] - 6s 100us/step - loss: 0.0372 - acc: 0.9884 - val_loss: 0.0240 - val_acc: 0.9926\n",
            "\n",
            "Epoch 00034: val_acc did not improve from 0.99260\n",
            "Epoch 35/150\n",
            "60000/60000 [==============================] - 7s 109us/step - loss: 0.0369 - acc: 0.9885 - val_loss: 0.0244 - val_acc: 0.9923\n",
            "\n",
            "Epoch 00035: val_acc did not improve from 0.99260\n",
            "Epoch 36/150\n",
            "60000/60000 [==============================] - 6s 103us/step - loss: 0.0360 - acc: 0.9886 - val_loss: 0.0262 - val_acc: 0.9917\n",
            "\n",
            "Epoch 00036: val_acc did not improve from 0.99260\n",
            "Epoch 37/150\n",
            "60000/60000 [==============================] - 6s 99us/step - loss: 0.0341 - acc: 0.9892 - val_loss: 0.0248 - val_acc: 0.9929\n",
            "\n",
            "Epoch 00037: val_acc improved from 0.99260 to 0.99290, saving model to /content/gdrive/My Drive/epochs:037-val_acc:0.993.hdf5\n",
            "Epoch 38/150\n",
            "60000/60000 [==============================] - 6s 99us/step - loss: 0.0325 - acc: 0.9897 - val_loss: 0.0267 - val_acc: 0.9919\n",
            "\n",
            "Epoch 00038: val_acc did not improve from 0.99290\n",
            "Epoch 39/150\n",
            "60000/60000 [==============================] - 6s 99us/step - loss: 0.0359 - acc: 0.9889 - val_loss: 0.0229 - val_acc: 0.9932\n",
            "\n",
            "Epoch 00039: val_acc improved from 0.99290 to 0.99320, saving model to /content/gdrive/My Drive/epochs:039-val_acc:0.993.hdf5\n",
            "Epoch 40/150\n",
            "60000/60000 [==============================] - 6s 98us/step - loss: 0.0343 - acc: 0.9889 - val_loss: 0.0246 - val_acc: 0.9932\n",
            "\n",
            "Epoch 00040: val_acc did not improve from 0.99320\n",
            "Epoch 41/150\n",
            "60000/60000 [==============================] - 6s 99us/step - loss: 0.0336 - acc: 0.9895 - val_loss: 0.0224 - val_acc: 0.9932\n",
            "\n",
            "Epoch 00041: val_acc did not improve from 0.99320\n",
            "Epoch 42/150\n",
            "60000/60000 [==============================] - 6s 99us/step - loss: 0.0328 - acc: 0.9898 - val_loss: 0.0221 - val_acc: 0.9934\n",
            "\n",
            "Epoch 00042: val_acc improved from 0.99320 to 0.99340, saving model to /content/gdrive/My Drive/epochs:042-val_acc:0.993.hdf5\n",
            "Epoch 43/150\n",
            "60000/60000 [==============================] - 6s 99us/step - loss: 0.0327 - acc: 0.9898 - val_loss: 0.0225 - val_acc: 0.9932\n",
            "\n",
            "Epoch 00043: val_acc did not improve from 0.99340\n",
            "Epoch 44/150\n",
            "60000/60000 [==============================] - 6s 98us/step - loss: 0.0327 - acc: 0.9897 - val_loss: 0.0226 - val_acc: 0.9931\n",
            "\n",
            "Epoch 00044: val_acc did not improve from 0.99340\n",
            "Epoch 45/150\n",
            "60000/60000 [==============================] - 6s 99us/step - loss: 0.0312 - acc: 0.9901 - val_loss: 0.0226 - val_acc: 0.9924\n",
            "\n",
            "Epoch 00045: val_acc did not improve from 0.99340\n",
            "Epoch 46/150\n",
            "60000/60000 [==============================] - 6s 99us/step - loss: 0.0319 - acc: 0.9900 - val_loss: 0.0231 - val_acc: 0.9923\n",
            "\n",
            "Epoch 00046: val_acc did not improve from 0.99340\n",
            "Epoch 47/150\n",
            "60000/60000 [==============================] - 6s 99us/step - loss: 0.0318 - acc: 0.9899 - val_loss: 0.0218 - val_acc: 0.9929\n",
            "\n",
            "Epoch 00047: val_acc did not improve from 0.99340\n",
            "Epoch 48/150\n",
            "60000/60000 [==============================] - 6s 108us/step - loss: 0.0311 - acc: 0.9902 - val_loss: 0.0241 - val_acc: 0.9923\n",
            "\n",
            "Epoch 00048: val_acc did not improve from 0.99340\n",
            "Epoch 49/150\n",
            "60000/60000 [==============================] - 6s 105us/step - loss: 0.0306 - acc: 0.9902 - val_loss: 0.0267 - val_acc: 0.9914\n",
            "\n",
            "Epoch 00049: val_acc did not improve from 0.99340\n",
            "Epoch 50/150\n",
            "60000/60000 [==============================] - 6s 98us/step - loss: 0.0293 - acc: 0.9906 - val_loss: 0.0225 - val_acc: 0.9929\n",
            "\n",
            "Epoch 00050: val_acc did not improve from 0.99340\n",
            "Epoch 51/150\n",
            "60000/60000 [==============================] - 6s 98us/step - loss: 0.0304 - acc: 0.9903 - val_loss: 0.0207 - val_acc: 0.9935\n",
            "\n",
            "Epoch 00051: val_acc improved from 0.99340 to 0.99350, saving model to /content/gdrive/My Drive/epochs:051-val_acc:0.994.hdf5\n",
            "Epoch 52/150\n",
            "60000/60000 [==============================] - 6s 98us/step - loss: 0.0294 - acc: 0.9908 - val_loss: 0.0223 - val_acc: 0.9931\n",
            "\n",
            "Epoch 00052: val_acc did not improve from 0.99350\n",
            "Epoch 53/150\n",
            "60000/60000 [==============================] - 6s 98us/step - loss: 0.0299 - acc: 0.9907 - val_loss: 0.0213 - val_acc: 0.9934\n",
            "\n",
            "Epoch 00053: val_acc did not improve from 0.99350\n",
            "Epoch 54/150\n",
            "60000/60000 [==============================] - 6s 98us/step - loss: 0.0296 - acc: 0.9902 - val_loss: 0.0243 - val_acc: 0.9931\n",
            "\n",
            "Epoch 00054: val_acc did not improve from 0.99350\n",
            "Epoch 55/150\n",
            "60000/60000 [==============================] - 6s 106us/step - loss: 0.0277 - acc: 0.9914 - val_loss: 0.0231 - val_acc: 0.9934\n",
            "\n",
            "Epoch 00055: val_acc did not improve from 0.99350\n",
            "Epoch 56/150\n",
            "60000/60000 [==============================] - 6s 101us/step - loss: 0.0277 - acc: 0.9910 - val_loss: 0.0193 - val_acc: 0.9933\n",
            "\n",
            "Epoch 00056: val_acc did not improve from 0.99350\n",
            "Epoch 57/150\n",
            "60000/60000 [==============================] - 6s 98us/step - loss: 0.0293 - acc: 0.9906 - val_loss: 0.0237 - val_acc: 0.9930\n",
            "\n",
            "Epoch 00057: val_acc did not improve from 0.99350\n",
            "Epoch 58/150\n",
            "60000/60000 [==============================] - 6s 98us/step - loss: 0.0269 - acc: 0.9915 - val_loss: 0.0241 - val_acc: 0.9921\n",
            "\n",
            "Epoch 00058: val_acc did not improve from 0.99350\n",
            "Epoch 59/150\n",
            "60000/60000 [==============================] - 6s 99us/step - loss: 0.0286 - acc: 0.9905 - val_loss: 0.0226 - val_acc: 0.9937\n",
            "\n",
            "Epoch 00059: val_acc improved from 0.99350 to 0.99370, saving model to /content/gdrive/My Drive/epochs:059-val_acc:0.994.hdf5\n",
            "Epoch 60/150\n",
            "60000/60000 [==============================] - 6s 99us/step - loss: 0.0281 - acc: 0.9914 - val_loss: 0.0209 - val_acc: 0.9936\n",
            "\n",
            "Epoch 00060: val_acc did not improve from 0.99370\n",
            "Epoch 61/150\n",
            "60000/60000 [==============================] - 6s 105us/step - loss: 0.0270 - acc: 0.9917 - val_loss: 0.0208 - val_acc: 0.9932\n",
            "\n",
            "Epoch 00061: val_acc did not improve from 0.99370\n",
            "Epoch 62/150\n",
            "60000/60000 [==============================] - 7s 111us/step - loss: 0.0268 - acc: 0.9916 - val_loss: 0.0235 - val_acc: 0.9924\n",
            "\n",
            "Epoch 00062: val_acc did not improve from 0.99370\n",
            "Epoch 63/150\n",
            "60000/60000 [==============================] - 6s 107us/step - loss: 0.0278 - acc: 0.9911 - val_loss: 0.0212 - val_acc: 0.9942\n",
            "\n",
            "Epoch 00063: val_acc improved from 0.99370 to 0.99420, saving model to /content/gdrive/My Drive/epochs:063-val_acc:0.994.hdf5\n",
            "Epoch 64/150\n",
            "60000/60000 [==============================] - 6s 98us/step - loss: 0.0248 - acc: 0.9922 - val_loss: 0.0197 - val_acc: 0.9941\n",
            "\n",
            "Epoch 00064: val_acc did not improve from 0.99420\n",
            "Epoch 65/150\n",
            "60000/60000 [==============================] - 6s 99us/step - loss: 0.0265 - acc: 0.9915 - val_loss: 0.0192 - val_acc: 0.9948\n",
            "\n",
            "Epoch 00065: val_acc improved from 0.99420 to 0.99480, saving model to /content/gdrive/My Drive/epochs:065-val_acc:0.995.hdf5\n",
            "Epoch 66/150\n",
            "60000/60000 [==============================] - 6s 99us/step - loss: 0.0250 - acc: 0.9918 - val_loss: 0.0217 - val_acc: 0.9929\n",
            "\n",
            "Epoch 00066: val_acc did not improve from 0.99480\n",
            "Epoch 67/150\n",
            "60000/60000 [==============================] - 6s 99us/step - loss: 0.0263 - acc: 0.9916 - val_loss: 0.0204 - val_acc: 0.9937\n",
            "\n",
            "Epoch 00067: val_acc did not improve from 0.99480\n",
            "Epoch 68/150\n",
            "60000/60000 [==============================] - 6s 99us/step - loss: 0.0261 - acc: 0.9917 - val_loss: 0.0202 - val_acc: 0.9936\n",
            "\n",
            "Epoch 00068: val_acc did not improve from 0.99480\n",
            "Epoch 69/150\n",
            "60000/60000 [==============================] - 6s 98us/step - loss: 0.0256 - acc: 0.9916 - val_loss: 0.0200 - val_acc: 0.9941\n",
            "\n",
            "Epoch 00069: val_acc did not improve from 0.99480\n",
            "Epoch 70/150\n",
            "60000/60000 [==============================] - 6s 98us/step - loss: 0.0256 - acc: 0.9919 - val_loss: 0.0216 - val_acc: 0.9935\n",
            "\n",
            "Epoch 00070: val_acc did not improve from 0.99480\n",
            "Epoch 71/150\n",
            "60000/60000 [==============================] - 6s 98us/step - loss: 0.0242 - acc: 0.9924 - val_loss: 0.0219 - val_acc: 0.9929\n",
            "\n",
            "Epoch 00071: val_acc did not improve from 0.99480\n",
            "Epoch 72/150\n",
            "60000/60000 [==============================] - 6s 98us/step - loss: 0.0245 - acc: 0.9923 - val_loss: 0.0188 - val_acc: 0.9935\n",
            "\n",
            "Epoch 00072: val_acc did not improve from 0.99480\n",
            "Epoch 73/150\n",
            "60000/60000 [==============================] - 6s 100us/step - loss: 0.0239 - acc: 0.9924 - val_loss: 0.0201 - val_acc: 0.9940\n",
            "\n",
            "Epoch 00073: val_acc did not improve from 0.99480\n",
            "Epoch 74/150\n",
            "60000/60000 [==============================] - 6s 101us/step - loss: 0.0251 - acc: 0.9918 - val_loss: 0.0200 - val_acc: 0.9939\n",
            "\n",
            "Epoch 00074: val_acc did not improve from 0.99480\n",
            "Epoch 75/150\n",
            "60000/60000 [==============================] - 7s 108us/step - loss: 0.0239 - acc: 0.9924 - val_loss: 0.0198 - val_acc: 0.9937\n",
            "\n",
            "Epoch 00075: val_acc did not improve from 0.99480\n",
            "Epoch 76/150\n",
            "60000/60000 [==============================] - 6s 100us/step - loss: 0.0238 - acc: 0.9924 - val_loss: 0.0217 - val_acc: 0.9935\n",
            "\n",
            "Epoch 00076: val_acc did not improve from 0.99480\n",
            "Epoch 77/150\n",
            "60000/60000 [==============================] - 6s 98us/step - loss: 0.0239 - acc: 0.9927 - val_loss: 0.0194 - val_acc: 0.9938\n",
            "\n",
            "Epoch 00077: val_acc did not improve from 0.99480\n",
            "Epoch 78/150\n",
            "60000/60000 [==============================] - 6s 98us/step - loss: 0.0231 - acc: 0.9927 - val_loss: 0.0223 - val_acc: 0.9933\n",
            "\n",
            "Epoch 00078: val_acc did not improve from 0.99480\n",
            "Epoch 79/150\n",
            "60000/60000 [==============================] - 6s 99us/step - loss: 0.0233 - acc: 0.9922 - val_loss: 0.0216 - val_acc: 0.9936\n",
            "\n",
            "Epoch 00079: val_acc did not improve from 0.99480\n",
            "Epoch 80/150\n",
            "60000/60000 [==============================] - 6s 99us/step - loss: 0.0247 - acc: 0.9921 - val_loss: 0.0183 - val_acc: 0.9946\n",
            "\n",
            "Epoch 00080: val_acc did not improve from 0.99480\n",
            "Epoch 81/150\n",
            "60000/60000 [==============================] - 6s 98us/step - loss: 0.0230 - acc: 0.9926 - val_loss: 0.0193 - val_acc: 0.9940\n",
            "\n",
            "Epoch 00081: val_acc did not improve from 0.99480\n",
            "Epoch 82/150\n",
            "60000/60000 [==============================] - 6s 98us/step - loss: 0.0236 - acc: 0.9926 - val_loss: 0.0210 - val_acc: 0.9933\n",
            "\n",
            "Epoch 00082: val_acc did not improve from 0.99480\n",
            "Epoch 83/150\n",
            "60000/60000 [==============================] - 6s 100us/step - loss: 0.0225 - acc: 0.9924 - val_loss: 0.0212 - val_acc: 0.9934\n",
            "\n",
            "Epoch 00083: val_acc did not improve from 0.99480\n",
            "Epoch 84/150\n",
            "60000/60000 [==============================] - 6s 99us/step - loss: 0.0229 - acc: 0.9927 - val_loss: 0.0191 - val_acc: 0.9939\n",
            "\n",
            "Epoch 00084: val_acc did not improve from 0.99480\n",
            "Epoch 85/150\n",
            "60000/60000 [==============================] - 6s 99us/step - loss: 0.0217 - acc: 0.9928 - val_loss: 0.0281 - val_acc: 0.9918\n",
            "\n",
            "Epoch 00085: val_acc did not improve from 0.99480\n",
            "Epoch 86/150\n",
            "60000/60000 [==============================] - 6s 99us/step - loss: 0.0222 - acc: 0.9929 - val_loss: 0.0196 - val_acc: 0.9943\n",
            "\n",
            "Epoch 00086: val_acc did not improve from 0.99480\n",
            "Epoch 87/150\n",
            "60000/60000 [==============================] - 6s 99us/step - loss: 0.0225 - acc: 0.9930 - val_loss: 0.0203 - val_acc: 0.9933\n",
            "\n",
            "Epoch 00087: val_acc did not improve from 0.99480\n",
            "Epoch 88/150\n",
            "60000/60000 [==============================] - 6s 108us/step - loss: 0.0223 - acc: 0.9928 - val_loss: 0.0231 - val_acc: 0.9931\n",
            "\n",
            "Epoch 00088: val_acc did not improve from 0.99480\n",
            "Epoch 89/150\n",
            "60000/60000 [==============================] - 6s 105us/step - loss: 0.0225 - acc: 0.9926 - val_loss: 0.0223 - val_acc: 0.9933\n",
            "\n",
            "Epoch 00089: val_acc did not improve from 0.99480\n",
            "Epoch 90/150\n",
            "60000/60000 [==============================] - 6s 99us/step - loss: 0.0220 - acc: 0.9925 - val_loss: 0.0223 - val_acc: 0.9927\n",
            "\n",
            "Epoch 00090: val_acc did not improve from 0.99480\n",
            "Epoch 91/150\n",
            "60000/60000 [==============================] - 6s 98us/step - loss: 0.0227 - acc: 0.9927 - val_loss: 0.0187 - val_acc: 0.9940\n",
            "\n",
            "Epoch 00091: val_acc did not improve from 0.99480\n",
            "Epoch 92/150\n",
            "60000/60000 [==============================] - 6s 98us/step - loss: 0.0215 - acc: 0.9930 - val_loss: 0.0234 - val_acc: 0.9926\n",
            "\n",
            "Epoch 00092: val_acc did not improve from 0.99480\n",
            "Epoch 93/150\n",
            "60000/60000 [==============================] - 6s 98us/step - loss: 0.0216 - acc: 0.9929 - val_loss: 0.0184 - val_acc: 0.9940\n",
            "\n",
            "Epoch 00093: val_acc did not improve from 0.99480\n",
            "Epoch 94/150\n",
            "60000/60000 [==============================] - 6s 98us/step - loss: 0.0219 - acc: 0.9930 - val_loss: 0.0208 - val_acc: 0.9933\n",
            "\n",
            "Epoch 00094: val_acc did not improve from 0.99480\n",
            "Epoch 95/150\n",
            "60000/60000 [==============================] - 6s 98us/step - loss: 0.0214 - acc: 0.9931 - val_loss: 0.0183 - val_acc: 0.9944\n",
            "\n",
            "Epoch 00095: val_acc did not improve from 0.99480\n",
            "Epoch 96/150\n",
            "60000/60000 [==============================] - 6s 98us/step - loss: 0.0210 - acc: 0.9931 - val_loss: 0.0211 - val_acc: 0.9931\n",
            "\n",
            "Epoch 00096: val_acc did not improve from 0.99480\n",
            "Epoch 97/150\n",
            "60000/60000 [==============================] - 6s 98us/step - loss: 0.0222 - acc: 0.9929 - val_loss: 0.0217 - val_acc: 0.9942\n",
            "\n",
            "Epoch 00097: val_acc did not improve from 0.99480\n",
            "Epoch 98/150\n",
            "60000/60000 [==============================] - 6s 98us/step - loss: 0.0218 - acc: 0.9934 - val_loss: 0.0239 - val_acc: 0.9930\n",
            "\n",
            "Epoch 00098: val_acc did not improve from 0.99480\n",
            "Epoch 99/150\n",
            "60000/60000 [==============================] - 6s 98us/step - loss: 0.0200 - acc: 0.9934 - val_loss: 0.0204 - val_acc: 0.9939\n",
            "\n",
            "Epoch 00099: val_acc did not improve from 0.99480\n",
            "Epoch 100/150\n",
            "60000/60000 [==============================] - 6s 98us/step - loss: 0.0203 - acc: 0.9936 - val_loss: 0.0224 - val_acc: 0.9933\n",
            "\n",
            "Epoch 00100: val_acc did not improve from 0.99480\n",
            "Epoch 101/150\n",
            "60000/60000 [==============================] - 6s 102us/step - loss: 0.0208 - acc: 0.9932 - val_loss: 0.0193 - val_acc: 0.9941\n",
            "\n",
            "Epoch 00101: val_acc did not improve from 0.99480\n",
            "Epoch 102/150\n",
            "60000/60000 [==============================] - 6s 108us/step - loss: 0.0217 - acc: 0.9927 - val_loss: 0.0197 - val_acc: 0.9935\n",
            "\n",
            "Epoch 00102: val_acc did not improve from 0.99480\n",
            "Epoch 103/150\n",
            "60000/60000 [==============================] - 6s 100us/step - loss: 0.0205 - acc: 0.9935 - val_loss: 0.0254 - val_acc: 0.9934\n",
            "\n",
            "Epoch 00103: val_acc did not improve from 0.99480\n",
            "Epoch 104/150\n",
            "60000/60000 [==============================] - 6s 98us/step - loss: 0.0208 - acc: 0.9930 - val_loss: 0.0222 - val_acc: 0.9941\n",
            "\n",
            "Epoch 00104: val_acc did not improve from 0.99480\n",
            "Epoch 105/150\n",
            "60000/60000 [==============================] - 6s 98us/step - loss: 0.0194 - acc: 0.9938 - val_loss: 0.0218 - val_acc: 0.9939\n",
            "\n",
            "Epoch 00105: val_acc did not improve from 0.99480\n",
            "Epoch 106/150\n",
            "60000/60000 [==============================] - 6s 107us/step - loss: 0.0214 - acc: 0.9929 - val_loss: 0.0205 - val_acc: 0.9937\n",
            "\n",
            "Epoch 00106: val_acc did not improve from 0.99480\n",
            "Epoch 107/150\n",
            "60000/60000 [==============================] - 6s 98us/step - loss: 0.0211 - acc: 0.9932 - val_loss: 0.0228 - val_acc: 0.9934\n",
            "\n",
            "Epoch 00107: val_acc did not improve from 0.99480\n",
            "Epoch 108/150\n",
            "60000/60000 [==============================] - 6s 99us/step - loss: 0.0204 - acc: 0.9937 - val_loss: 0.0223 - val_acc: 0.9926\n",
            "\n",
            "Epoch 00108: val_acc did not improve from 0.99480\n",
            "Epoch 109/150\n",
            "60000/60000 [==============================] - 6s 98us/step - loss: 0.0202 - acc: 0.9931 - val_loss: 0.0202 - val_acc: 0.9940\n",
            "\n",
            "Epoch 00109: val_acc did not improve from 0.99480\n",
            "Epoch 110/150\n",
            "60000/60000 [==============================] - 6s 99us/step - loss: 0.0196 - acc: 0.9933 - val_loss: 0.0190 - val_acc: 0.9944\n",
            "\n",
            "Epoch 00110: val_acc did not improve from 0.99480\n",
            "Epoch 111/150\n",
            "60000/60000 [==============================] - 6s 98us/step - loss: 0.0194 - acc: 0.9936 - val_loss: 0.0202 - val_acc: 0.9941\n",
            "\n",
            "Epoch 00111: val_acc did not improve from 0.99480\n",
            "Epoch 112/150\n",
            "60000/60000 [==============================] - 6s 98us/step - loss: 0.0185 - acc: 0.9941 - val_loss: 0.0224 - val_acc: 0.9935\n",
            "\n",
            "Epoch 00112: val_acc did not improve from 0.99480\n",
            "Epoch 113/150\n",
            "60000/60000 [==============================] - 6s 100us/step - loss: 0.0192 - acc: 0.9936 - val_loss: 0.0221 - val_acc: 0.9929\n",
            "\n",
            "Epoch 00113: val_acc did not improve from 0.99480\n",
            "Epoch 114/150\n",
            "60000/60000 [==============================] - 7s 111us/step - loss: 0.0207 - acc: 0.9934 - val_loss: 0.0224 - val_acc: 0.9938\n",
            "\n",
            "Epoch 00114: val_acc did not improve from 0.99480\n",
            "Epoch 115/150\n",
            "60000/60000 [==============================] - 7s 109us/step - loss: 0.0188 - acc: 0.9940 - val_loss: 0.0191 - val_acc: 0.9941\n",
            "\n",
            "Epoch 00115: val_acc did not improve from 0.99480\n",
            "Epoch 116/150\n",
            "60000/60000 [==============================] - 6s 102us/step - loss: 0.0190 - acc: 0.9937 - val_loss: 0.0228 - val_acc: 0.9931\n",
            "\n",
            "Epoch 00116: val_acc did not improve from 0.99480\n",
            "Epoch 117/150\n",
            "60000/60000 [==============================] - 6s 98us/step - loss: 0.0196 - acc: 0.9937 - val_loss: 0.0202 - val_acc: 0.9943\n",
            "\n",
            "Epoch 00117: val_acc did not improve from 0.99480\n",
            "Epoch 118/150\n",
            "60000/60000 [==============================] - 6s 98us/step - loss: 0.0188 - acc: 0.9938 - val_loss: 0.0244 - val_acc: 0.9934\n",
            "\n",
            "Epoch 00118: val_acc did not improve from 0.99480\n",
            "Epoch 119/150\n",
            "60000/60000 [==============================] - 6s 99us/step - loss: 0.0187 - acc: 0.9945 - val_loss: 0.0202 - val_acc: 0.9942\n",
            "\n",
            "Epoch 00119: val_acc did not improve from 0.99480\n",
            "Epoch 120/150\n",
            "60000/60000 [==============================] - 6s 98us/step - loss: 0.0188 - acc: 0.9936 - val_loss: 0.0189 - val_acc: 0.9944\n",
            "\n",
            "Epoch 00120: val_acc did not improve from 0.99480\n",
            "Epoch 121/150\n",
            "60000/60000 [==============================] - 6s 98us/step - loss: 0.0191 - acc: 0.9937 - val_loss: 0.0257 - val_acc: 0.9929\n",
            "\n",
            "Epoch 00121: val_acc did not improve from 0.99480\n",
            "Epoch 122/150\n",
            "60000/60000 [==============================] - 6s 98us/step - loss: 0.0178 - acc: 0.9942 - val_loss: 0.0194 - val_acc: 0.9941\n",
            "\n",
            "Epoch 00122: val_acc did not improve from 0.99480\n",
            "Epoch 123/150\n",
            "60000/60000 [==============================] - 6s 99us/step - loss: 0.0198 - acc: 0.9937 - val_loss: 0.0194 - val_acc: 0.9941\n",
            "\n",
            "Epoch 00123: val_acc did not improve from 0.99480\n",
            "Epoch 124/150\n",
            "60000/60000 [==============================] - 6s 100us/step - loss: 0.0192 - acc: 0.9938 - val_loss: 0.0216 - val_acc: 0.9930\n",
            "\n",
            "Epoch 00124: val_acc did not improve from 0.99480\n",
            "Epoch 125/150\n",
            "60000/60000 [==============================] - 6s 98us/step - loss: 0.0187 - acc: 0.9934 - val_loss: 0.0198 - val_acc: 0.9948\n",
            "\n",
            "Epoch 00125: val_acc did not improve from 0.99480\n",
            "Epoch 126/150\n",
            "60000/60000 [==============================] - 6s 99us/step - loss: 0.0203 - acc: 0.9936 - val_loss: 0.0196 - val_acc: 0.9936\n",
            "\n",
            "Epoch 00126: val_acc did not improve from 0.99480\n",
            "Epoch 127/150\n",
            "60000/60000 [==============================] - 6s 99us/step - loss: 0.0189 - acc: 0.9939 - val_loss: 0.0212 - val_acc: 0.9932\n",
            "\n",
            "Epoch 00127: val_acc did not improve from 0.99480\n",
            "Epoch 128/150\n",
            "60000/60000 [==============================] - 6s 106us/step - loss: 0.0199 - acc: 0.9934 - val_loss: 0.0228 - val_acc: 0.9928\n",
            "\n",
            "Epoch 00128: val_acc did not improve from 0.99480\n",
            "Epoch 129/150\n",
            "60000/60000 [==============================] - 6s 107us/step - loss: 0.0179 - acc: 0.9942 - val_loss: 0.0201 - val_acc: 0.9940\n",
            "\n",
            "Epoch 00129: val_acc did not improve from 0.99480\n",
            "Epoch 130/150\n",
            "60000/60000 [==============================] - 6s 99us/step - loss: 0.0195 - acc: 0.9938 - val_loss: 0.0203 - val_acc: 0.9938\n",
            "\n",
            "Epoch 00130: val_acc did not improve from 0.99480\n",
            "Epoch 131/150\n",
            "60000/60000 [==============================] - 6s 99us/step - loss: 0.0182 - acc: 0.9942 - val_loss: 0.0233 - val_acc: 0.9930\n",
            "\n",
            "Epoch 00131: val_acc did not improve from 0.99480\n",
            "Epoch 132/150\n",
            "60000/60000 [==============================] - 6s 98us/step - loss: 0.0177 - acc: 0.9942 - val_loss: 0.0191 - val_acc: 0.9943\n",
            "\n",
            "Epoch 00132: val_acc did not improve from 0.99480\n",
            "Epoch 133/150\n",
            "60000/60000 [==============================] - 6s 99us/step - loss: 0.0184 - acc: 0.9941 - val_loss: 0.0205 - val_acc: 0.9942\n",
            "\n",
            "Epoch 00133: val_acc did not improve from 0.99480\n",
            "Epoch 134/150\n",
            "60000/60000 [==============================] - 6s 99us/step - loss: 0.0186 - acc: 0.9937 - val_loss: 0.0212 - val_acc: 0.9939\n",
            "\n",
            "Epoch 00134: val_acc did not improve from 0.99480\n",
            "Epoch 135/150\n",
            "60000/60000 [==============================] - 6s 99us/step - loss: 0.0169 - acc: 0.9945 - val_loss: 0.0212 - val_acc: 0.9938\n",
            "\n",
            "Epoch 00135: val_acc did not improve from 0.99480\n",
            "Epoch 136/150\n",
            "60000/60000 [==============================] - 6s 99us/step - loss: 0.0181 - acc: 0.9938 - val_loss: 0.0219 - val_acc: 0.9929\n",
            "\n",
            "Epoch 00136: val_acc did not improve from 0.99480\n",
            "Epoch 137/150\n",
            "60000/60000 [==============================] - 6s 99us/step - loss: 0.0181 - acc: 0.9938 - val_loss: 0.0314 - val_acc: 0.9913\n",
            "\n",
            "Epoch 00137: val_acc did not improve from 0.99480\n",
            "Epoch 138/150\n",
            "60000/60000 [==============================] - 6s 98us/step - loss: 0.0171 - acc: 0.9945 - val_loss: 0.0210 - val_acc: 0.9940\n",
            "\n",
            "Epoch 00138: val_acc did not improve from 0.99480\n",
            "Epoch 139/150\n",
            "60000/60000 [==============================] - 6s 99us/step - loss: 0.0176 - acc: 0.9941 - val_loss: 0.0208 - val_acc: 0.9941\n",
            "\n",
            "Epoch 00139: val_acc did not improve from 0.99480\n",
            "Epoch 140/150\n",
            "60000/60000 [==============================] - 6s 99us/step - loss: 0.0181 - acc: 0.9940 - val_loss: 0.0198 - val_acc: 0.9938\n",
            "\n",
            "Epoch 00140: val_acc did not improve from 0.99480\n",
            "Epoch 141/150\n",
            "60000/60000 [==============================] - 6s 102us/step - loss: 0.0163 - acc: 0.9946 - val_loss: 0.0234 - val_acc: 0.9933\n",
            "\n",
            "Epoch 00141: val_acc did not improve from 0.99480\n",
            "Epoch 142/150\n",
            "60000/60000 [==============================] - 7s 109us/step - loss: 0.0170 - acc: 0.9944 - val_loss: 0.0210 - val_acc: 0.9938\n",
            "\n",
            "Epoch 00142: val_acc did not improve from 0.99480\n",
            "Epoch 143/150\n",
            "60000/60000 [==============================] - 6s 101us/step - loss: 0.0189 - acc: 0.9940 - val_loss: 0.0227 - val_acc: 0.9943\n",
            "\n",
            "Epoch 00143: val_acc did not improve from 0.99480\n",
            "Epoch 144/150\n",
            "60000/60000 [==============================] - 6s 99us/step - loss: 0.0163 - acc: 0.9948 - val_loss: 0.0216 - val_acc: 0.9943\n",
            "\n",
            "Epoch 00144: val_acc did not improve from 0.99480\n",
            "Epoch 145/150\n",
            "60000/60000 [==============================] - 6s 99us/step - loss: 0.0166 - acc: 0.9948 - val_loss: 0.0222 - val_acc: 0.9933\n",
            "\n",
            "Epoch 00145: val_acc did not improve from 0.99480\n",
            "Epoch 146/150\n",
            "60000/60000 [==============================] - 6s 99us/step - loss: 0.0171 - acc: 0.9942 - val_loss: 0.0217 - val_acc: 0.9941\n",
            "\n",
            "Epoch 00146: val_acc did not improve from 0.99480\n",
            "Epoch 147/150\n",
            "60000/60000 [==============================] - 6s 98us/step - loss: 0.0181 - acc: 0.9940 - val_loss: 0.0205 - val_acc: 0.9934\n",
            "\n",
            "Epoch 00147: val_acc did not improve from 0.99480\n",
            "Epoch 148/150\n",
            "60000/60000 [==============================] - 6s 99us/step - loss: 0.0174 - acc: 0.9941 - val_loss: 0.0184 - val_acc: 0.9941\n",
            "\n",
            "Epoch 00148: val_acc did not improve from 0.99480\n",
            "Epoch 149/150\n",
            "60000/60000 [==============================] - 6s 99us/step - loss: 0.0163 - acc: 0.9946 - val_loss: 0.0202 - val_acc: 0.9940\n",
            "\n",
            "Epoch 00149: val_acc did not improve from 0.99480\n",
            "Epoch 150/150\n",
            "60000/60000 [==============================] - 6s 99us/step - loss: 0.0165 - acc: 0.9944 - val_loss: 0.0211 - val_acc: 0.9938\n",
            "\n",
            "Epoch 00150: val_acc did not improve from 0.99480\n"
          ],
          "name": "stdout"
        },
        {
          "output_type": "execute_result",
          "data": {
            "text/plain": [
              "<keras.callbacks.History at 0x7fa14fd16550>"
            ]
          },
          "metadata": {
            "tags": []
          },
          "execution_count": 15
        }
      ]
    },
    {
      "cell_type": "markdown",
      "metadata": {
        "id": "eKu2yFxTtshn",
        "colab_type": "text"
      },
      "source": [
        "Reached 99.48% validation accuracy at epoch number 65.\n",
        "\n",
        "Epoch 00065: val_acc improved from 0.99420 to 0.99480, saving model to /content/gdrive/My Drive/epochs:065-val_acc:0.995.hdf5"
      ]
    },
    {
      "cell_type": "code",
      "metadata": {
        "id": "ChMZ6c1wAp9N",
        "colab_type": "code",
        "colab": {
          "base_uri": "https://localhost:8080/",
          "height": 190
        },
        "outputId": "a851847f-5980-4004-95b2-e4e41907f1ac"
      },
      "source": [
        "from keras.models import load_model\n",
        "model = load_model('/content/gdrive/My Drive/epochs_final:065-val_acc:0.995.hdf5')"
      ],
      "execution_count": 12,
      "outputs": [
        {
          "output_type": "stream",
          "text": [
            "WARNING:tensorflow:From /usr/local/lib/python3.6/dist-packages/tensorflow/python/framework/op_def_library.py:263: colocate_with (from tensorflow.python.framework.ops) is deprecated and will be removed in a future version.\n",
            "Instructions for updating:\n",
            "Colocations handled automatically by placer.\n",
            "WARNING:tensorflow:From /usr/local/lib/python3.6/dist-packages/keras/backend/tensorflow_backend.py:3445: calling dropout (from tensorflow.python.ops.nn_ops) with keep_prob is deprecated and will be removed in a future version.\n",
            "Instructions for updating:\n",
            "Please use `rate` instead of `keep_prob`. Rate should be set to `rate = 1 - keep_prob`.\n",
            "WARNING:tensorflow:From /usr/local/lib/python3.6/dist-packages/tensorflow/python/ops/math_ops.py:3066: to_int32 (from tensorflow.python.ops.math_ops) is deprecated and will be removed in a future version.\n",
            "Instructions for updating:\n",
            "Use tf.cast instead.\n"
          ],
          "name": "stdout"
        }
      ]
    },
    {
      "cell_type": "code",
      "metadata": {
        "id": "AtsH-lLk-eLb",
        "colab_type": "code",
        "colab": {}
      },
      "source": [
        "# Evaluating the model on the Test data using the weights of last epoch. Returns the loss value & metrics values for the model in test mode.\n",
        "score = model.evaluate(X_test, Y_test, verbose=0)"
      ],
      "execution_count": 0,
      "outputs": []
    },
    {
      "cell_type": "code",
      "metadata": {
        "id": "mkX8JMv79q9r",
        "colab_type": "code",
        "outputId": "4fbebae6-8a40-47e0-aa6b-868178e293b5",
        "colab": {
          "base_uri": "https://localhost:8080/",
          "height": 34
        }
      },
      "source": [
        "# Printing the evaluation result\n",
        "print(score);"
      ],
      "execution_count": 14,
      "outputs": [
        {
          "output_type": "stream",
          "text": [
            "[0.019207304584793746, 0.9948]\n"
          ],
          "name": "stdout"
        }
      ]
    },
    {
      "cell_type": "code",
      "metadata": {
        "id": "OCWoJkwE9suh",
        "colab_type": "code",
        "colab": {}
      },
      "source": [
        "# Generates output predictions for the input samples.\n",
        "y_pred = model.predict(X_test)"
      ],
      "execution_count": 0,
      "outputs": []
    },
    {
      "cell_type": "code",
      "metadata": {
        "id": "Ym7iCFBm9uBs",
        "colab_type": "code",
        "outputId": "79860bac-95b4-4e87-a7dd-1984e0768036",
        "colab": {
          "base_uri": "https://localhost:8080/",
          "height": 493
        }
      },
      "source": [
        "# Printing the outputs. y_pred results do not look correct.\n",
        "print(y_pred[:9])\n",
        "print(y_test[:9])"
      ],
      "execution_count": 19,
      "outputs": [
        {
          "output_type": "stream",
          "text": [
            "[[1.15206615e-06 8.08614061e-07 7.23391565e-07 4.37452684e-07\n",
            "  3.65047504e-06 1.39677255e-07 1.84086735e-09 9.99987125e-01\n",
            "  3.71045878e-08 5.92522656e-06]\n",
            " [3.28371854e-08 2.09236973e-07 9.99998569e-01 1.11169595e-06\n",
            "  2.39673561e-08 1.05153774e-07 1.37188954e-08 4.85560214e-09\n",
            "  4.86182961e-09 9.63869089e-12]\n",
            " [2.56078492e-09 9.99995589e-01 9.62438875e-08 7.26704252e-09\n",
            "  7.51471759e-07 3.02010754e-08 2.91449598e-09 3.53880591e-06\n",
            "  1.07328466e-08 1.35273552e-08]\n",
            " [9.99997616e-01 3.20755159e-11 2.30342012e-09 4.79646323e-10\n",
            "  4.93433960e-09 1.56832936e-09 2.14587226e-06 4.11327306e-10\n",
            "  8.29461921e-09 1.94022391e-07]\n",
            " [4.03602374e-10 2.08760671e-08 3.39227557e-09 3.25001442e-10\n",
            "  9.99997497e-01 1.10705423e-12 6.65653431e-07 8.01599711e-08\n",
            "  2.69361311e-09 1.73787328e-06]\n",
            " [2.27273245e-09 9.99990225e-01 1.48765153e-07 1.25939366e-08\n",
            "  1.11729321e-06 2.31943424e-08 1.51122836e-09 8.54954760e-06\n",
            "  1.84066682e-08 2.87518098e-08]\n",
            " [1.10732451e-10 3.97944223e-06 1.08819069e-08 7.86604488e-08\n",
            "  9.99939203e-01 3.77181758e-11 1.19624011e-09 2.40797381e-05\n",
            "  1.25417987e-09 3.26437657e-05]\n",
            " [8.82439934e-08 2.56116306e-09 6.86757531e-08 5.68587444e-09\n",
            "  6.46600500e-04 1.45322714e-08 2.37864668e-07 4.32857496e-06\n",
            "  7.35466642e-07 9.99347985e-01]\n",
            " [1.38572972e-07 9.35454167e-08 1.19249177e-09 4.89077638e-06\n",
            "  4.22616803e-10 9.98869002e-01 1.03642966e-03 5.19056499e-11\n",
            "  3.64468833e-05 5.29287499e-05]]\n",
            "[7 2 1 0 4 1 4 9 5]\n"
          ],
          "name": "stdout"
        }
      ]
    },
    {
      "cell_type": "code",
      "metadata": {
        "id": "CT--y98_dr2T",
        "colab_type": "code",
        "colab": {}
      },
      "source": [
        "layer_dict = dict([(layer.name, layer) for layer in model.layers])"
      ],
      "execution_count": 0,
      "outputs": []
    },
    {
      "cell_type": "code",
      "metadata": {
        "id": "2GY4Upv4dsUR",
        "colab_type": "code",
        "colab": {}
      },
      "source": [
        "import numpy as np\n",
        "from matplotlib import pyplot as plt\n",
        "from keras import backend as K\n",
        "%matplotlib inline\n",
        "# util function to convert a tensor into a valid image\n",
        "def deprocess_image(x):\n",
        "    # normalize tensor: center on 0., ensure std is 0.1\n",
        "    x -= x.mean()\n",
        "    x /= (x.std() + 1e-5)\n",
        "    x *= 0.1\n",
        "\n",
        "    # clip to [0, 1]\n",
        "    x += 0.5\n",
        "    x = np.clip(x, 0, 1)\n",
        "\n",
        "    # convert to RGB array\n",
        "    x *= 255\n",
        "    #x = x.transpose((1, 2, 0))\n",
        "    x = np.clip(x, 0, 255).astype('uint8')\n",
        "    return x\n",
        "\n",
        "def vis_img_in_filter(img = np.array(X_train[2]).reshape((1, 28, 28, 1)).astype(np.float64), \n",
        "                      layer_name = 'conv2d_92'):\n",
        "    layer_output = layer_dict[layer_name].output\n",
        "    img_ascs = list()\n",
        "    for filter_index in range(layer_output.shape[3]):\n",
        "        # build a loss function that maximizes the activation\n",
        "        # of the nth filter of the layer considered\n",
        "        loss = K.mean(layer_output[:, :, :, filter_index])\n",
        "\n",
        "        # compute the gradient of the input picture wrt this loss\n",
        "        grads = K.gradients(loss, model.input)[0]\n",
        "\n",
        "        # normalization trick: we normalize the gradient\n",
        "        grads /= (K.sqrt(K.mean(K.square(grads))) + 1e-5)\n",
        "\n",
        "        # this function returns the loss and grads given the input picture\n",
        "        iterate = K.function([model.input], [loss, grads])\n",
        "\n",
        "        # step size for gradient ascent\n",
        "        step = 5.\n",
        "\n",
        "        img_asc = np.array(img)\n",
        "        # run gradient ascent for 20 steps\n",
        "        for i in range(20):\n",
        "            loss_value, grads_value = iterate([img_asc])\n",
        "            img_asc += grads_value * step\n",
        "\n",
        "        img_asc = img_asc[0]\n",
        "        img_ascs.append(deprocess_image(img_asc).reshape((28, 28)))\n",
        "        \n",
        "    if layer_output.shape[3] >= 35:\n",
        "        plot_x, plot_y = 6, 6\n",
        "    elif layer_output.shape[3] >= 23:\n",
        "        plot_x, plot_y = 4, 6\n",
        "    elif layer_output.shape[3] >= 11:\n",
        "        plot_x, plot_y = 2, 6\n",
        "    else:\n",
        "        plot_x, plot_y = 1, 2\n",
        "    fig, ax = plt.subplots(plot_x, plot_y, figsize = (12, 12))\n",
        "    ax[0, 0].imshow(img.reshape((28, 28)), cmap = 'gray')\n",
        "    ax[0, 0].set_title('Input image')\n",
        "    fig.suptitle('Input image and %s filters' % (layer_name,))\n",
        "    fig.tight_layout(pad = 0.3, rect = [0, 0, 0.9, 0.9])\n",
        "    for (x, y) in [(i, j) for i in range(plot_x) for j in range(plot_y)]:\n",
        "        if x == 0 and y == 0:\n",
        "            continue\n",
        "        ax[x, y].imshow(img_ascs[x * plot_y + y - 1], cmap = 'gray')\n",
        "        ax[x, y].set_title('filter %d' % (x * plot_y + y - 1))\n",
        "\n",
        "vis_img_in_filter()"
      ],
      "execution_count": 0,
      "outputs": []
    },
    {
      "cell_type": "code",
      "metadata": {
        "id": "9tvptcn8dxvp",
        "colab_type": "code",
        "colab": {}
      },
      "source": [
        ""
      ],
      "execution_count": 0,
      "outputs": []
    }
  ]
}